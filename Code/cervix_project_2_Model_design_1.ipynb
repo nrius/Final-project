{
 "cells": [
  {
   "cell_type": "markdown",
   "metadata": {},
   "source": [
    "# Part2. Model design 1 "
   ]
  },
  {
   "cell_type": "code",
   "execution_count": 10,
   "metadata": {},
   "outputs": [],
   "source": [
    "import pandas as pd\n",
    "import numpy as np\n",
    "import matplotlib.pyplot as plt\n",
    "\n",
    "import tensorflow as tf\n",
    "from tensorflow.keras.models import Sequential\n",
    "from tensorflow.keras.layers import Dense\n",
    "from tensorflow.keras.layers import Dropout\n",
    "from tensorflow.keras.metrics import SpecificityAtSensitivity\n",
    "from sklearn.metrics import confusion_matrix\n",
    "from sklearn.metrics import ConfusionMatrixDisplay"
   ]
  },
  {
   "cell_type": "code",
   "execution_count": 11,
   "metadata": {},
   "outputs": [],
   "source": [
    "#load the original data\n",
    "df1=pd.read_csv(\"../Data/kag_risk_factors_cervical_cancer.csv\")\n",
    "\n",
    "#load the processed datasets:\n",
    "X_train=pd.read_csv(\"../Data/X_train_preprocessed.csv\")\n",
    "X_test=pd.read_csv(\"../Data/X_test_preprocessed.csv\")\n",
    "X_validate=pd.read_csv(\"../Data/X_validate_preprocessed.csv\")\n",
    "y_train=pd.read_csv(\"../Data/y_train_preprocessed.csv\")\n",
    "y_test=pd.read_csv(\"../Data/y_test_preprocessed.csv\")\n",
    "y_validate=pd.read_csv(\"../Data/y_validate_preprocessed.csv\")\n",
    "\n",
    "X_t_whole=pd.read_csv(\"../Data/X_t_whole.csv\")\n",
    "y_t_whole=pd.read_csv(\"../Data/y_t_whole.csv\")"
   ]
  },
  {
   "cell_type": "code",
   "execution_count": 12,
   "metadata": {},
   "outputs": [
    {
     "data": {
      "text/html": [
       "<div>\n",
       "<style scoped>\n",
       "    .dataframe tbody tr th:only-of-type {\n",
       "        vertical-align: middle;\n",
       "    }\n",
       "\n",
       "    .dataframe tbody tr th {\n",
       "        vertical-align: top;\n",
       "    }\n",
       "\n",
       "    .dataframe thead th {\n",
       "        text-align: right;\n",
       "    }\n",
       "</style>\n",
       "<table border=\"1\" class=\"dataframe\">\n",
       "  <thead>\n",
       "    <tr style=\"text-align: right;\">\n",
       "      <th></th>\n",
       "      <th>Age</th>\n",
       "      <th>Number of sexual partners</th>\n",
       "      <th>First sexual intercourse</th>\n",
       "      <th>Num of pregnancies</th>\n",
       "      <th>Smokes</th>\n",
       "      <th>Smokes (years)</th>\n",
       "      <th>Smokes (packs/year)</th>\n",
       "      <th>Hormonal Contraceptives</th>\n",
       "      <th>Hormonal Contraceptives (years)</th>\n",
       "      <th>IUD</th>\n",
       "      <th>...</th>\n",
       "      <th>STDs:Hepatitis B</th>\n",
       "      <th>STDs:HPV</th>\n",
       "      <th>STDs: Number of diagnosis</th>\n",
       "      <th>Dx:Cancer</th>\n",
       "      <th>Dx:CIN</th>\n",
       "      <th>Dx:HPV</th>\n",
       "      <th>Dx</th>\n",
       "      <th>Hinselmann</th>\n",
       "      <th>Schiller</th>\n",
       "      <th>Citology</th>\n",
       "    </tr>\n",
       "  </thead>\n",
       "  <tbody>\n",
       "    <tr>\n",
       "      <th>654</th>\n",
       "      <td>-0.587772</td>\n",
       "      <td>-0.879301</td>\n",
       "      <td>-0.001620</td>\n",
       "      <td>-0.137403</td>\n",
       "      <td>0.0</td>\n",
       "      <td>-0.307318</td>\n",
       "      <td>-0.208218</td>\n",
       "      <td>1.0</td>\n",
       "      <td>-0.510729</td>\n",
       "      <td>1.0</td>\n",
       "      <td>...</td>\n",
       "      <td>0.0</td>\n",
       "      <td>0.0</td>\n",
       "      <td>0.0</td>\n",
       "      <td>0.0</td>\n",
       "      <td>0.0</td>\n",
       "      <td>0.0</td>\n",
       "      <td>0.0</td>\n",
       "      <td>0.0</td>\n",
       "      <td>0.0</td>\n",
       "      <td>0.0</td>\n",
       "    </tr>\n",
       "    <tr>\n",
       "      <th>655</th>\n",
       "      <td>0.355828</td>\n",
       "      <td>-0.302480</td>\n",
       "      <td>-1.418945</td>\n",
       "      <td>0.561330</td>\n",
       "      <td>1.0</td>\n",
       "      <td>4.945406</td>\n",
       "      <td>1.145403</td>\n",
       "      <td>0.0</td>\n",
       "      <td>-0.556973</td>\n",
       "      <td>0.0</td>\n",
       "      <td>...</td>\n",
       "      <td>0.0</td>\n",
       "      <td>0.0</td>\n",
       "      <td>1.0</td>\n",
       "      <td>0.0</td>\n",
       "      <td>0.0</td>\n",
       "      <td>0.0</td>\n",
       "      <td>0.0</td>\n",
       "      <td>1.0</td>\n",
       "      <td>1.0</td>\n",
       "      <td>0.0</td>\n",
       "    </tr>\n",
       "  </tbody>\n",
       "</table>\n",
       "<p>2 rows × 31 columns</p>\n",
       "</div>"
      ],
      "text/plain": [
       "          Age  Number of sexual partners  First sexual intercourse  \\\n",
       "654 -0.587772                  -0.879301                 -0.001620   \n",
       "655  0.355828                  -0.302480                 -1.418945   \n",
       "\n",
       "     Num of pregnancies  Smokes  Smokes (years)  Smokes (packs/year)  \\\n",
       "654           -0.137403     0.0       -0.307318            -0.208218   \n",
       "655            0.561330     1.0        4.945406             1.145403   \n",
       "\n",
       "     Hormonal Contraceptives  Hormonal Contraceptives (years)  IUD  ...  \\\n",
       "654                      1.0                        -0.510729  1.0  ...   \n",
       "655                      0.0                        -0.556973  0.0  ...   \n",
       "\n",
       "     STDs:Hepatitis B  STDs:HPV  STDs: Number of diagnosis  Dx:Cancer  Dx:CIN  \\\n",
       "654               0.0       0.0                        0.0        0.0     0.0   \n",
       "655               0.0       0.0                        1.0        0.0     0.0   \n",
       "\n",
       "     Dx:HPV   Dx  Hinselmann  Schiller  Citology  \n",
       "654     0.0  0.0         0.0       0.0       0.0  \n",
       "655     0.0  0.0         1.0       1.0       0.0  \n",
       "\n",
       "[2 rows x 31 columns]"
      ]
     },
     "execution_count": 12,
     "metadata": {},
     "output_type": "execute_result"
    }
   ],
   "source": [
    "#show the processed X_train file:\n",
    "X_train.tail(2)"
   ]
  },
  {
   "cell_type": "code",
   "execution_count": 13,
   "metadata": {},
   "outputs": [
    {
     "data": {
      "text/html": [
       "<div>\n",
       "<style scoped>\n",
       "    .dataframe tbody tr th:only-of-type {\n",
       "        vertical-align: middle;\n",
       "    }\n",
       "\n",
       "    .dataframe tbody tr th {\n",
       "        vertical-align: top;\n",
       "    }\n",
       "\n",
       "    .dataframe thead th {\n",
       "        text-align: right;\n",
       "    }\n",
       "</style>\n",
       "<table border=\"1\" class=\"dataframe\">\n",
       "  <thead>\n",
       "    <tr style=\"text-align: right;\">\n",
       "      <th></th>\n",
       "      <th>Biopsy</th>\n",
       "    </tr>\n",
       "  </thead>\n",
       "  <tbody>\n",
       "    <tr>\n",
       "      <th>654</th>\n",
       "      <td>0</td>\n",
       "    </tr>\n",
       "    <tr>\n",
       "      <th>655</th>\n",
       "      <td>1</td>\n",
       "    </tr>\n",
       "  </tbody>\n",
       "</table>\n",
       "</div>"
      ],
      "text/plain": [
       "     Biopsy\n",
       "654       0\n",
       "655       1"
      ]
     },
     "execution_count": 13,
     "metadata": {},
     "output_type": "execute_result"
    }
   ],
   "source": [
    "# and the labels:\n",
    "y_train.tail(2)"
   ]
  },
  {
   "cell_type": "markdown",
   "metadata": {},
   "source": [
    "## Model"
   ]
  },
  {
   "cell_type": "markdown",
   "metadata": {},
   "source": [
    "Let's try a neural network model and see if the recall increases:"
   ]
  },
  {
   "cell_type": "markdown",
   "metadata": {},
   "source": [
    "Imbalance in the total dataset:"
   ]
  },
  {
   "cell_type": "code",
   "execution_count": 14,
   "metadata": {},
   "outputs": [
    {
     "name": "stdout",
     "output_type": "stream",
     "text": [
      "Examples:\n",
      "    Total: 858\n",
      "    Positive: 55 (6.41% of total)\n",
      "\n"
     ]
    }
   ],
   "source": [
    "neg, pos = np.bincount(df1['Biopsy'])\n",
    "total = neg + pos\n",
    "print('Examples:\\n    Total: {}\\n    Positive: {} ({:.2f}% of total)\\n'.format(\n",
    "    total, pos, 100 * pos / total))\n"
   ]
  },
  {
   "cell_type": "code",
   "execution_count": 15,
   "metadata": {},
   "outputs": [
    {
     "name": "stdout",
     "output_type": "stream",
     "text": [
      "Model: \"sequential\"\n",
      "_________________________________________________________________\n",
      "Layer (type)                 Output Shape              Param #   \n",
      "=================================================================\n",
      "dense (Dense)                (None, 500)               16000     \n",
      "_________________________________________________________________\n",
      "dropout (Dropout)            (None, 500)               0         \n",
      "_________________________________________________________________\n",
      "dense_1 (Dense)              (None, 500)               250500    \n",
      "_________________________________________________________________\n",
      "dropout_1 (Dropout)          (None, 500)               0         \n",
      "_________________________________________________________________\n",
      "dense_2 (Dense)              (None, 500)               250500    \n",
      "_________________________________________________________________\n",
      "dropout_2 (Dropout)          (None, 500)               0         \n",
      "_________________________________________________________________\n",
      "dense_3 (Dense)              (None, 500)               250500    \n",
      "_________________________________________________________________\n",
      "dropout_3 (Dropout)          (None, 500)               0         \n",
      "_________________________________________________________________\n",
      "dense_4 (Dense)              (None, 1)                 501       \n",
      "=================================================================\n",
      "Total params: 768,001\n",
      "Trainable params: 768,001\n",
      "Non-trainable params: 0\n",
      "_________________________________________________________________\n",
      "None\n",
      "Epoch 1/50\n",
      "17/17 - 1s - loss: 0.4595 - precision: 0.0000e+00 - recall: 0.0000e+00 - accuracy: 0.9103 - val_loss: 0.1911 - val_precision: 0.0000e+00 - val_recall: 0.0000e+00 - val_accuracy: 0.9621\n",
      "Epoch 2/50\n",
      "17/17 - 0s - loss: 0.2280 - precision: 0.0000e+00 - recall: 0.0000e+00 - accuracy: 0.9313 - val_loss: 0.1293 - val_precision: 0.0000e+00 - val_recall: 0.0000e+00 - val_accuracy: 0.9621\n",
      "Epoch 3/50\n",
      "17/17 - 0s - loss: 0.1657 - precision: 0.0000e+00 - recall: 0.0000e+00 - accuracy: 0.9313 - val_loss: 0.0963 - val_precision: 0.0000e+00 - val_recall: 0.0000e+00 - val_accuracy: 0.9621\n",
      "Epoch 4/50\n",
      "17/17 - 0s - loss: 0.1390 - precision: 0.0000e+00 - recall: 0.0000e+00 - accuracy: 0.9313 - val_loss: 0.0811 - val_precision: 0.0000e+00 - val_recall: 0.0000e+00 - val_accuracy: 0.9621\n",
      "Epoch 5/50\n",
      "17/17 - 0s - loss: 0.1057 - precision: 0.0000e+00 - recall: 0.0000e+00 - accuracy: 0.9313 - val_loss: 0.0567 - val_precision: 0.0000e+00 - val_recall: 0.0000e+00 - val_accuracy: 0.9621\n",
      "Epoch 6/50\n",
      "17/17 - 0s - loss: 0.0962 - precision: 0.0000e+00 - recall: 0.0000e+00 - accuracy: 0.9313 - val_loss: 0.0490 - val_precision: 0.0000e+00 - val_recall: 0.0000e+00 - val_accuracy: 0.9621\n",
      "Epoch 7/50\n",
      "17/17 - 0s - loss: 0.0851 - precision: 1.0000 - recall: 0.0278 - accuracy: 0.9332 - val_loss: 0.0607 - val_precision: 0.6667 - val_recall: 0.4000 - val_accuracy: 0.9697\n",
      "Epoch 8/50\n",
      "17/17 - 0s - loss: 0.0836 - precision: 0.8696 - recall: 0.5556 - accuracy: 0.9637 - val_loss: 0.0638 - val_precision: 0.6667 - val_recall: 0.4000 - val_accuracy: 0.9697\n",
      "Epoch 9/50\n",
      "17/17 - 0s - loss: 0.0796 - precision: 0.8438 - recall: 0.7500 - accuracy: 0.9733 - val_loss: 0.0421 - val_precision: 0.7500 - val_recall: 0.6000 - val_accuracy: 0.9773\n",
      "Epoch 10/50\n",
      "17/17 - 0s - loss: 0.0673 - precision: 0.8000 - recall: 0.8889 - accuracy: 0.9771 - val_loss: 0.0441 - val_precision: 0.6667 - val_recall: 0.8000 - val_accuracy: 0.9773\n",
      "Epoch 11/50\n",
      "17/17 - 0s - loss: 0.0484 - precision: 0.8500 - recall: 0.9444 - accuracy: 0.9847 - val_loss: 0.0421 - val_precision: 0.6667 - val_recall: 0.8000 - val_accuracy: 0.9773\n",
      "Epoch 12/50\n",
      "17/17 - 0s - loss: 0.0427 - precision: 0.8333 - recall: 0.9722 - accuracy: 0.9847 - val_loss: 0.0965 - val_precision: 0.6667 - val_recall: 0.8000 - val_accuracy: 0.9773\n",
      "Epoch 13/50\n",
      "17/17 - 0s - loss: 0.0357 - precision: 0.8537 - recall: 0.9722 - accuracy: 0.9866 - val_loss: 0.1624 - val_precision: 0.5000 - val_recall: 0.2000 - val_accuracy: 0.9621\n",
      "Epoch 14/50\n",
      "17/17 - 0s - loss: 0.0622 - precision: 0.8750 - recall: 0.7778 - accuracy: 0.9771 - val_loss: 0.0879 - val_precision: 0.6000 - val_recall: 0.6000 - val_accuracy: 0.9697\n",
      "Epoch 15/50\n",
      "17/17 - 0s - loss: 0.0412 - precision: 0.8611 - recall: 0.8611 - accuracy: 0.9809 - val_loss: 0.1136 - val_precision: 0.6667 - val_recall: 0.4000 - val_accuracy: 0.9697\n",
      "Epoch 16/50\n",
      "17/17 - 0s - loss: 0.0431 - precision: 0.8684 - recall: 0.9167 - accuracy: 0.9847 - val_loss: 0.0829 - val_precision: 0.6000 - val_recall: 0.6000 - val_accuracy: 0.9697\n",
      "Epoch 17/50\n",
      "17/17 - 0s - loss: 0.0550 - precision: 0.8250 - recall: 0.9167 - accuracy: 0.9809 - val_loss: 0.0515 - val_precision: 0.5000 - val_recall: 0.4000 - val_accuracy: 0.9621\n",
      "Epoch 18/50\n",
      "17/17 - 0s - loss: 0.0331 - precision: 0.9394 - recall: 0.8611 - accuracy: 0.9866 - val_loss: 0.1173 - val_precision: 0.6667 - val_recall: 0.4000 - val_accuracy: 0.9697\n",
      "Epoch 19/50\n",
      "17/17 - 0s - loss: 0.0395 - precision: 0.8684 - recall: 0.9167 - accuracy: 0.9847 - val_loss: 0.1465 - val_precision: 0.3333 - val_recall: 0.2000 - val_accuracy: 0.9545\n",
      "Epoch 20/50\n",
      "17/17 - 0s - loss: 0.0486 - precision: 0.8889 - recall: 0.8889 - accuracy: 0.9847 - val_loss: 0.1542 - val_precision: 0.5000 - val_recall: 0.2000 - val_accuracy: 0.9621\n",
      "Epoch 21/50\n",
      "17/17 - 0s - loss: 0.0308 - precision: 0.9211 - recall: 0.9722 - accuracy: 0.9924 - val_loss: 0.0985 - val_precision: 0.6000 - val_recall: 0.6000 - val_accuracy: 0.9697\n",
      "Epoch 22/50\n",
      "17/17 - 0s - loss: 0.0196 - precision: 0.9459 - recall: 0.9722 - accuracy: 0.9943 - val_loss: 0.1491 - val_precision: 0.3333 - val_recall: 0.2000 - val_accuracy: 0.9545\n",
      "Epoch 23/50\n",
      "17/17 - 0s - loss: 0.0493 - precision: 0.9143 - recall: 0.8889 - accuracy: 0.9866 - val_loss: 0.0750 - val_precision: 0.7500 - val_recall: 0.6000 - val_accuracy: 0.9773\n",
      "Epoch 24/50\n",
      "17/17 - 0s - loss: 0.0256 - precision: 0.9211 - recall: 0.9722 - accuracy: 0.9924 - val_loss: 0.1248 - val_precision: 0.7500 - val_recall: 0.6000 - val_accuracy: 0.9773\n",
      "Epoch 25/50\n",
      "17/17 - 0s - loss: 0.0335 - precision: 0.9412 - recall: 0.8889 - accuracy: 0.9885 - val_loss: 0.1199 - val_precision: 0.7500 - val_recall: 0.6000 - val_accuracy: 0.9773\n",
      "Epoch 26/50\n",
      "17/17 - 0s - loss: 0.0340 - precision: 0.8947 - recall: 0.9444 - accuracy: 0.9885 - val_loss: 0.2631 - val_precision: 0.6667 - val_recall: 0.4000 - val_accuracy: 0.9697\n",
      "Epoch 27/50\n",
      "17/17 - 0s - loss: 0.0418 - precision: 0.9688 - recall: 0.8611 - accuracy: 0.9885 - val_loss: 0.1620 - val_precision: 0.6000 - val_recall: 0.6000 - val_accuracy: 0.9697\n",
      "Epoch 28/50\n",
      "17/17 - 0s - loss: 0.0150 - precision: 0.9444 - recall: 0.9444 - accuracy: 0.9924 - val_loss: 0.1596 - val_precision: 0.6000 - val_recall: 0.6000 - val_accuracy: 0.9697\n",
      "Epoch 29/50\n",
      "17/17 - 0s - loss: 0.0356 - precision: 0.8684 - recall: 0.9167 - accuracy: 0.9847 - val_loss: 0.2413 - val_precision: 0.5000 - val_recall: 0.2000 - val_accuracy: 0.9621\n",
      "Epoch 30/50\n",
      "17/17 - 0s - loss: 0.0522 - precision: 0.8889 - recall: 0.8889 - accuracy: 0.9847 - val_loss: 0.1250 - val_precision: 0.7500 - val_recall: 0.6000 - val_accuracy: 0.9773\n",
      "Epoch 31/50\n",
      "17/17 - 0s - loss: 0.0250 - precision: 0.9211 - recall: 0.9722 - accuracy: 0.9924 - val_loss: 0.1762 - val_precision: 0.5000 - val_recall: 0.4000 - val_accuracy: 0.9621\n",
      "Epoch 32/50\n",
      "17/17 - 0s - loss: 0.0310 - precision: 0.8889 - recall: 0.8889 - accuracy: 0.9847 - val_loss: 0.1366 - val_precision: 0.7500 - val_recall: 0.6000 - val_accuracy: 0.9773\n",
      "Epoch 33/50\n",
      "17/17 - 0s - loss: 0.0286 - precision: 0.9459 - recall: 0.9722 - accuracy: 0.9943 - val_loss: 0.1857 - val_precision: 0.5000 - val_recall: 0.4000 - val_accuracy: 0.9621\n",
      "Epoch 34/50\n",
      "17/17 - 0s - loss: 0.0230 - precision: 0.9429 - recall: 0.9167 - accuracy: 0.9905 - val_loss: 0.2561 - val_precision: 0.5000 - val_recall: 0.4000 - val_accuracy: 0.9621\n",
      "Epoch 35/50\n",
      "17/17 - 0s - loss: 0.0238 - precision: 0.9167 - recall: 0.9167 - accuracy: 0.9885 - val_loss: 0.1254 - val_precision: 0.6000 - val_recall: 0.6000 - val_accuracy: 0.9697\n",
      "Epoch 36/50\n",
      "17/17 - 0s - loss: 0.0145 - precision: 0.9211 - recall: 0.9722 - accuracy: 0.9924 - val_loss: 0.2342 - val_precision: 0.5000 - val_recall: 0.4000 - val_accuracy: 0.9621\n",
      "Epoch 37/50\n",
      "17/17 - 0s - loss: 0.0313 - precision: 0.9167 - recall: 0.9167 - accuracy: 0.9885 - val_loss: 0.3004 - val_precision: 0.5000 - val_recall: 0.4000 - val_accuracy: 0.9621\n"
     ]
    },
    {
     "name": "stdout",
     "output_type": "stream",
     "text": [
      "Epoch 38/50\n",
      "17/17 - 0s - loss: 0.0208 - precision: 0.9167 - recall: 0.9167 - accuracy: 0.9885 - val_loss: 0.3623 - val_precision: 0.5000 - val_recall: 0.2000 - val_accuracy: 0.9621\n",
      "Epoch 39/50\n",
      "17/17 - 0s - loss: 0.0244 - precision: 0.9714 - recall: 0.9444 - accuracy: 0.9943 - val_loss: 0.2009 - val_precision: 0.6667 - val_recall: 0.4000 - val_accuracy: 0.9697\n",
      "Epoch 40/50\n",
      "17/17 - 0s - loss: 0.0120 - precision: 0.9459 - recall: 0.9722 - accuracy: 0.9943 - val_loss: 0.1782 - val_precision: 0.7500 - val_recall: 0.6000 - val_accuracy: 0.9773\n",
      "Epoch 41/50\n",
      "17/17 - 0s - loss: 0.0456 - precision: 0.9091 - recall: 0.8333 - accuracy: 0.9828 - val_loss: 0.3570 - val_precision: 0.5000 - val_recall: 0.2000 - val_accuracy: 0.9621\n",
      "Epoch 42/50\n",
      "17/17 - 0s - loss: 0.0328 - precision: 0.9167 - recall: 0.9167 - accuracy: 0.9885 - val_loss: 0.2073 - val_precision: 0.6667 - val_recall: 0.4000 - val_accuracy: 0.9697\n",
      "Epoch 43/50\n",
      "17/17 - 0s - loss: 0.0188 - precision: 0.8974 - recall: 0.9722 - accuracy: 0.9905 - val_loss: 0.2998 - val_precision: 0.5000 - val_recall: 0.2000 - val_accuracy: 0.9621\n",
      "Epoch 44/50\n",
      "17/17 - 0s - loss: 0.0173 - precision: 0.9459 - recall: 0.9722 - accuracy: 0.9943 - val_loss: 0.2915 - val_precision: 0.5000 - val_recall: 0.4000 - val_accuracy: 0.9621\n",
      "Epoch 45/50\n",
      "17/17 - 0s - loss: 0.0264 - precision: 0.9459 - recall: 0.9722 - accuracy: 0.9943 - val_loss: 0.1505 - val_precision: 0.7500 - val_recall: 0.6000 - val_accuracy: 0.9773\n",
      "Epoch 46/50\n",
      "17/17 - 0s - loss: 0.0183 - precision: 0.9459 - recall: 0.9722 - accuracy: 0.9943 - val_loss: 0.1056 - val_precision: 0.7500 - val_recall: 0.6000 - val_accuracy: 0.9773\n",
      "Epoch 47/50\n",
      "17/17 - 0s - loss: 0.0106 - precision: 0.9722 - recall: 0.9722 - accuracy: 0.9962 - val_loss: 0.1134 - val_precision: 0.7500 - val_recall: 0.6000 - val_accuracy: 0.9773\n",
      "Epoch 48/50\n",
      "17/17 - 0s - loss: 0.0149 - precision: 0.9189 - recall: 0.9444 - accuracy: 0.9905 - val_loss: 0.2070 - val_precision: 0.7500 - val_recall: 0.6000 - val_accuracy: 0.9773\n",
      "Epoch 49/50\n",
      "17/17 - 0s - loss: 0.0121 - precision: 0.9459 - recall: 0.9722 - accuracy: 0.9943 - val_loss: 0.3592 - val_precision: 0.6667 - val_recall: 0.4000 - val_accuracy: 0.9697\n",
      "Epoch 50/50\n",
      "17/17 - 0s - loss: 0.0090 - precision: 0.9444 - recall: 0.9444 - accuracy: 0.9924 - val_loss: 0.2838 - val_precision: 0.5000 - val_recall: 0.4000 - val_accuracy: 0.9621\n"
     ]
    }
   ],
   "source": [
    "\n",
    "model = Sequential() \n",
    "\n",
    "#Input layer\n",
    "model.add(Dense(units=500, \n",
    "            input_dim=31, # I have 31 features\n",
    "            kernel_initializer='uniform', # all features have the same weight\n",
    "            activation='relu'\n",
    "               ))\n",
    "model.add(Dropout(0.5))  #randomly sets 0.5 units to 0. To prevent overfitting\n",
    "#Hidden layer 1\n",
    "model.add(Dense(units=500,  \n",
    "                kernel_initializer='uniform', \n",
    "                activation='relu'))\n",
    "model.add(Dropout(0.5))\n",
    "\n",
    "#Hidden layer 2\n",
    "model.add(Dense(units=500,  \n",
    "                kernel_initializer='uniform', \n",
    "                activation='relu'))\n",
    "model.add(Dropout(0.5))\n",
    "\n",
    "#Hidden layer 3\n",
    "model.add(Dense(units=500,  \n",
    "                kernel_initializer='uniform', \n",
    "                activation='relu'))\n",
    "model.add(Dropout(0.5))\n",
    "\n",
    "#Output layer\n",
    "model.add(Dense(units=1,\n",
    "                kernel_initializer='uniform', \n",
    "                activation='sigmoid'))\n",
    "\n",
    "\n",
    "print(model.summary()) #for showing the structure and parameters\n",
    "\n",
    "# Defining how to measure performance\n",
    "model.compile(loss='binary_crossentropy',   \n",
    "              optimizer='adam',\n",
    "               metrics=[tf.keras.metrics.Precision(), tf.keras.metrics.Recall(),'accuracy'])\n",
    "\n",
    "\n",
    "# Train the model\n",
    "# Verbose=2, showing loss and accuracy change timely\n",
    "#remove batch_size, the dataset is small. ->  training the network with the whole ds increases recall.\n",
    "train_history = model.fit(x=X_train, y=y_train,  \n",
    "                          validation_split=0.2, epochs=50, verbose=2) \n",
    "\n"
   ]
  },
  {
   "cell_type": "code",
   "execution_count": null,
   "metadata": {},
   "outputs": [],
   "source": []
  },
  {
   "cell_type": "code",
   "execution_count": 16,
   "metadata": {},
   "outputs": [],
   "source": [
    "def show_train_history(train_history,train,validation):\n",
    "    '''\n",
    "    Function to plot the metrics evolution during the network training\n",
    "    and validation\n",
    "    '''\n",
    "    plt.plot(train_history.history[train])\n",
    "    plt.plot(train_history.history[validation])\n",
    "    plt.title('Train History')\n",
    "    plt.ylabel(train)\n",
    "    plt.xlabel('Epoch')\n",
    "    plt.legend(['train', 'validation'], loc='best')\n",
    "    plt.show()"
   ]
  },
  {
   "cell_type": "code",
   "execution_count": 17,
   "metadata": {},
   "outputs": [
    {
     "data": {
      "image/png": "[encoded data removed]",
      "text/plain": [
       "<Figure size 432x288 with 1 Axes>"
      ]
     },
     "metadata": {
      "needs_background": "light"
     },
     "output_type": "display_data"
    },
    {
     "data": {
      "image/png": "[encoded data removed]",
      "text/plain": [
       "<Figure size 432x288 with 1 Axes>"
      ]
     },
     "metadata": {
      "needs_background": "light"
     },
     "output_type": "display_data"
    }
   ],
   "source": [
    "#visualize the loss and accuracy after each epoch\n",
    "show_train_history(train_history,'accuracy','val_accuracy')\n",
    "show_train_history(train_history,'loss','val_loss')\n",
    "\n"
   ]
  },
  {
   "cell_type": "code",
   "execution_count": 19,
   "metadata": {},
   "outputs": [
    {
     "data": {
      "image/png": "[encoded data removed]",
      "text/plain": [
       "<Figure size 432x288 with 1 Axes>"
      ]
     },
     "metadata": {
      "needs_background": "light"
     },
     "output_type": "display_data"
    }
   ],
   "source": [
    "#visualize recall, what we really want to increase, after each epoch\n",
    "show_train_history(train_history,'recall','val_recall')\n",
    "\n"
   ]
  },
  {
   "cell_type": "markdown",
   "metadata": {},
   "source": [
    "###  The recall increases after epoch 10, but it never gets higher than 0.6. We have an imbalenced sample"
   ]
  },
  {
   "cell_type": "markdown",
   "metadata": {},
   "source": [
    "### Look at the confussion matrix:"
   ]
  },
  {
   "cell_type": "code",
   "execution_count": 20,
   "metadata": {},
   "outputs": [
    {
     "name": "stdout",
     "output_type": "stream",
     "text": [
      "WARNING:tensorflow:From <ipython-input-20-8b34b2d49de9>:1: Sequential.predict_classes (from tensorflow.python.keras.engine.sequential) is deprecated and will be removed after 2021-01-01.\n",
      "Instructions for updating:\n",
      "Please use instead:* `np.argmax(model.predict(x), axis=-1)`,   if your model does multi-class classification   (e.g. if it uses a `softmax` last-layer activation).* `(model.predict(x) > 0.5).astype(\"int32\")`,   if your model does binary classification   (e.g. if it uses a `sigmoid` last-layer activation).\n",
      "4/4 [==============================] - 0s 7ms/step\n"
     ]
    },
    {
     "data": {
      "image/png": "[encoded data removed]",
      "text/plain": [
       "<Figure size 432x288 with 2 Axes>"
      ]
     },
     "metadata": {
      "needs_background": "light"
     },
     "output_type": "display_data"
    }
   ],
   "source": [
    "y_pred_test=model.predict_classes(X_test, verbose=1)\n",
    "cm = confusion_matrix(y_test, y_pred_test)\n",
    "cm_display = ConfusionMatrixDisplay(cm).plot()"
   ]
  },
  {
   "cell_type": "code",
   "execution_count": 21,
   "metadata": {},
   "outputs": [
    {
     "name": "stdout",
     "output_type": "stream",
     "text": [
      "3/3 [==============================] - 0s 8ms/step\n"
     ]
    },
    {
     "data": {
      "image/png": "[encoded data removed]",
      "text/plain": [
       "<Figure size 432x288 with 2 Axes>"
      ]
     },
     "metadata": {
      "needs_background": "light"
     },
     "output_type": "display_data"
    }
   ],
   "source": [
    "y_pred_val=model.predict_classes(X_validate, verbose=1)\n",
    "cm = confusion_matrix(y_validate, y_pred_val)\n",
    "cm_display = ConfusionMatrixDisplay(cm).plot()"
   ]
  },
  {
   "cell_type": "code",
   "execution_count": 22,
   "metadata": {},
   "outputs": [
    {
     "name": "stdout",
     "output_type": "stream",
     "text": [
      "4/4 [==============================] - 0s 4ms/step - loss: 0.8224 - precision: 0.5556 - recall: 0.5556 - accuracy: 0.9310\n",
      "\n",
      "\n",
      "recall= 0.5555555820465088\n"
     ]
    }
   ],
   "source": [
    "scores = model.evaluate(X_test, y_test)\n",
    "print('\\n')\n",
    "print('recall=',scores[2])\n",
    "\n"
   ]
  },
  {
   "cell_type": "markdown",
   "metadata": {},
   "source": [
    "### Recall is still similar to what LR accomplished. We need a model designed specifically for imbalanced datasets. Let's try something new in \"cervix_project_2_Model_design_2\""
   ]
  }
 ],
 "metadata": {
  "kernelspec": {
   "display_name": "Python 3",
   "language": "python",
   "name": "python3"
  },
  "language_info": {
   "codemirror_mode": {
    "name": "ipython",
    "version": 3
   },
   "file_extension": ".py",
   "mimetype": "text/x-python",
   "name": "python",
   "nbconvert_exporter": "python",
   "pygments_lexer": "ipython3",
   "version": "3.8.5"
  }
 },
 "nbformat": 4,
 "nbformat_minor": 4
}

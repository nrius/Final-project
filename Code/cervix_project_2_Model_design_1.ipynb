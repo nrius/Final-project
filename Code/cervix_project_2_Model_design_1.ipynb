{
 "cells": [
  {
   "cell_type": "markdown",
   "metadata": {},
   "source": [
    "# Part2. Model design 1 "
   ]
  },
  {
   "cell_type": "code",
   "execution_count": 16,
   "metadata": {},
   "outputs": [],
   "source": [
    "import pandas as pd\n",
    "import numpy as np\n",
    "import matplotlib.pyplot as plt\n",
    "\n",
    "import tensorflow as tf\n",
    "from tensorflow.keras.models import Sequential\n",
    "from tensorflow.keras.layers import Dense\n",
    "from tensorflow.keras.layers import Dropout\n",
    "from tensorflow.keras.metrics import SpecificityAtSensitivity\n",
    "from sklearn.metrics import confusion_matrix\n",
    "from sklearn.metrics import ConfusionMatrixDisplay"
   ]
  },
  {
   "cell_type": "code",
   "execution_count": 2,
   "metadata": {},
   "outputs": [],
   "source": [
    "#load the original data\n",
    "df1=pd.read_csv(\"../Data/kag_risk_factors_cervical_cancer.csv\")\n",
    "\n",
    "#load the processed datasets:\n",
    "X_train=pd.read_csv(\"../Data/X_train_preprocessed.csv\")\n",
    "X_test=pd.read_csv(\"../Data/X_test_preprocessed.csv\")\n",
    "X_validate=pd.read_csv(\"../Data/X_validate_preprocessed.csv\")\n",
    "y_train=pd.read_csv(\"../Data/y_train_preprocessed.csv\")\n",
    "y_test=pd.read_csv(\"../Data/y_test_preprocessed.csv\")\n",
    "y_validate=pd.read_csv(\"../Data/y_validate_preprocessed.csv\")"
   ]
  },
  {
   "cell_type": "code",
   "execution_count": 3,
   "metadata": {},
   "outputs": [
    {
     "data": {
      "text/html": [
       "<div>\n",
       "<style scoped>\n",
       "    .dataframe tbody tr th:only-of-type {\n",
       "        vertical-align: middle;\n",
       "    }\n",
       "\n",
       "    .dataframe tbody tr th {\n",
       "        vertical-align: top;\n",
       "    }\n",
       "\n",
       "    .dataframe thead th {\n",
       "        text-align: right;\n",
       "    }\n",
       "</style>\n",
       "<table border=\"1\" class=\"dataframe\">\n",
       "  <thead>\n",
       "    <tr style=\"text-align: right;\">\n",
       "      <th></th>\n",
       "      <th>Age</th>\n",
       "      <th>Number of sexual partners</th>\n",
       "      <th>First sexual intercourse</th>\n",
       "      <th>Num of pregnancies</th>\n",
       "      <th>Smokes</th>\n",
       "      <th>Smokes (years)</th>\n",
       "      <th>Smokes (packs/year)</th>\n",
       "      <th>Hormonal Contraceptives</th>\n",
       "      <th>Hormonal Contraceptives (years)</th>\n",
       "      <th>IUD</th>\n",
       "      <th>...</th>\n",
       "      <th>STDs:Hepatitis B</th>\n",
       "      <th>STDs:HPV</th>\n",
       "      <th>STDs: Number of diagnosis</th>\n",
       "      <th>Dx:Cancer</th>\n",
       "      <th>Dx:CIN</th>\n",
       "      <th>Dx:HPV</th>\n",
       "      <th>Dx</th>\n",
       "      <th>Hinselmann</th>\n",
       "      <th>Schiller</th>\n",
       "      <th>Citology</th>\n",
       "    </tr>\n",
       "  </thead>\n",
       "  <tbody>\n",
       "    <tr>\n",
       "      <th>0</th>\n",
       "      <td>-1.531373</td>\n",
       "      <td>-0.302480</td>\n",
       "      <td>-1.064614</td>\n",
       "      <td>-0.836137</td>\n",
       "      <td>0.0</td>\n",
       "      <td>-0.307318</td>\n",
       "      <td>-0.208218</td>\n",
       "      <td>0.0</td>\n",
       "      <td>-0.556973</td>\n",
       "      <td>0.0</td>\n",
       "      <td>...</td>\n",
       "      <td>0.0</td>\n",
       "      <td>0.0</td>\n",
       "      <td>0.0</td>\n",
       "      <td>0.0</td>\n",
       "      <td>0.0</td>\n",
       "      <td>0.0</td>\n",
       "      <td>0.0</td>\n",
       "      <td>0.0</td>\n",
       "      <td>0.0</td>\n",
       "      <td>0.0</td>\n",
       "    </tr>\n",
       "    <tr>\n",
       "      <th>1</th>\n",
       "      <td>0.237878</td>\n",
       "      <td>1.427985</td>\n",
       "      <td>-0.001620</td>\n",
       "      <td>2.657531</td>\n",
       "      <td>1.0</td>\n",
       "      <td>-0.004815</td>\n",
       "      <td>0.325027</td>\n",
       "      <td>1.0</td>\n",
       "      <td>-0.412462</td>\n",
       "      <td>0.0</td>\n",
       "      <td>...</td>\n",
       "      <td>0.0</td>\n",
       "      <td>0.0</td>\n",
       "      <td>1.0</td>\n",
       "      <td>0.0</td>\n",
       "      <td>0.0</td>\n",
       "      <td>0.0</td>\n",
       "      <td>0.0</td>\n",
       "      <td>0.0</td>\n",
       "      <td>0.0</td>\n",
       "      <td>0.0</td>\n",
       "    </tr>\n",
       "    <tr>\n",
       "      <th>2</th>\n",
       "      <td>-0.941623</td>\n",
       "      <td>-0.302480</td>\n",
       "      <td>-0.710283</td>\n",
       "      <td>-0.137403</td>\n",
       "      <td>0.0</td>\n",
       "      <td>-0.307318</td>\n",
       "      <td>-0.208218</td>\n",
       "      <td>1.0</td>\n",
       "      <td>-0.412462</td>\n",
       "      <td>0.0</td>\n",
       "      <td>...</td>\n",
       "      <td>0.0</td>\n",
       "      <td>0.0</td>\n",
       "      <td>0.0</td>\n",
       "      <td>0.0</td>\n",
       "      <td>0.0</td>\n",
       "      <td>0.0</td>\n",
       "      <td>0.0</td>\n",
       "      <td>0.0</td>\n",
       "      <td>0.0</td>\n",
       "      <td>0.0</td>\n",
       "    </tr>\n",
       "    <tr>\n",
       "      <th>3</th>\n",
       "      <td>-0.823672</td>\n",
       "      <td>-0.302480</td>\n",
       "      <td>-0.710283</td>\n",
       "      <td>-0.836137</td>\n",
       "      <td>0.0</td>\n",
       "      <td>-0.307318</td>\n",
       "      <td>-0.208218</td>\n",
       "      <td>0.0</td>\n",
       "      <td>-0.556973</td>\n",
       "      <td>0.0</td>\n",
       "      <td>...</td>\n",
       "      <td>0.0</td>\n",
       "      <td>0.0</td>\n",
       "      <td>0.0</td>\n",
       "      <td>0.0</td>\n",
       "      <td>0.0</td>\n",
       "      <td>0.0</td>\n",
       "      <td>0.0</td>\n",
       "      <td>0.0</td>\n",
       "      <td>0.0</td>\n",
       "      <td>0.0</td>\n",
       "    </tr>\n",
       "    <tr>\n",
       "      <th>4</th>\n",
       "      <td>2.007129</td>\n",
       "      <td>0.274342</td>\n",
       "      <td>0.707042</td>\n",
       "      <td>-0.836137</td>\n",
       "      <td>0.0</td>\n",
       "      <td>-0.307318</td>\n",
       "      <td>-0.208218</td>\n",
       "      <td>0.0</td>\n",
       "      <td>-0.556973</td>\n",
       "      <td>0.0</td>\n",
       "      <td>...</td>\n",
       "      <td>0.0</td>\n",
       "      <td>0.0</td>\n",
       "      <td>0.0</td>\n",
       "      <td>0.0</td>\n",
       "      <td>0.0</td>\n",
       "      <td>0.0</td>\n",
       "      <td>0.0</td>\n",
       "      <td>0.0</td>\n",
       "      <td>0.0</td>\n",
       "      <td>0.0</td>\n",
       "    </tr>\n",
       "  </tbody>\n",
       "</table>\n",
       "<p>5 rows × 31 columns</p>\n",
       "</div>"
      ],
      "text/plain": [
       "        Age  Number of sexual partners  First sexual intercourse  \\\n",
       "0 -1.531373                  -0.302480                 -1.064614   \n",
       "1  0.237878                   1.427985                 -0.001620   \n",
       "2 -0.941623                  -0.302480                 -0.710283   \n",
       "3 -0.823672                  -0.302480                 -0.710283   \n",
       "4  2.007129                   0.274342                  0.707042   \n",
       "\n",
       "   Num of pregnancies  Smokes  Smokes (years)  Smokes (packs/year)  \\\n",
       "0           -0.836137     0.0       -0.307318            -0.208218   \n",
       "1            2.657531     1.0       -0.004815             0.325027   \n",
       "2           -0.137403     0.0       -0.307318            -0.208218   \n",
       "3           -0.836137     0.0       -0.307318            -0.208218   \n",
       "4           -0.836137     0.0       -0.307318            -0.208218   \n",
       "\n",
       "   Hormonal Contraceptives  Hormonal Contraceptives (years)  IUD  ...  \\\n",
       "0                      0.0                        -0.556973  0.0  ...   \n",
       "1                      1.0                        -0.412462  0.0  ...   \n",
       "2                      1.0                        -0.412462  0.0  ...   \n",
       "3                      0.0                        -0.556973  0.0  ...   \n",
       "4                      0.0                        -0.556973  0.0  ...   \n",
       "\n",
       "   STDs:Hepatitis B  STDs:HPV  STDs: Number of diagnosis  Dx:Cancer  Dx:CIN  \\\n",
       "0               0.0       0.0                        0.0        0.0     0.0   \n",
       "1               0.0       0.0                        1.0        0.0     0.0   \n",
       "2               0.0       0.0                        0.0        0.0     0.0   \n",
       "3               0.0       0.0                        0.0        0.0     0.0   \n",
       "4               0.0       0.0                        0.0        0.0     0.0   \n",
       "\n",
       "   Dx:HPV   Dx  Hinselmann  Schiller  Citology  \n",
       "0     0.0  0.0         0.0       0.0       0.0  \n",
       "1     0.0  0.0         0.0       0.0       0.0  \n",
       "2     0.0  0.0         0.0       0.0       0.0  \n",
       "3     0.0  0.0         0.0       0.0       0.0  \n",
       "4     0.0  0.0         0.0       0.0       0.0  \n",
       "\n",
       "[5 rows x 31 columns]"
      ]
     },
     "execution_count": 3,
     "metadata": {},
     "output_type": "execute_result"
    }
   ],
   "source": [
    "X_train.head()"
   ]
  },
  {
   "cell_type": "code",
   "execution_count": 4,
   "metadata": {},
   "outputs": [
    {
     "data": {
      "text/html": [
       "<div>\n",
       "<style scoped>\n",
       "    .dataframe tbody tr th:only-of-type {\n",
       "        vertical-align: middle;\n",
       "    }\n",
       "\n",
       "    .dataframe tbody tr th {\n",
       "        vertical-align: top;\n",
       "    }\n",
       "\n",
       "    .dataframe thead th {\n",
       "        text-align: right;\n",
       "    }\n",
       "</style>\n",
       "<table border=\"1\" class=\"dataframe\">\n",
       "  <thead>\n",
       "    <tr style=\"text-align: right;\">\n",
       "      <th></th>\n",
       "      <th>Age</th>\n",
       "      <th>Number of sexual partners</th>\n",
       "      <th>First sexual intercourse</th>\n",
       "      <th>Num of pregnancies</th>\n",
       "      <th>Smokes</th>\n",
       "      <th>Smokes (years)</th>\n",
       "      <th>Smokes (packs/year)</th>\n",
       "      <th>Hormonal Contraceptives</th>\n",
       "      <th>Hormonal Contraceptives (years)</th>\n",
       "      <th>IUD</th>\n",
       "      <th>...</th>\n",
       "      <th>STDs:Hepatitis B</th>\n",
       "      <th>STDs:HPV</th>\n",
       "      <th>STDs: Number of diagnosis</th>\n",
       "      <th>Dx:Cancer</th>\n",
       "      <th>Dx:CIN</th>\n",
       "      <th>Dx:HPV</th>\n",
       "      <th>Dx</th>\n",
       "      <th>Hinselmann</th>\n",
       "      <th>Schiller</th>\n",
       "      <th>Citology</th>\n",
       "    </tr>\n",
       "  </thead>\n",
       "  <tbody>\n",
       "    <tr>\n",
       "      <th>654</th>\n",
       "      <td>-0.587772</td>\n",
       "      <td>-0.879301</td>\n",
       "      <td>-0.001620</td>\n",
       "      <td>-0.137403</td>\n",
       "      <td>0.0</td>\n",
       "      <td>-0.307318</td>\n",
       "      <td>-0.208218</td>\n",
       "      <td>1.0</td>\n",
       "      <td>-0.510729</td>\n",
       "      <td>1.0</td>\n",
       "      <td>...</td>\n",
       "      <td>0.0</td>\n",
       "      <td>0.0</td>\n",
       "      <td>0.0</td>\n",
       "      <td>0.0</td>\n",
       "      <td>0.0</td>\n",
       "      <td>0.0</td>\n",
       "      <td>0.0</td>\n",
       "      <td>0.0</td>\n",
       "      <td>0.0</td>\n",
       "      <td>0.0</td>\n",
       "    </tr>\n",
       "    <tr>\n",
       "      <th>655</th>\n",
       "      <td>0.355828</td>\n",
       "      <td>-0.302480</td>\n",
       "      <td>-1.418945</td>\n",
       "      <td>0.561330</td>\n",
       "      <td>1.0</td>\n",
       "      <td>4.945406</td>\n",
       "      <td>1.145403</td>\n",
       "      <td>0.0</td>\n",
       "      <td>-0.556973</td>\n",
       "      <td>0.0</td>\n",
       "      <td>...</td>\n",
       "      <td>0.0</td>\n",
       "      <td>0.0</td>\n",
       "      <td>1.0</td>\n",
       "      <td>0.0</td>\n",
       "      <td>0.0</td>\n",
       "      <td>0.0</td>\n",
       "      <td>0.0</td>\n",
       "      <td>1.0</td>\n",
       "      <td>1.0</td>\n",
       "      <td>0.0</td>\n",
       "    </tr>\n",
       "  </tbody>\n",
       "</table>\n",
       "<p>2 rows × 31 columns</p>\n",
       "</div>"
      ],
      "text/plain": [
       "          Age  Number of sexual partners  First sexual intercourse  \\\n",
       "654 -0.587772                  -0.879301                 -0.001620   \n",
       "655  0.355828                  -0.302480                 -1.418945   \n",
       "\n",
       "     Num of pregnancies  Smokes  Smokes (years)  Smokes (packs/year)  \\\n",
       "654           -0.137403     0.0       -0.307318            -0.208218   \n",
       "655            0.561330     1.0        4.945406             1.145403   \n",
       "\n",
       "     Hormonal Contraceptives  Hormonal Contraceptives (years)  IUD  ...  \\\n",
       "654                      1.0                        -0.510729  1.0  ...   \n",
       "655                      0.0                        -0.556973  0.0  ...   \n",
       "\n",
       "     STDs:Hepatitis B  STDs:HPV  STDs: Number of diagnosis  Dx:Cancer  Dx:CIN  \\\n",
       "654               0.0       0.0                        0.0        0.0     0.0   \n",
       "655               0.0       0.0                        1.0        0.0     0.0   \n",
       "\n",
       "     Dx:HPV   Dx  Hinselmann  Schiller  Citology  \n",
       "654     0.0  0.0         0.0       0.0       0.0  \n",
       "655     0.0  0.0         1.0       1.0       0.0  \n",
       "\n",
       "[2 rows x 31 columns]"
      ]
     },
     "execution_count": 4,
     "metadata": {},
     "output_type": "execute_result"
    }
   ],
   "source": [
    "#show the processed X_train file:\n",
    "X_train.tail(2)"
   ]
  },
  {
   "cell_type": "code",
   "execution_count": 5,
   "metadata": {},
   "outputs": [
    {
     "data": {
      "text/html": [
       "<div>\n",
       "<style scoped>\n",
       "    .dataframe tbody tr th:only-of-type {\n",
       "        vertical-align: middle;\n",
       "    }\n",
       "\n",
       "    .dataframe tbody tr th {\n",
       "        vertical-align: top;\n",
       "    }\n",
       "\n",
       "    .dataframe thead th {\n",
       "        text-align: right;\n",
       "    }\n",
       "</style>\n",
       "<table border=\"1\" class=\"dataframe\">\n",
       "  <thead>\n",
       "    <tr style=\"text-align: right;\">\n",
       "      <th></th>\n",
       "      <th>Biopsy</th>\n",
       "    </tr>\n",
       "  </thead>\n",
       "  <tbody>\n",
       "    <tr>\n",
       "      <th>654</th>\n",
       "      <td>0</td>\n",
       "    </tr>\n",
       "    <tr>\n",
       "      <th>655</th>\n",
       "      <td>1</td>\n",
       "    </tr>\n",
       "  </tbody>\n",
       "</table>\n",
       "</div>"
      ],
      "text/plain": [
       "     Biopsy\n",
       "654       0\n",
       "655       1"
      ]
     },
     "execution_count": 5,
     "metadata": {},
     "output_type": "execute_result"
    }
   ],
   "source": [
    "y_train.tail(2)"
   ]
  },
  {
   "cell_type": "markdown",
   "metadata": {},
   "source": [
    "## Model"
   ]
  },
  {
   "cell_type": "code",
   "execution_count": 6,
   "metadata": {},
   "outputs": [],
   "source": [
    "def show_train_history(train_history,train,validation):\n",
    "    plt.plot(train_history.history[train])\n",
    "    plt.plot(train_history.history[validation])\n",
    "    plt.title('Train History')\n",
    "    plt.ylabel(train)\n",
    "    plt.xlabel('Epoch')\n",
    "    plt.legend(['train', 'validation'], loc='best')\n",
    "    plt.show()"
   ]
  },
  {
   "cell_type": "markdown",
   "metadata": {},
   "source": [
    "The data in unbalanced, let's try to correct the bias:"
   ]
  },
  {
   "cell_type": "code",
   "execution_count": 7,
   "metadata": {},
   "outputs": [
    {
     "name": "stdout",
     "output_type": "stream",
     "text": [
      "Examples:\n",
      "    Total: 858\n",
      "    Positive: 55 (6.41% of total)\n",
      "\n"
     ]
    }
   ],
   "source": [
    "neg, pos = np.bincount(df1['Biopsy'])\n",
    "total = neg + pos\n",
    "print('Examples:\\n    Total: {}\\n    Positive: {} ({:.2f}% of total)\\n'.format(\n",
    "    total, pos, 100 * pos / total))\n"
   ]
  },
  {
   "cell_type": "code",
   "execution_count": 11,
   "metadata": {},
   "outputs": [
    {
     "name": "stdout",
     "output_type": "stream",
     "text": [
      "Model: \"sequential_1\"\n",
      "_________________________________________________________________\n",
      "Layer (type)                 Output Shape              Param #   \n",
      "=================================================================\n",
      "dense_3 (Dense)              (None, 500)               16000     \n",
      "_________________________________________________________________\n",
      "dropout_2 (Dropout)          (None, 500)               0         \n",
      "_________________________________________________________________\n",
      "dense_4 (Dense)              (None, 500)               250500    \n",
      "_________________________________________________________________\n",
      "dropout_3 (Dropout)          (None, 500)               0         \n",
      "_________________________________________________________________\n",
      "dense_5 (Dense)              (None, 1)                 501       \n",
      "=================================================================\n",
      "Total params: 267,001\n",
      "Trainable params: 267,001\n",
      "Non-trainable params: 0\n",
      "_________________________________________________________________\n",
      "None\n",
      "Epoch 1/30\n",
      "17/17 - 0s - loss: 0.4206 - precision_1: 0.0000e+00 - recall_1: 0.0000e+00 - accuracy: 0.9160 - val_loss: 0.2067 - val_precision_1: 0.0000e+00 - val_recall_1: 0.0000e+00 - val_accuracy: 0.9621\n",
      "Epoch 2/30\n",
      "17/17 - 0s - loss: 0.2432 - precision_1: 0.0000e+00 - recall_1: 0.0000e+00 - accuracy: 0.9313 - val_loss: 0.1597 - val_precision_1: 0.0000e+00 - val_recall_1: 0.0000e+00 - val_accuracy: 0.9621\n",
      "Epoch 3/30\n",
      "17/17 - 0s - loss: 0.1902 - precision_1: 0.0000e+00 - recall_1: 0.0000e+00 - accuracy: 0.9313 - val_loss: 0.1290 - val_precision_1: 0.0000e+00 - val_recall_1: 0.0000e+00 - val_accuracy: 0.9621\n",
      "Epoch 4/30\n",
      "17/17 - 0s - loss: 0.1524 - precision_1: 0.0000e+00 - recall_1: 0.0000e+00 - accuracy: 0.9313 - val_loss: 0.1097 - val_precision_1: 0.0000e+00 - val_recall_1: 0.0000e+00 - val_accuracy: 0.9621\n",
      "Epoch 5/30\n",
      "17/17 - 0s - loss: 0.1313 - precision_1: 0.0000e+00 - recall_1: 0.0000e+00 - accuracy: 0.9313 - val_loss: 0.0951 - val_precision_1: 0.0000e+00 - val_recall_1: 0.0000e+00 - val_accuracy: 0.9621\n",
      "Epoch 6/30\n",
      "17/17 - 0s - loss: 0.1168 - precision_1: 1.0000 - recall_1: 0.0278 - accuracy: 0.9332 - val_loss: 0.0823 - val_precision_1: 0.0000e+00 - val_recall_1: 0.0000e+00 - val_accuracy: 0.9545\n",
      "Epoch 7/30\n",
      "17/17 - 0s - loss: 0.1012 - precision_1: 0.9231 - recall_1: 0.3333 - accuracy: 0.9523 - val_loss: 0.0732 - val_precision_1: 0.5000 - val_recall_1: 0.2000 - val_accuracy: 0.9621\n",
      "Epoch 8/30\n",
      "17/17 - 0s - loss: 0.0886 - precision_1: 0.9167 - recall_1: 0.6111 - accuracy: 0.9695 - val_loss: 0.0611 - val_precision_1: 0.7500 - val_recall_1: 0.6000 - val_accuracy: 0.9773\n",
      "Epoch 9/30\n",
      "17/17 - 0s - loss: 0.0762 - precision_1: 0.8667 - recall_1: 0.7222 - accuracy: 0.9733 - val_loss: 0.0616 - val_precision_1: 0.6667 - val_recall_1: 0.4000 - val_accuracy: 0.9697\n",
      "Epoch 10/30\n",
      "17/17 - 0s - loss: 0.0630 - precision_1: 0.8824 - recall_1: 0.8333 - accuracy: 0.9809 - val_loss: 0.0662 - val_precision_1: 0.6667 - val_recall_1: 0.4000 - val_accuracy: 0.9697\n",
      "Epoch 11/30\n",
      "17/17 - 0s - loss: 0.0607 - precision_1: 0.8205 - recall_1: 0.8889 - accuracy: 0.9790 - val_loss: 0.0792 - val_precision_1: 0.5000 - val_recall_1: 0.2000 - val_accuracy: 0.9621\n",
      "Epoch 12/30\n",
      "17/17 - 0s - loss: 0.0558 - precision_1: 0.8857 - recall_1: 0.8611 - accuracy: 0.9828 - val_loss: 0.0737 - val_precision_1: 0.6667 - val_recall_1: 0.4000 - val_accuracy: 0.9697\n",
      "Epoch 13/30\n",
      "17/17 - 0s - loss: 0.0501 - precision_1: 0.9143 - recall_1: 0.8889 - accuracy: 0.9866 - val_loss: 0.0725 - val_precision_1: 0.6667 - val_recall_1: 0.4000 - val_accuracy: 0.9697\n",
      "Epoch 14/30\n",
      "17/17 - 0s - loss: 0.0427 - precision_1: 0.9429 - recall_1: 0.9167 - accuracy: 0.9905 - val_loss: 0.0700 - val_precision_1: 0.7500 - val_recall_1: 0.6000 - val_accuracy: 0.9773\n",
      "Epoch 15/30\n",
      "17/17 - 0s - loss: 0.0409 - precision_1: 0.8684 - recall_1: 0.9167 - accuracy: 0.9847 - val_loss: 0.0734 - val_precision_1: 0.6667 - val_recall_1: 0.4000 - val_accuracy: 0.9697\n",
      "Epoch 16/30\n",
      "17/17 - 0s - loss: 0.0426 - precision_1: 0.9412 - recall_1: 0.8889 - accuracy: 0.9885 - val_loss: 0.0740 - val_precision_1: 0.6667 - val_recall_1: 0.4000 - val_accuracy: 0.9697\n",
      "Epoch 17/30\n",
      "17/17 - 0s - loss: 0.0410 - precision_1: 0.8974 - recall_1: 0.9722 - accuracy: 0.9905 - val_loss: 0.0832 - val_precision_1: 0.6667 - val_recall_1: 0.4000 - val_accuracy: 0.9697\n",
      "Epoch 18/30\n",
      "17/17 - 0s - loss: 0.0318 - precision_1: 0.9412 - recall_1: 0.8889 - accuracy: 0.9885 - val_loss: 0.0984 - val_precision_1: 0.6667 - val_recall_1: 0.4000 - val_accuracy: 0.9697\n",
      "Epoch 19/30\n",
      "17/17 - 0s - loss: 0.0268 - precision_1: 0.9444 - recall_1: 0.9444 - accuracy: 0.9924 - val_loss: 0.1084 - val_precision_1: 0.6667 - val_recall_1: 0.4000 - val_accuracy: 0.9697\n",
      "Epoch 20/30\n",
      "17/17 - 0s - loss: 0.0340 - precision_1: 0.9412 - recall_1: 0.8889 - accuracy: 0.9885 - val_loss: 0.0893 - val_precision_1: 0.7500 - val_recall_1: 0.6000 - val_accuracy: 0.9773\n",
      "Epoch 21/30\n",
      "17/17 - 0s - loss: 0.0307 - precision_1: 0.9189 - recall_1: 0.9444 - accuracy: 0.9905 - val_loss: 0.0901 - val_precision_1: 0.7500 - val_recall_1: 0.6000 - val_accuracy: 0.9773\n",
      "Epoch 22/30\n",
      "17/17 - 0s - loss: 0.0258 - precision_1: 0.9429 - recall_1: 0.9167 - accuracy: 0.9905 - val_loss: 0.0991 - val_precision_1: 0.7500 - val_recall_1: 0.6000 - val_accuracy: 0.9773\n",
      "Epoch 23/30\n",
      "17/17 - 0s - loss: 0.0287 - precision_1: 0.9429 - recall_1: 0.9167 - accuracy: 0.9905 - val_loss: 0.1055 - val_precision_1: 0.7500 - val_recall_1: 0.6000 - val_accuracy: 0.9773\n",
      "Epoch 24/30\n",
      "17/17 - 0s - loss: 0.0242 - precision_1: 0.9444 - recall_1: 0.9444 - accuracy: 0.9924 - val_loss: 0.1193 - val_precision_1: 0.6667 - val_recall_1: 0.4000 - val_accuracy: 0.9697\n",
      "Epoch 25/30\n",
      "17/17 - 0s - loss: 0.0191 - precision_1: 0.9211 - recall_1: 0.9722 - accuracy: 0.9924 - val_loss: 0.1088 - val_precision_1: 0.7500 - val_recall_1: 0.6000 - val_accuracy: 0.9773\n",
      "Epoch 26/30\n",
      "17/17 - 0s - loss: 0.0243 - precision_1: 0.9697 - recall_1: 0.8889 - accuracy: 0.9905 - val_loss: 0.1122 - val_precision_1: 0.7500 - val_recall_1: 0.6000 - val_accuracy: 0.9773\n",
      "Epoch 27/30\n",
      "17/17 - 0s - loss: 0.0176 - precision_1: 0.9444 - recall_1: 0.9444 - accuracy: 0.9924 - val_loss: 0.1285 - val_precision_1: 0.6667 - val_recall_1: 0.4000 - val_accuracy: 0.9697\n",
      "Epoch 28/30\n",
      "17/17 - 0s - loss: 0.0191 - precision_1: 0.9429 - recall_1: 0.9167 - accuracy: 0.9905 - val_loss: 0.1387 - val_precision_1: 0.6667 - val_recall_1: 0.4000 - val_accuracy: 0.9697\n",
      "Epoch 29/30\n",
      "17/17 - 0s - loss: 0.0174 - precision_1: 0.9412 - recall_1: 0.8889 - accuracy: 0.9885 - val_loss: 0.1841 - val_precision_1: 0.5000 - val_recall_1: 0.2000 - val_accuracy: 0.9621\n",
      "Epoch 30/30\n",
      "17/17 - 0s - loss: 0.0160 - precision_1: 0.9459 - recall_1: 0.9722 - accuracy: 0.9943 - val_loss: 0.1498 - val_precision_1: 0.6667 - val_recall_1: 0.4000 - val_accuracy: 0.9697\n"
     ]
    }
   ],
   "source": [
    "\n",
    "model = Sequential() \n",
    "\n",
    "#Input layer\n",
    "model.add(Dense(units=500, \n",
    "            input_dim=31, # i have 31 features\n",
    "            kernel_initializer='uniform', # all features have the same weight\n",
    "            activation='relu'\n",
    "               ))\n",
    "model.add(Dropout(0.5))  #randomly sets 0.5 units to 0. To prevent overfitting\n",
    "#Hidden layer 1\n",
    "model.add(Dense(units=500,  \n",
    "                kernel_initializer='uniform', \n",
    "                activation='relu'))\n",
    "model.add(Dropout(0.5))\n",
    "\n",
    "#Output layer\n",
    "model.add(Dense(units=1,\n",
    "                kernel_initializer='uniform', \n",
    "                activation='sigmoid'))\n",
    "\n",
    "#model(output_bias=initial_bias)\n",
    "\n",
    "print(model.summary()) #for showing the structure and parameters\n",
    "\n",
    "# Defining how to measure performance\n",
    "model.compile(loss='binary_crossentropy',   \n",
    "              optimizer='adam',\n",
    "               metrics=[tf.keras.metrics.Precision(), tf.keras.metrics.Recall(),'accuracy'])\n",
    "\n",
    "\n",
    "# Train the model\n",
    "# Verbose=2, showing loss and accuracy change timely\n",
    "#remove batch_size, the dataset is small. -> it increases recall.\n",
    "train_history = model.fit(x=X_train, y=y_train,  \n",
    "                          validation_split=0.2, epochs=30, verbose=2) \n",
    "\n"
   ]
  },
  {
   "cell_type": "code",
   "execution_count": 12,
   "metadata": {},
   "outputs": [
    {
     "data": {
      "image/png": "[encoded data removed]",
      "text/plain": [
       "<Figure size 432x288 with 1 Axes>"
      ]
     },
     "metadata": {
      "needs_background": "light"
     },
     "output_type": "display_data"
    },
    {
     "data": {
      "image/png": "[encoded data removed]",
      "text/plain": [
       "<Figure size 432x288 with 1 Axes>"
      ]
     },
     "metadata": {
      "needs_background": "light"
     },
     "output_type": "display_data"
    }
   ],
   "source": [
    "#visualize the loss and accuracy after each epoch\n",
    "show_train_history(train_history,'accuracy','val_accuracy')\n",
    "show_train_history(train_history,'loss','val_loss')"
   ]
  },
  {
   "cell_type": "code",
   "execution_count": 14,
   "metadata": {},
   "outputs": [
    {
     "data": {
      "image/png": "[encoded data removed]",
      "text/plain": [
       "<Figure size 432x288 with 1 Axes>"
      ]
     },
     "metadata": {
      "needs_background": "light"
     },
     "output_type": "display_data"
    }
   ],
   "source": [
    "#visualize the loss and accuracy after each epoch\n",
    "show_train_history(train_history,'recall_1','val_recall_1')\n"
   ]
  },
  {
   "cell_type": "code",
   "execution_count": 17,
   "metadata": {},
   "outputs": [],
   "source": [
    "train_predictions_baseline = model.predict(X_train)\n",
    "test_predictions_baseline = model.predict(X_test)\n"
   ]
  },
  {
   "cell_type": "code",
   "execution_count": 18,
   "metadata": {},
   "outputs": [
    {
     "data": {
      "image/png": "[encoded data removed]",
      "text/plain": [
       "<Figure size 432x288 with 2 Axes>"
      ]
     },
     "metadata": {
      "needs_background": "light"
     },
     "output_type": "display_data"
    }
   ],
   "source": [
    "p=0.5\n",
    "cm = confusion_matrix(y_test, test_predictions_baseline > p)\n",
    "cm_display = ConfusionMatrixDisplay(cm).plot()"
   ]
  },
  {
   "cell_type": "code",
   "execution_count": 19,
   "metadata": {},
   "outputs": [
    {
     "name": "stdout",
     "output_type": "stream",
     "text": [
      "4/4 [==============================] - 0s 8ms/step - loss: 0.3504 - precision_1: 0.8000 - recall_1: 0.4444 - accuracy: 0.9483\n",
      "\n",
      "\n",
      "accuracy= 0.800000011920929\n"
     ]
    }
   ],
   "source": [
    "scores = model.evaluate(X_test, y_test)\n",
    "print('\\n')\n",
    "print('accuracy=',scores[1])\n",
    "\n"
   ]
  },
  {
   "cell_type": "markdown",
   "metadata": {},
   "source": [
    "Recall is still similar to what LR accomplished. We need a model designed specifically for imbalanced datasets."
   ]
  }
 ],
 "metadata": {
  "kernelspec": {
   "display_name": "Python 3",
   "language": "python",
   "name": "python3"
  },
  "language_info": {
   "codemirror_mode": {
    "name": "ipython",
    "version": 3
   },
   "file_extension": ".py",
   "mimetype": "text/x-python",
   "name": "python",
   "nbconvert_exporter": "python",
   "pygments_lexer": "ipython3",
   "version": "3.8.5"
  }
 },
 "nbformat": 4,
 "nbformat_minor": 4
}

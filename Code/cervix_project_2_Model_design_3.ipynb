{
 "cells": [
  {
   "cell_type": "markdown",
   "metadata": {},
   "source": [
    "# Part2. Model design 3"
   ]
  },
  {
   "cell_type": "markdown",
   "metadata": {},
   "source": [
    "Data Augmentation - SMOTE \n",
    "(Synthetic Minority Oversampling Technique) to overcome the data imbalance"
   ]
  },
  {
   "cell_type": "code",
   "execution_count": 1,
   "metadata": {},
   "outputs": [],
   "source": [
    "from imblearn.over_sampling import SMOTE\n",
    "\n",
    "import pandas as pd\n",
    "import numpy as np\n",
    "import matplotlib.pyplot as plt\n",
    "import os\n",
    "import tempfile\n",
    "\n",
    "import tensorflow as tf\n",
    "from tensorflow.keras.models import Sequential\n",
    "from tensorflow.keras.layers import Dense\n",
    "from tensorflow.keras.layers import Dropout\n",
    "from tensorflow.keras.metrics import SpecificityAtSensitivity\n",
    "from sklearn.metrics import confusion_matrix\n",
    "from sklearn.metrics import ConfusionMatrixDisplay\n",
    "\n",
    "from sklearn import metrics\n",
    "from collections import Counter\n",
    "from sklearn.model_selection import train_test_split, GridSearchCV, RandomizedSearchCV\n",
    "from sklearn.tree import DecisionTreeClassifier\n",
    "from sklearn.ensemble import RandomForestClassifier\n"
   ]
  },
  {
   "cell_type": "code",
   "execution_count": 2,
   "metadata": {},
   "outputs": [],
   "source": [
    "#load the original data\n",
    "df1=pd.read_csv(\"../Data/kag_risk_factors_cervical_cancer.csv\")\n",
    "\n",
    "#load the processed datasets:\n",
    "X_train=pd.read_csv(\"../Data/X_train_preprocessed.csv\")\n",
    "X_test=pd.read_csv(\"../Data/X_test_preprocessed.csv\")\n",
    "X_validate=pd.read_csv(\"../Data/X_validate_preprocessed.csv\")\n",
    "y_train=pd.read_csv(\"../Data/y_train_preprocessed.csv\")\n",
    "y_test=pd.read_csv(\"../Data/y_test_preprocessed.csv\")\n",
    "y_validate=pd.read_csv(\"../Data/y_validate_preprocessed.csv\")"
   ]
  },
  {
   "cell_type": "code",
   "execution_count": 3,
   "metadata": {},
   "outputs": [],
   "source": [
    "#convert df to np:\n",
    "y_train_np=y_train.to_numpy()\n",
    "X_train_np=X_train.to_numpy()"
   ]
  },
  {
   "cell_type": "code",
   "execution_count": 4,
   "metadata": {},
   "outputs": [
    {
     "name": "stdout",
     "output_type": "stream",
     "text": [
      "[(0, 615), (1, 615)]\n"
     ]
    }
   ],
   "source": [
    "#using SMOTE create a balanced train dataset:\n",
    "x_train_s, y_train_s = SMOTE(random_state=33).fit_resample(X_train_np, y_train_np.ravel())\n",
    "print(sorted(Counter(y_train_s).items()))\n",
    "\n",
    "# now I  have a training dataset perfectly balanced:"
   ]
  },
  {
   "cell_type": "code",
   "execution_count": 5,
   "metadata": {},
   "outputs": [
    {
     "name": "stdout",
     "output_type": "stream",
     "text": [
      "(1230, 31) (1230,)\n"
     ]
    }
   ],
   "source": [
    "print(x_train_s.shape, y_train_s.shape)\n"
   ]
  },
  {
   "cell_type": "markdown",
   "metadata": {},
   "source": [
    "Apply Decission Tree Classifier and Random Forest Classifier to SMOTE data\n",
    "A grid search could be done to optimize parameters. "
   ]
  },
  {
   "cell_type": "code",
   "execution_count": 8,
   "metadata": {},
   "outputs": [],
   "source": [
    "l_final = [] #--> New list for storing metrics of base models\n",
    "\n",
    "def models_dt(x,y,x_test,y_test):\n",
    "    mod = {}\n",
    "    model = DecisionTreeClassifier().fit(x,y)\n",
    "    ypred = model.predict(x_test)\n",
    "    mod['Model'] = 'Decision Tree After Sampling'\n",
    "    mod['Train_Score'] = model.score(x_train_s,y_train_s)\n",
    "    mod['Test_accuracy'] = metrics.accuracy_score(y_test,ypred)\n",
    "    mod['f1score'] = metrics.f1_score(y_test,ypred)\n",
    "    mod['recall'] = metrics.recall_score(y_test, ypred)\n",
    "    mod['precision'] = metrics.precision_score(y_test, ypred)\n",
    "    model.predict_proba(x_test)\n",
    "    mod['roc_auc'] = metrics.roc_auc_score(y_test,ypred)\n",
    "    return mod\n",
    "\n",
    "l_final.append(models_dt(x_train_s,y_train_s,X_test,y_test))\n",
    "\n",
    "def models_rf(x,y, x_test, y_test):\n",
    "    mod = {}\n",
    "    model = RandomForestClassifier().fit(x,y)\n",
    "    ypred = model.predict(x_test)\n",
    "    mod['Model'] = 'Random Forest After Sampling'\n",
    "    mod['Train_Score'] = model.score(x_train_s,y_train_s)\n",
    "    mod['Test_accuracy'] = metrics.accuracy_score(y_test,ypred)\n",
    "    mod['f1score'] = metrics.f1_score(y_test,ypred)\n",
    "    mod['recall'] = metrics.recall_score(y_test, ypred)\n",
    "    mod['precision'] = metrics.precision_score(y_test, ypred)\n",
    "    model.predict_proba(x_test)\n",
    "    mod['roc_auc'] = metrics.roc_auc_score(y_test,ypred)\n",
    "    return mod\n",
    "\n",
    "l_final.append(models_rf(x_train_s,y_train_s, X_test, y_test))\n"
   ]
  },
  {
   "cell_type": "code",
   "execution_count": 9,
   "metadata": {},
   "outputs": [
    {
     "data": {
      "text/html": [
       "<div>\n",
       "<style scoped>\n",
       "    .dataframe tbody tr th:only-of-type {\n",
       "        vertical-align: middle;\n",
       "    }\n",
       "\n",
       "    .dataframe tbody tr th {\n",
       "        vertical-align: top;\n",
       "    }\n",
       "\n",
       "    .dataframe thead th {\n",
       "        text-align: right;\n",
       "    }\n",
       "</style>\n",
       "<table border=\"1\" class=\"dataframe\">\n",
       "  <thead>\n",
       "    <tr style=\"text-align: right;\">\n",
       "      <th></th>\n",
       "      <th>Model</th>\n",
       "      <th>Train_Score</th>\n",
       "      <th>Test_accuracy</th>\n",
       "      <th>f1score</th>\n",
       "      <th>recall</th>\n",
       "      <th>precision</th>\n",
       "      <th>roc_auc</th>\n",
       "    </tr>\n",
       "  </thead>\n",
       "  <tbody>\n",
       "    <tr>\n",
       "      <th>0</th>\n",
       "      <td>Decision Tree After Sampling</td>\n",
       "      <td>1.0</td>\n",
       "      <td>0.948276</td>\n",
       "      <td>0.625000</td>\n",
       "      <td>0.555556</td>\n",
       "      <td>0.714286</td>\n",
       "      <td>0.768432</td>\n",
       "    </tr>\n",
       "    <tr>\n",
       "      <th>1</th>\n",
       "      <td>Random Forest After Sampling</td>\n",
       "      <td>1.0</td>\n",
       "      <td>0.956897</td>\n",
       "      <td>0.736842</td>\n",
       "      <td>0.777778</td>\n",
       "      <td>0.700000</td>\n",
       "      <td>0.874870</td>\n",
       "    </tr>\n",
       "  </tbody>\n",
       "</table>\n",
       "</div>"
      ],
      "text/plain": [
       "                          Model  Train_Score  Test_accuracy   f1score  \\\n",
       "0  Decision Tree After Sampling          1.0       0.948276  0.625000   \n",
       "1  Random Forest After Sampling          1.0       0.956897  0.736842   \n",
       "\n",
       "     recall  precision   roc_auc  \n",
       "0  0.555556   0.714286  0.768432  \n",
       "1  0.777778   0.700000  0.874870  "
      ]
     },
     "execution_count": 9,
     "metadata": {},
     "output_type": "execute_result"
    }
   ],
   "source": [
    "final_model = pd.DataFrame(l_final)\n",
    "final_model"
   ]
  },
  {
   "cell_type": "markdown",
   "metadata": {},
   "source": [
    "Recall is 0.66 with Random Forest"
   ]
  },
  {
   "cell_type": "markdown",
   "metadata": {},
   "source": [
    "### Use the neural network model from \"cervix_project_2_Model_design_1\""
   ]
  },
  {
   "cell_type": "code",
   "execution_count": 10,
   "metadata": {},
   "outputs": [
    {
     "name": "stdout",
     "output_type": "stream",
     "text": [
      "Model: \"sequential\"\n",
      "_________________________________________________________________\n",
      "Layer (type)                 Output Shape              Param #   \n",
      "=================================================================\n",
      "dense (Dense)                (None, 500)               16000     \n",
      "_________________________________________________________________\n",
      "dropout (Dropout)            (None, 500)               0         \n",
      "_________________________________________________________________\n",
      "dense_1 (Dense)              (None, 500)               250500    \n",
      "_________________________________________________________________\n",
      "dropout_1 (Dropout)          (None, 500)               0         \n",
      "_________________________________________________________________\n",
      "dense_2 (Dense)              (None, 500)               250500    \n",
      "_________________________________________________________________\n",
      "dropout_2 (Dropout)          (None, 500)               0         \n",
      "_________________________________________________________________\n",
      "dense_3 (Dense)              (None, 500)               250500    \n",
      "_________________________________________________________________\n",
      "dropout_3 (Dropout)          (None, 500)               0         \n",
      "_________________________________________________________________\n",
      "dense_4 (Dense)              (None, 1)                 501       \n",
      "=================================================================\n",
      "Total params: 768,001\n",
      "Trainable params: 768,001\n",
      "Non-trainable params: 0\n",
      "_________________________________________________________________\n",
      "None\n",
      "Epoch 1/50\n",
      "31/31 - 1s - loss: 0.5146 - precision: 0.8252 - recall: 0.3198 - accuracy: 0.7195 - val_loss: 0.1634 - val_precision: 1.0000 - val_recall: 0.9715 - val_accuracy: 0.9715\n",
      "Epoch 2/50\n",
      "31/31 - 0s - loss: 0.1353 - precision: 0.9395 - recall: 0.9675 - accuracy: 0.9644 - val_loss: 0.0761 - val_precision: 1.0000 - val_recall: 0.9878 - val_accuracy: 0.9878\n",
      "Epoch 3/50\n",
      "31/31 - 0s - loss: 0.0892 - precision: 0.9528 - recall: 0.9837 - accuracy: 0.9756 - val_loss: 0.0693 - val_precision: 1.0000 - val_recall: 0.9837 - val_accuracy: 0.9837\n",
      "Epoch 4/50\n",
      "31/31 - 0s - loss: 0.0884 - precision: 0.9604 - recall: 0.9864 - accuracy: 0.9797 - val_loss: 0.0553 - val_precision: 1.0000 - val_recall: 0.9919 - val_accuracy: 0.9919\n",
      "Epoch 5/50\n",
      "31/31 - 0s - loss: 0.0621 - precision: 0.9681 - recall: 0.9864 - accuracy: 0.9827 - val_loss: 0.0330 - val_precision: 1.0000 - val_recall: 0.9919 - val_accuracy: 0.9919\n",
      "Epoch 6/50\n",
      "31/31 - 0s - loss: 0.0541 - precision: 0.9657 - recall: 0.9919 - accuracy: 0.9837 - val_loss: 0.0270 - val_precision: 1.0000 - val_recall: 0.9959 - val_accuracy: 0.9959\n",
      "Epoch 7/50\n",
      "31/31 - 0s - loss: 0.0678 - precision: 0.9679 - recall: 0.9810 - accuracy: 0.9807 - val_loss: 0.0376 - val_precision: 1.0000 - val_recall: 0.9919 - val_accuracy: 0.9919\n",
      "Epoch 8/50\n",
      "31/31 - 0s - loss: 0.0627 - precision: 0.9681 - recall: 0.9864 - accuracy: 0.9827 - val_loss: 0.0457 - val_precision: 1.0000 - val_recall: 0.9919 - val_accuracy: 0.9919\n",
      "Epoch 9/50\n",
      "31/31 - 0s - loss: 0.0577 - precision: 0.9682 - recall: 0.9892 - accuracy: 0.9837 - val_loss: 0.0095 - val_precision: 1.0000 - val_recall: 1.0000 - val_accuracy: 1.0000\n",
      "Epoch 10/50\n",
      "31/31 - 0s - loss: 0.0495 - precision: 0.9734 - recall: 0.9919 - accuracy: 0.9868 - val_loss: 0.0112 - val_precision: 1.0000 - val_recall: 1.0000 - val_accuracy: 1.0000\n",
      "Epoch 11/50\n",
      "31/31 - 0s - loss: 0.0571 - precision: 0.9760 - recall: 0.9919 - accuracy: 0.9878 - val_loss: 0.0120 - val_precision: 1.0000 - val_recall: 1.0000 - val_accuracy: 1.0000\n",
      "Epoch 12/50\n",
      "31/31 - 0s - loss: 0.1038 - precision: 0.9578 - recall: 0.9837 - accuracy: 0.9776 - val_loss: 0.0389 - val_precision: 1.0000 - val_recall: 0.9919 - val_accuracy: 0.9919\n",
      "Epoch 13/50\n",
      "31/31 - 0s - loss: 0.0524 - precision: 0.9735 - recall: 0.9946 - accuracy: 0.9878 - val_loss: 0.0411 - val_precision: 1.0000 - val_recall: 0.9919 - val_accuracy: 0.9919\n",
      "Epoch 14/50\n",
      "31/31 - 0s - loss: 0.0389 - precision: 0.9735 - recall: 0.9973 - accuracy: 0.9888 - val_loss: 0.0157 - val_precision: 1.0000 - val_recall: 1.0000 - val_accuracy: 1.0000\n",
      "Epoch 15/50\n",
      "31/31 - 0s - loss: 0.0316 - precision: 0.9839 - recall: 0.9946 - accuracy: 0.9919 - val_loss: 0.0090 - val_precision: 1.0000 - val_recall: 1.0000 - val_accuracy: 1.0000\n",
      "Epoch 16/50\n",
      "31/31 - 0s - loss: 0.0388 - precision: 0.9812 - recall: 0.9892 - accuracy: 0.9888 - val_loss: 0.0074 - val_precision: 1.0000 - val_recall: 1.0000 - val_accuracy: 1.0000\n",
      "Epoch 17/50\n",
      "31/31 - 0s - loss: 0.0367 - precision: 0.9813 - recall: 0.9973 - accuracy: 0.9919 - val_loss: 0.0118 - val_precision: 1.0000 - val_recall: 1.0000 - val_accuracy: 1.0000\n",
      "Epoch 18/50\n",
      "31/31 - 0s - loss: 0.0298 - precision: 0.9839 - recall: 0.9919 - accuracy: 0.9909 - val_loss: 0.0037 - val_precision: 1.0000 - val_recall: 1.0000 - val_accuracy: 1.0000\n",
      "Epoch 19/50\n",
      "31/31 - 0s - loss: 0.0253 - precision: 0.9813 - recall: 0.9973 - accuracy: 0.9919 - val_loss: 0.0083 - val_precision: 1.0000 - val_recall: 1.0000 - val_accuracy: 1.0000\n",
      "Epoch 20/50\n",
      "31/31 - 0s - loss: 0.0411 - precision: 0.9813 - recall: 0.9946 - accuracy: 0.9909 - val_loss: 0.0063 - val_precision: 1.0000 - val_recall: 1.0000 - val_accuracy: 1.0000\n",
      "Epoch 21/50\n",
      "31/31 - 0s - loss: 0.0342 - precision: 0.9787 - recall: 0.9973 - accuracy: 0.9909 - val_loss: 0.0136 - val_precision: 1.0000 - val_recall: 1.0000 - val_accuracy: 1.0000\n",
      "Epoch 22/50\n",
      "31/31 - 0s - loss: 0.0275 - precision: 0.9839 - recall: 0.9919 - accuracy: 0.9909 - val_loss: 0.0066 - val_precision: 1.0000 - val_recall: 1.0000 - val_accuracy: 1.0000\n",
      "Epoch 23/50\n",
      "31/31 - 0s - loss: 0.0342 - precision: 0.9812 - recall: 0.9892 - accuracy: 0.9888 - val_loss: 0.0086 - val_precision: 1.0000 - val_recall: 1.0000 - val_accuracy: 1.0000\n",
      "Epoch 24/50\n",
      "31/31 - 0s - loss: 0.0392 - precision: 0.9838 - recall: 0.9892 - accuracy: 0.9898 - val_loss: 0.0175 - val_precision: 1.0000 - val_recall: 0.9919 - val_accuracy: 0.9919\n",
      "Epoch 25/50\n",
      "31/31 - 0s - loss: 0.0298 - precision: 0.9813 - recall: 0.9973 - accuracy: 0.9919 - val_loss: 0.0170 - val_precision: 1.0000 - val_recall: 1.0000 - val_accuracy: 1.0000\n",
      "Epoch 26/50\n",
      "31/31 - 0s - loss: 0.0294 - precision: 0.9813 - recall: 0.9973 - accuracy: 0.9919 - val_loss: 0.0105 - val_precision: 1.0000 - val_recall: 0.9959 - val_accuracy: 0.9959\n",
      "Epoch 27/50\n",
      "31/31 - 0s - loss: 0.0223 - precision: 0.9839 - recall: 0.9946 - accuracy: 0.9919 - val_loss: 0.0012 - val_precision: 1.0000 - val_recall: 1.0000 - val_accuracy: 1.0000\n",
      "Epoch 28/50\n",
      "31/31 - 0s - loss: 0.0232 - precision: 0.9838 - recall: 0.9892 - accuracy: 0.9898 - val_loss: 0.0050 - val_precision: 1.0000 - val_recall: 1.0000 - val_accuracy: 1.0000\n",
      "Epoch 29/50\n",
      "31/31 - 0s - loss: 0.0586 - precision: 0.9810 - recall: 0.9810 - accuracy: 0.9858 - val_loss: 0.0199 - val_precision: 1.0000 - val_recall: 1.0000 - val_accuracy: 1.0000\n",
      "Epoch 30/50\n",
      "31/31 - 0s - loss: 0.0192 - precision: 0.9866 - recall: 1.0000 - accuracy: 0.9949 - val_loss: 0.0093 - val_precision: 1.0000 - val_recall: 1.0000 - val_accuracy: 1.0000\n",
      "Epoch 31/50\n",
      "31/31 - 0s - loss: 0.0297 - precision: 0.9839 - recall: 0.9919 - accuracy: 0.9909 - val_loss: 0.0072 - val_precision: 1.0000 - val_recall: 1.0000 - val_accuracy: 1.0000\n",
      "Epoch 32/50\n",
      "31/31 - 0s - loss: 0.0211 - precision: 0.9866 - recall: 1.0000 - accuracy: 0.9949 - val_loss: 0.0082 - val_precision: 1.0000 - val_recall: 1.0000 - val_accuracy: 1.0000\n",
      "Epoch 33/50\n",
      "31/31 - 0s - loss: 0.0182 - precision: 0.9866 - recall: 1.0000 - accuracy: 0.9949 - val_loss: 0.0049 - val_precision: 1.0000 - val_recall: 1.0000 - val_accuracy: 1.0000\n",
      "Epoch 34/50\n",
      "31/31 - 0s - loss: 0.0222 - precision: 0.9919 - recall: 0.9946 - accuracy: 0.9949 - val_loss: 0.0023 - val_precision: 1.0000 - val_recall: 1.0000 - val_accuracy: 1.0000\n",
      "Epoch 35/50\n",
      "31/31 - 0s - loss: 0.0184 - precision: 0.9866 - recall: 0.9973 - accuracy: 0.9939 - val_loss: 0.0019 - val_precision: 1.0000 - val_recall: 1.0000 - val_accuracy: 1.0000\n",
      "Epoch 36/50\n",
      "31/31 - 0s - loss: 0.0139 - precision: 0.9893 - recall: 1.0000 - accuracy: 0.9959 - val_loss: 0.0170 - val_precision: 1.0000 - val_recall: 0.9919 - val_accuracy: 0.9919\n",
      "Epoch 37/50\n",
      "31/31 - 0s - loss: 0.0184 - precision: 0.9866 - recall: 0.9973 - accuracy: 0.9939 - val_loss: 0.0021 - val_precision: 1.0000 - val_recall: 1.0000 - val_accuracy: 1.0000\n"
     ]
    },
    {
     "name": "stdout",
     "output_type": "stream",
     "text": [
      "Epoch 38/50\n",
      "31/31 - 0s - loss: 0.0344 - precision: 0.9865 - recall: 0.9919 - accuracy: 0.9919 - val_loss: 0.0101 - val_precision: 1.0000 - val_recall: 0.9959 - val_accuracy: 0.9959\n",
      "Epoch 39/50\n",
      "31/31 - 0s - loss: 0.0254 - precision: 0.9840 - recall: 0.9973 - accuracy: 0.9929 - val_loss: 0.0157 - val_precision: 1.0000 - val_recall: 1.0000 - val_accuracy: 1.0000\n",
      "Epoch 40/50\n",
      "31/31 - 0s - loss: 0.0215 - precision: 0.9865 - recall: 0.9919 - accuracy: 0.9919 - val_loss: 0.0464 - val_precision: 1.0000 - val_recall: 0.9919 - val_accuracy: 0.9919\n",
      "Epoch 41/50\n",
      "31/31 - 0s - loss: 0.0194 - precision: 0.9839 - recall: 0.9946 - accuracy: 0.9919 - val_loss: 0.0048 - val_precision: 1.0000 - val_recall: 1.0000 - val_accuracy: 1.0000\n",
      "Epoch 42/50\n",
      "31/31 - 0s - loss: 0.0146 - precision: 0.9919 - recall: 0.9973 - accuracy: 0.9959 - val_loss: 0.0044 - val_precision: 1.0000 - val_recall: 1.0000 - val_accuracy: 1.0000\n",
      "Epoch 43/50\n",
      "31/31 - 0s - loss: 0.0257 - precision: 0.9839 - recall: 0.9946 - accuracy: 0.9919 - val_loss: 0.0043 - val_precision: 1.0000 - val_recall: 1.0000 - val_accuracy: 1.0000\n",
      "Epoch 44/50\n",
      "31/31 - 0s - loss: 0.0362 - precision: 0.9892 - recall: 0.9946 - accuracy: 0.9939 - val_loss: 0.0071 - val_precision: 1.0000 - val_recall: 1.0000 - val_accuracy: 1.0000\n",
      "Epoch 45/50\n",
      "31/31 - 0s - loss: 0.0216 - precision: 0.9840 - recall: 0.9973 - accuracy: 0.9929 - val_loss: 0.0084 - val_precision: 1.0000 - val_recall: 1.0000 - val_accuracy: 1.0000\n",
      "Epoch 46/50\n",
      "31/31 - 0s - loss: 0.0227 - precision: 0.9866 - recall: 0.9973 - accuracy: 0.9939 - val_loss: 0.0086 - val_precision: 1.0000 - val_recall: 0.9959 - val_accuracy: 0.9959\n",
      "Epoch 47/50\n",
      "31/31 - 0s - loss: 0.0208 - precision: 0.9865 - recall: 0.9919 - accuracy: 0.9919 - val_loss: 0.0032 - val_precision: 1.0000 - val_recall: 1.0000 - val_accuracy: 1.0000\n",
      "Epoch 48/50\n",
      "31/31 - 0s - loss: 0.0126 - precision: 0.9893 - recall: 1.0000 - accuracy: 0.9959 - val_loss: 0.0068 - val_precision: 1.0000 - val_recall: 1.0000 - val_accuracy: 1.0000\n",
      "Epoch 49/50\n",
      "31/31 - 0s - loss: 0.0173 - precision: 0.9892 - recall: 0.9946 - accuracy: 0.9939 - val_loss: 0.0025 - val_precision: 1.0000 - val_recall: 1.0000 - val_accuracy: 1.0000\n",
      "Epoch 50/50\n",
      "31/31 - 0s - loss: 0.0065 - precision: 0.9946 - recall: 1.0000 - accuracy: 0.9980 - val_loss: 0.0020 - val_precision: 1.0000 - val_recall: 1.0000 - val_accuracy: 1.0000\n"
     ]
    }
   ],
   "source": [
    "model = Sequential() \n",
    "\n",
    "#Input layer\n",
    "model.add(Dense(units=500, \n",
    "            input_dim=31, # i have 31 features\n",
    "            kernel_initializer='uniform', # all features have the same weight\n",
    "            activation='relu'\n",
    "               ))\n",
    "model.add(Dropout(0.5))  #randomly sets 0.5 units to 0. To prevent overfitting\n",
    "#Hidden layer 1\n",
    "model.add(Dense(units=500,  \n",
    "                kernel_initializer='uniform', \n",
    "                activation='relu'))\n",
    "model.add(Dropout(0.5))\n",
    "\n",
    "#Hidden layer 2\n",
    "model.add(Dense(units=500,  \n",
    "                kernel_initializer='uniform', \n",
    "                activation='relu'))\n",
    "model.add(Dropout(0.5))\n",
    "\n",
    "#Hidden layer 3\n",
    "model.add(Dense(units=500,  \n",
    "                kernel_initializer='uniform', \n",
    "                activation='relu'))\n",
    "model.add(Dropout(0.5))\n",
    "\n",
    "#Output layer\n",
    "model.add(Dense(units=1, #only one unit needed, it its either 1 or not 1\n",
    "                kernel_initializer='uniform', \n",
    "                activation='sigmoid'))\n",
    "\n",
    "#model(output_bias=initial_bias)\n",
    "\n",
    "print(model.summary()) #for showing the structure and parameters\n",
    "\n",
    "# Defining how to measure performance\n",
    "model.compile(loss='binary_crossentropy',   \n",
    "              optimizer='adam',\n",
    "               metrics=[tf.keras.metrics.Precision(), tf.keras.metrics.Recall(),'accuracy'])\n",
    "\n",
    "\n",
    "# Train the model\n",
    "# Verbose=2, showing loss and accuracy change timely\n",
    "#remove batch_size, the dataset is small. -> it increases recall.\n",
    "train_history = model.fit(x=x_train_s, y=y_train_s,  \n",
    "                          validation_split=0.2, epochs=50, verbose=2) \n",
    "\n"
   ]
  },
  {
   "cell_type": "code",
   "execution_count": 11,
   "metadata": {},
   "outputs": [
    {
     "name": "stdout",
     "output_type": "stream",
     "text": [
      "4/4 [==============================] - 0s 3ms/step - loss: 0.9632 - precision: 0.7500 - recall: 0.6667 - accuracy: 0.9569\n",
      "\n",
      "\n"
     ]
    }
   ],
   "source": [
    "scores = model.evaluate(X_test, y_test)\n",
    "print('\\n')\n"
   ]
  },
  {
   "cell_type": "markdown",
   "metadata": {},
   "source": [
    "Recall is worse than with Random forest classifier (0.55 vs 0.66)"
   ]
  },
  {
   "cell_type": "markdown",
   "metadata": {},
   "source": [
    "We could also use a fore strict feature selection to improve the recall, but porbably because of the small sample size and the imbalanced dataset these numbers cannot be improved much more"
   ]
  },
  {
   "cell_type": "code",
   "execution_count": 12,
   "metadata": {},
   "outputs": [
    {
     "name": "stdout",
     "output_type": "stream",
     "text": [
      "WARNING:tensorflow:From <ipython-input-12-6d17d6c5c48b>:1: Sequential.predict_classes (from tensorflow.python.keras.engine.sequential) is deprecated and will be removed after 2021-01-01.\n",
      "Instructions for updating:\n",
      "Please use instead:* `np.argmax(model.predict(x), axis=-1)`,   if your model does multi-class classification   (e.g. if it uses a `softmax` last-layer activation).* `(model.predict(x) > 0.5).astype(\"int32\")`,   if your model does binary classification   (e.g. if it uses a `sigmoid` last-layer activation).\n",
      "4/4 [==============================] - 0s 9ms/step\n"
     ]
    }
   ],
   "source": [
    "y_pred_test=model.predict_classes(X_test, verbose=1)"
   ]
  },
  {
   "cell_type": "code",
   "execution_count": 13,
   "metadata": {},
   "outputs": [
    {
     "data": {
      "image/png": "[encoded data removed]",
      "text/plain": [
       "<Figure size 432x288 with 2 Axes>"
      ]
     },
     "metadata": {
      "needs_background": "light"
     },
     "output_type": "display_data"
    }
   ],
   "source": [
    "cm = confusion_matrix(y_test, y_pred_test)\n",
    "cm_display = ConfusionMatrixDisplay(cm).plot()"
   ]
  },
  {
   "cell_type": "code",
   "execution_count": 14,
   "metadata": {},
   "outputs": [
    {
     "data": {
      "image/png": "[encoded data removed]",
      "text/plain": [
       "<Figure size 432x288 with 2 Axes>"
      ]
     },
     "metadata": {
      "needs_background": "light"
     },
     "output_type": "display_data"
    }
   ],
   "source": [
    "#same conf. matrix.\n",
    "train_predictions_baseline = model.predict(X_train)\n",
    "test_predictions_baseline = model.predict(X_test)\n",
    "p=0.8\n",
    "\n",
    "cm = confusion_matrix(y_test, test_predictions_baseline > p)\n",
    "cm_display = ConfusionMatrixDisplay(cm).plot()"
   ]
  },
  {
   "cell_type": "code",
   "execution_count": 15,
   "metadata": {},
   "outputs": [],
   "source": [
    "def show_train_history(train_history,train,validation):\n",
    "    plt.plot(train_history.history[train])\n",
    "    plt.plot(train_history.history[validation])\n",
    "    plt.title('Train History')\n",
    "    plt.ylabel(train)\n",
    "    plt.xlabel('Epoch')\n",
    "    plt.legend(['train', 'validation'], loc='best')\n",
    "    plt.show()"
   ]
  },
  {
   "cell_type": "code",
   "execution_count": 16,
   "metadata": {},
   "outputs": [
    {
     "data": {
      "image/png": "[encoded data removed]",
      "text/plain": [
       "<Figure size 432x288 with 1 Axes>"
      ]
     },
     "metadata": {
      "needs_background": "light"
     },
     "output_type": "display_data"
    },
    {
     "data": {
      "image/png": "[encoded data removed]",
      "text/plain": [
       "<Figure size 432x288 with 1 Axes>"
      ]
     },
     "metadata": {
      "needs_background": "light"
     },
     "output_type": "display_data"
    }
   ],
   "source": [
    "#visualize the loss and accuracy after each epoch\n",
    "show_train_history(train_history,'accuracy','val_accuracy')\n",
    "show_train_history(train_history,'loss','val_loss')"
   ]
  },
  {
   "cell_type": "code",
   "execution_count": 18,
   "metadata": {},
   "outputs": [
    {
     "data": {
      "image/png": "[encoded data removed]",
      "text/plain": [
       "<Figure size 432x288 with 1 Axes>"
      ]
     },
     "metadata": {
      "needs_background": "light"
     },
     "output_type": "display_data"
    }
   ],
   "source": [
    "#visualize recall, what we really want to increase, after each epoch\n",
    "show_train_history(train_history,'recall','val_recall')\n"
   ]
  },
  {
   "cell_type": "code",
   "execution_count": null,
   "metadata": {},
   "outputs": [],
   "source": []
  }
 ],
 "metadata": {
  "kernelspec": {
   "display_name": "Python 3",
   "language": "python",
   "name": "python3"
  },
  "language_info": {
   "codemirror_mode": {
    "name": "ipython",
    "version": 3
   },
   "file_extension": ".py",
   "mimetype": "text/x-python",
   "name": "python",
   "nbconvert_exporter": "python",
   "pygments_lexer": "ipython3",
   "version": "3.8.5"
  }
 },
 "nbformat": 4,
 "nbformat_minor": 4
}

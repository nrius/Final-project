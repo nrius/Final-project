{
 "cells": [
  {
   "cell_type": "markdown",
   "metadata": {},
   "source": [
    "# Part 1: Preprocess pipeline"
   ]
  },
  {
   "cell_type": "code",
   "execution_count": 30,
   "metadata": {},
   "outputs": [],
   "source": [
    "# import modules for first part:\n",
    "import pandas as pd\n",
    "import pandas_profiling\n",
    "import numpy as np\n",
    "\n",
    "from sklearn.impute import SimpleImputer\n",
    "from sklearn.preprocessing import FunctionTransformer\n",
    "from sklearn.preprocessing import StandardScaler\n",
    "from sklearn.metrics import recall_score\n"
   ]
  },
  {
   "cell_type": "code",
   "execution_count": 2,
   "metadata": {},
   "outputs": [],
   "source": [
    " \n",
    "def removing_columns(df):\n",
    "    '''\n",
    "    remove columns with 0 variance\n",
    "    or more than 90% missing values:\n",
    "    they are 4 columns in the train dataset\n",
    "    '''\n",
    "    df1=df.drop(['STDs:cervical condylomatosis','STDs:AIDS',\n",
    "                'STDs: Time since first diagnosis','STDs: Time since last diagnosis'],axis=1)\n",
    "    return df1\n",
    "\n",
    "def fill_question_marks(df):\n",
    "    df = df.replace('?', np.NaN)\n",
    "    return df\n",
    "\n",
    "def convert_to_numeric(df):\n",
    "    '''\n",
    "    convert all columns into numeric\n",
    "    ''' \n",
    "    cols = df.columns\n",
    "    df[cols] = df[cols].apply(pd.to_numeric, errors='coerce')\n",
    "    return df\n",
    "\n",
    "def preprocess(df_train, df_test, df_validate):\n",
    "    \n",
    "    '''\n",
    "    Apply the other functions and impute the null values with SimpleImputer.\n",
    "    After convert to numeric all the columns will be numeric\n",
    "    as the objects were actually numeric columns as strings\n",
    "    '''\n",
    "    \n",
    "    df_train=removing_columns(df_train)\n",
    "    df_train=fill_question_marks(df_train)\n",
    "    df_train=convert_to_numeric(df_train)\n",
    " \n",
    "    df_test=removing_columns(df_test)\n",
    "    df_test=fill_question_marks(df_test)\n",
    "    df_test=convert_to_numeric(df_test)\n",
    "\n",
    "    df_validate=removing_columns(df_validate)\n",
    "    df_validate=fill_question_marks(df_validate)\n",
    "    df_validate=convert_to_numeric(df_validate)\n",
    "    \n",
    "    #impute with the median of train\n",
    "    imputer = SimpleImputer(strategy=\"most_frequent\")\n",
    "    np_train = imputer.fit_transform(df_train)\n",
    "    np_test = imputer.transform(df_test)\n",
    "    np_validate = imputer.transform(df_validate)\n",
    "    \n",
    "    # convert np arrays to DataFrame again to manipulate them\n",
    "    df_train = pd.DataFrame(np_train, columns=df_train.columns)\n",
    "    df_test = pd.DataFrame(np_test, columns=df_train.columns)\n",
    "    df_validate = pd.DataFrame(np_validate, columns=df_train.columns)\n",
    "    \n",
    "    #apply standard scaler to true numerical columns\n",
    "    #copy the df:\n",
    "    df_scaled_train = df_train.copy()\n",
    "    df_scaled_test = df_test.copy()\n",
    "    df_scaled_validate = df_validate.copy()\n",
    "    \n",
    "    col_names = ['Age', 'Number of sexual partners', 'First sexual intercourse', 'Num of pregnancies',\n",
    "                'Smokes (years)', 'Smokes (packs/year)', 'Hormonal Contraceptives (years)', 'IUD (years)',\n",
    "                'STDs (number)']\n",
    "    \n",
    "    #copy the columns to scale in a df\n",
    "    features_train = df_scaled_train[col_names]\n",
    "    features_test = df_scaled_test[col_names]\n",
    "    features_validate = df_scaled_validate[col_names]\n",
    "    \n",
    "    #initialize scaler\n",
    "    scaler = StandardScaler()\n",
    "    \n",
    "    #fit transform and transform the df with only the columns to scale\n",
    "    features_train =scaler.fit_transform(features_train.values)\n",
    "    features_test = scaler.transform(features_test.values)\n",
    "    features_validate = scaler.transform(features_validate.values)\n",
    "    \n",
    "    #addign the results to the initial df (the copies one):\n",
    "    df_scaled_train[col_names] = features_train\n",
    "    df_scaled_test[col_names] = features_test\n",
    "    df_scaled_validate[col_names] = features_validate\n",
    "\n",
    "    \n",
    "    return df_scaled_train, df_scaled_test, df_scaled_validate\n",
    "    \n"
   ]
  },
  {
   "cell_type": "code",
   "execution_count": 3,
   "metadata": {},
   "outputs": [],
   "source": [
    "#load the data\n",
    "df1=pd.read_csv(\"../Data/kag_risk_factors_cervical_cancer.csv\")"
   ]
  },
  {
   "cell_type": "code",
   "execution_count": 4,
   "metadata": {},
   "outputs": [],
   "source": [
    "#divive the data in X and Y\n",
    "X = df1.drop(columns=\"Biopsy\")\n",
    "y = df1[\"Biopsy\"]\n",
    "\n",
    "\n",
    "#spliting the validation data\n",
    "from sklearn.model_selection import train_test_split\n",
    "X_t, X_validate, y_t, y_validate = train_test_split(X, y, test_size=0.1, random_state=0)\n",
    "\n",
    "# splitting the test and train data\n",
    "X_train, X_test, y_train, y_test = train_test_split(X_t, y_t, test_size=0.15, random_state=0)"
   ]
  },
  {
   "cell_type": "code",
   "execution_count": 5,
   "metadata": {},
   "outputs": [
    {
     "data": {
      "application/vnd.jupyter.widget-view+json": {
       "model_id": "374349c53ffa4353b849583aef078aad",
       "version_major": 2,
       "version_minor": 0
      },
      "text/plain": [
       "HBox(children=(HTML(value='Summarize dataset'), FloatProgress(value=0.0, max=49.0), HTML(value='')))"
      ]
     },
     "metadata": {},
     "output_type": "display_data"
    },
    {
     "name": "stdout",
     "output_type": "stream",
     "text": [
      "\n"
     ]
    },
    {
     "data": {
      "application/vnd.jupyter.widget-view+json": {
       "model_id": "2ee8c1545e9b48ab952db90231524b6a",
       "version_major": 2,
       "version_minor": 0
      },
      "text/plain": [
       "HBox(children=(HTML(value='Generate report structure'), FloatProgress(value=0.0, max=1.0), HTML(value='')))"
      ]
     },
     "metadata": {},
     "output_type": "display_data"
    },
    {
     "name": "stdout",
     "output_type": "stream",
     "text": [
      "\n"
     ]
    },
    {
     "data": {
      "application/vnd.jupyter.widget-view+json": {
       "model_id": "d07bfd8fde1d4d88be173597821bf751",
       "version_major": 2,
       "version_minor": 0
      },
      "text/plain": [
       "HBox(children=(HTML(value='Render HTML'), FloatProgress(value=0.0, max=1.0), HTML(value='')))"
      ]
     },
     "metadata": {},
     "output_type": "display_data"
    },
    {
     "name": "stdout",
     "output_type": "stream",
     "text": [
      "\n"
     ]
    },
    {
     "data": {
      "application/vnd.jupyter.widget-view+json": {
       "model_id": "b6daf4847f744ff49e93c86a17fb3ae7",
       "version_major": 2,
       "version_minor": 0
      },
      "text/plain": [
       "HBox(children=(HTML(value='Export report to file'), FloatProgress(value=0.0, max=1.0), HTML(value='')))"
      ]
     },
     "metadata": {},
     "output_type": "display_data"
    },
    {
     "name": "stdout",
     "output_type": "stream",
     "text": [
      "\n"
     ]
    }
   ],
   "source": [
    "#save a profile of the X_train data. Previous exploration has already been performed\n",
    "#get a description of the features:\n",
    "profile = pandas_profiling.ProfileReport(X_train, title=\"Cervix cancer risk Data profiling\")\n",
    "profile.to_file(\"../Data/Cervix_cancer_data_profiling_report.html\")"
   ]
  },
  {
   "cell_type": "code",
   "execution_count": 6,
   "metadata": {},
   "outputs": [],
   "source": [
    "#Apply preprocess function  to all the X files:\n",
    "#(remove unnecessary columns, replace question marks for Nan, convert to numeric and apply simple imputer)\n",
    "X_train_ready, X_test_ready, X_validate_ready=preprocess(X_train, X_test, X_validate)"
   ]
  },
  {
   "cell_type": "code",
   "execution_count": 7,
   "metadata": {},
   "outputs": [
    {
     "data": {
      "application/vnd.jupyter.widget-view+json": {
       "model_id": "22f946342567439cad31012d1ee73929",
       "version_major": 2,
       "version_minor": 0
      },
      "text/plain": [
       "HBox(children=(HTML(value='Summarize dataset'), FloatProgress(value=0.0, max=44.0), HTML(value='')))"
      ]
     },
     "metadata": {},
     "output_type": "display_data"
    },
    {
     "name": "stdout",
     "output_type": "stream",
     "text": [
      "\n"
     ]
    },
    {
     "data": {
      "application/vnd.jupyter.widget-view+json": {
       "model_id": "2391985144b04260b30b1eeb14186712",
       "version_major": 2,
       "version_minor": 0
      },
      "text/plain": [
       "HBox(children=(HTML(value='Generate report structure'), FloatProgress(value=0.0, max=1.0), HTML(value='')))"
      ]
     },
     "metadata": {},
     "output_type": "display_data"
    },
    {
     "name": "stdout",
     "output_type": "stream",
     "text": [
      "\n"
     ]
    },
    {
     "data": {
      "application/vnd.jupyter.widget-view+json": {
       "model_id": "9a96eb0e772646ff83c3d3e3a87e47ec",
       "version_major": 2,
       "version_minor": 0
      },
      "text/plain": [
       "HBox(children=(HTML(value='Render HTML'), FloatProgress(value=0.0, max=1.0), HTML(value='')))"
      ]
     },
     "metadata": {},
     "output_type": "display_data"
    },
    {
     "name": "stdout",
     "output_type": "stream",
     "text": [
      "\n"
     ]
    },
    {
     "data": {
      "application/vnd.jupyter.widget-view+json": {
       "model_id": "552cb8bcbda14748afe7247f619fde62",
       "version_major": 2,
       "version_minor": 0
      },
      "text/plain": [
       "HBox(children=(HTML(value='Export report to file'), FloatProgress(value=0.0, max=1.0), HTML(value='')))"
      ]
     },
     "metadata": {},
     "output_type": "display_data"
    },
    {
     "name": "stdout",
     "output_type": "stream",
     "text": [
      "\n"
     ]
    }
   ],
   "source": [
    "#save a profile of the X_train data after processing\n",
    "\n",
    "profile = pandas_profiling.ProfileReport(X_train_ready, title=\"Post processing Cervix cancer risk Data profiling\")\n",
    "profile.to_file(\"../Data/Cervix_cancer_data_profiling_report_post_processing.html\")"
   ]
  },
  {
   "cell_type": "code",
   "execution_count": 8,
   "metadata": {},
   "outputs": [
    {
     "data": {
      "text/html": [
       "<div>\n",
       "<style scoped>\n",
       "    .dataframe tbody tr th:only-of-type {\n",
       "        vertical-align: middle;\n",
       "    }\n",
       "\n",
       "    .dataframe tbody tr th {\n",
       "        vertical-align: top;\n",
       "    }\n",
       "\n",
       "    .dataframe thead th {\n",
       "        text-align: right;\n",
       "    }\n",
       "</style>\n",
       "<table border=\"1\" class=\"dataframe\">\n",
       "  <thead>\n",
       "    <tr style=\"text-align: right;\">\n",
       "      <th></th>\n",
       "      <th>Age</th>\n",
       "      <th>Number of sexual partners</th>\n",
       "      <th>First sexual intercourse</th>\n",
       "      <th>Num of pregnancies</th>\n",
       "      <th>Smokes</th>\n",
       "      <th>Smokes (years)</th>\n",
       "      <th>Smokes (packs/year)</th>\n",
       "      <th>Hormonal Contraceptives</th>\n",
       "      <th>Hormonal Contraceptives (years)</th>\n",
       "      <th>IUD</th>\n",
       "      <th>...</th>\n",
       "      <th>STDs:Hepatitis B</th>\n",
       "      <th>STDs:HPV</th>\n",
       "      <th>STDs: Number of diagnosis</th>\n",
       "      <th>Dx:Cancer</th>\n",
       "      <th>Dx:CIN</th>\n",
       "      <th>Dx:HPV</th>\n",
       "      <th>Dx</th>\n",
       "      <th>Hinselmann</th>\n",
       "      <th>Schiller</th>\n",
       "      <th>Citology</th>\n",
       "    </tr>\n",
       "  </thead>\n",
       "  <tbody>\n",
       "    <tr>\n",
       "      <th>0</th>\n",
       "      <td>-1.531373</td>\n",
       "      <td>-0.302480</td>\n",
       "      <td>-1.064614</td>\n",
       "      <td>-0.836137</td>\n",
       "      <td>0.0</td>\n",
       "      <td>-0.307318</td>\n",
       "      <td>-0.208218</td>\n",
       "      <td>0.0</td>\n",
       "      <td>-0.556973</td>\n",
       "      <td>0.0</td>\n",
       "      <td>...</td>\n",
       "      <td>0.0</td>\n",
       "      <td>0.0</td>\n",
       "      <td>0.0</td>\n",
       "      <td>0.0</td>\n",
       "      <td>0.0</td>\n",
       "      <td>0.0</td>\n",
       "      <td>0.0</td>\n",
       "      <td>0.0</td>\n",
       "      <td>0.0</td>\n",
       "      <td>0.0</td>\n",
       "    </tr>\n",
       "    <tr>\n",
       "      <th>1</th>\n",
       "      <td>0.237878</td>\n",
       "      <td>1.427985</td>\n",
       "      <td>-0.001620</td>\n",
       "      <td>2.657531</td>\n",
       "      <td>1.0</td>\n",
       "      <td>-0.004815</td>\n",
       "      <td>0.325027</td>\n",
       "      <td>1.0</td>\n",
       "      <td>-0.412462</td>\n",
       "      <td>0.0</td>\n",
       "      <td>...</td>\n",
       "      <td>0.0</td>\n",
       "      <td>0.0</td>\n",
       "      <td>1.0</td>\n",
       "      <td>0.0</td>\n",
       "      <td>0.0</td>\n",
       "      <td>0.0</td>\n",
       "      <td>0.0</td>\n",
       "      <td>0.0</td>\n",
       "      <td>0.0</td>\n",
       "      <td>0.0</td>\n",
       "    </tr>\n",
       "  </tbody>\n",
       "</table>\n",
       "<p>2 rows × 31 columns</p>\n",
       "</div>"
      ],
      "text/plain": [
       "        Age  Number of sexual partners  First sexual intercourse  \\\n",
       "0 -1.531373                  -0.302480                 -1.064614   \n",
       "1  0.237878                   1.427985                 -0.001620   \n",
       "\n",
       "   Num of pregnancies  Smokes  Smokes (years)  Smokes (packs/year)  \\\n",
       "0           -0.836137     0.0       -0.307318            -0.208218   \n",
       "1            2.657531     1.0       -0.004815             0.325027   \n",
       "\n",
       "   Hormonal Contraceptives  Hormonal Contraceptives (years)  IUD  ...  \\\n",
       "0                      0.0                        -0.556973  0.0  ...   \n",
       "1                      1.0                        -0.412462  0.0  ...   \n",
       "\n",
       "   STDs:Hepatitis B  STDs:HPV  STDs: Number of diagnosis  Dx:Cancer  Dx:CIN  \\\n",
       "0               0.0       0.0                        0.0        0.0     0.0   \n",
       "1               0.0       0.0                        1.0        0.0     0.0   \n",
       "\n",
       "   Dx:HPV   Dx  Hinselmann  Schiller  Citology  \n",
       "0     0.0  0.0         0.0       0.0       0.0  \n",
       "1     0.0  0.0         0.0       0.0       0.0  \n",
       "\n",
       "[2 rows x 31 columns]"
      ]
     },
     "execution_count": 8,
     "metadata": {},
     "output_type": "execute_result"
    }
   ],
   "source": [
    "# Look at the cleaned dataframe first rows:\n",
    "X_train_ready.head(2)"
   ]
  },
  {
   "cell_type": "code",
   "execution_count": 9,
   "metadata": {},
   "outputs": [
    {
     "data": {
      "text/html": [
       "<div>\n",
       "<style scoped>\n",
       "    .dataframe tbody tr th:only-of-type {\n",
       "        vertical-align: middle;\n",
       "    }\n",
       "\n",
       "    .dataframe tbody tr th {\n",
       "        vertical-align: top;\n",
       "    }\n",
       "\n",
       "    .dataframe thead th {\n",
       "        text-align: right;\n",
       "    }\n",
       "</style>\n",
       "<table border=\"1\" class=\"dataframe\">\n",
       "  <thead>\n",
       "    <tr style=\"text-align: right;\">\n",
       "      <th></th>\n",
       "      <th>Age</th>\n",
       "      <th>Number of sexual partners</th>\n",
       "      <th>First sexual intercourse</th>\n",
       "      <th>Num of pregnancies</th>\n",
       "      <th>Smokes</th>\n",
       "      <th>Smokes (years)</th>\n",
       "      <th>Smokes (packs/year)</th>\n",
       "      <th>Hormonal Contraceptives</th>\n",
       "      <th>Hormonal Contraceptives (years)</th>\n",
       "      <th>IUD</th>\n",
       "      <th>...</th>\n",
       "      <th>STDs:Hepatitis B</th>\n",
       "      <th>STDs:HPV</th>\n",
       "      <th>STDs: Number of diagnosis</th>\n",
       "      <th>Dx:Cancer</th>\n",
       "      <th>Dx:CIN</th>\n",
       "      <th>Dx:HPV</th>\n",
       "      <th>Dx</th>\n",
       "      <th>Hinselmann</th>\n",
       "      <th>Schiller</th>\n",
       "      <th>Citology</th>\n",
       "    </tr>\n",
       "  </thead>\n",
       "  <tbody>\n",
       "    <tr>\n",
       "      <th>0</th>\n",
       "      <td>-1.413423</td>\n",
       "      <td>0.851163</td>\n",
       "      <td>-1.064614</td>\n",
       "      <td>-0.836137</td>\n",
       "      <td>1.0</td>\n",
       "      <td>-0.068558</td>\n",
       "      <td>-0.167199</td>\n",
       "      <td>1.0</td>\n",
       "      <td>-0.533851</td>\n",
       "      <td>0.0</td>\n",
       "      <td>...</td>\n",
       "      <td>0.0</td>\n",
       "      <td>0.0</td>\n",
       "      <td>0.0</td>\n",
       "      <td>0.0</td>\n",
       "      <td>0.0</td>\n",
       "      <td>0.0</td>\n",
       "      <td>0.0</td>\n",
       "      <td>0.0</td>\n",
       "      <td>0.0</td>\n",
       "      <td>1.0</td>\n",
       "    </tr>\n",
       "    <tr>\n",
       "      <th>1</th>\n",
       "      <td>1.535328</td>\n",
       "      <td>-0.302480</td>\n",
       "      <td>-0.001620</td>\n",
       "      <td>0.561330</td>\n",
       "      <td>0.0</td>\n",
       "      <td>-0.307318</td>\n",
       "      <td>-0.208218</td>\n",
       "      <td>1.0</td>\n",
       "      <td>4.934456</td>\n",
       "      <td>0.0</td>\n",
       "      <td>...</td>\n",
       "      <td>0.0</td>\n",
       "      <td>0.0</td>\n",
       "      <td>0.0</td>\n",
       "      <td>0.0</td>\n",
       "      <td>0.0</td>\n",
       "      <td>0.0</td>\n",
       "      <td>0.0</td>\n",
       "      <td>0.0</td>\n",
       "      <td>1.0</td>\n",
       "      <td>0.0</td>\n",
       "    </tr>\n",
       "  </tbody>\n",
       "</table>\n",
       "<p>2 rows × 31 columns</p>\n",
       "</div>"
      ],
      "text/plain": [
       "        Age  Number of sexual partners  First sexual intercourse  \\\n",
       "0 -1.413423                   0.851163                 -1.064614   \n",
       "1  1.535328                  -0.302480                 -0.001620   \n",
       "\n",
       "   Num of pregnancies  Smokes  Smokes (years)  Smokes (packs/year)  \\\n",
       "0           -0.836137     1.0       -0.068558            -0.167199   \n",
       "1            0.561330     0.0       -0.307318            -0.208218   \n",
       "\n",
       "   Hormonal Contraceptives  Hormonal Contraceptives (years)  IUD  ...  \\\n",
       "0                      1.0                        -0.533851  0.0  ...   \n",
       "1                      1.0                         4.934456  0.0  ...   \n",
       "\n",
       "   STDs:Hepatitis B  STDs:HPV  STDs: Number of diagnosis  Dx:Cancer  Dx:CIN  \\\n",
       "0               0.0       0.0                        0.0        0.0     0.0   \n",
       "1               0.0       0.0                        0.0        0.0     0.0   \n",
       "\n",
       "   Dx:HPV   Dx  Hinselmann  Schiller  Citology  \n",
       "0     0.0  0.0         0.0       0.0       1.0  \n",
       "1     0.0  0.0         0.0       1.0       0.0  \n",
       "\n",
       "[2 rows x 31 columns]"
      ]
     },
     "execution_count": 9,
     "metadata": {},
     "output_type": "execute_result"
    }
   ],
   "source": [
    "X_test_ready.head(2)"
   ]
  },
  {
   "cell_type": "code",
   "execution_count": 10,
   "metadata": {},
   "outputs": [
    {
     "data": {
      "text/html": [
       "<div>\n",
       "<style scoped>\n",
       "    .dataframe tbody tr th:only-of-type {\n",
       "        vertical-align: middle;\n",
       "    }\n",
       "\n",
       "    .dataframe tbody tr th {\n",
       "        vertical-align: top;\n",
       "    }\n",
       "\n",
       "    .dataframe thead th {\n",
       "        text-align: right;\n",
       "    }\n",
       "</style>\n",
       "<table border=\"1\" class=\"dataframe\">\n",
       "  <thead>\n",
       "    <tr style=\"text-align: right;\">\n",
       "      <th></th>\n",
       "      <th>Age</th>\n",
       "      <th>Number of sexual partners</th>\n",
       "      <th>First sexual intercourse</th>\n",
       "      <th>Num of pregnancies</th>\n",
       "      <th>Smokes</th>\n",
       "      <th>Smokes (years)</th>\n",
       "      <th>Smokes (packs/year)</th>\n",
       "      <th>Hormonal Contraceptives</th>\n",
       "      <th>Hormonal Contraceptives (years)</th>\n",
       "      <th>IUD</th>\n",
       "      <th>...</th>\n",
       "      <th>STDs:Hepatitis B</th>\n",
       "      <th>STDs:HPV</th>\n",
       "      <th>STDs: Number of diagnosis</th>\n",
       "      <th>Dx:Cancer</th>\n",
       "      <th>Dx:CIN</th>\n",
       "      <th>Dx:HPV</th>\n",
       "      <th>Dx</th>\n",
       "      <th>Hinselmann</th>\n",
       "      <th>Schiller</th>\n",
       "      <th>Citology</th>\n",
       "    </tr>\n",
       "  </thead>\n",
       "  <tbody>\n",
       "    <tr>\n",
       "      <th>0</th>\n",
       "      <td>0.355828</td>\n",
       "      <td>-0.302480</td>\n",
       "      <td>-0.001620</td>\n",
       "      <td>-0.836137</td>\n",
       "      <td>0.0</td>\n",
       "      <td>-0.307318</td>\n",
       "      <td>-0.208218</td>\n",
       "      <td>1.0</td>\n",
       "      <td>-0.267950</td>\n",
       "      <td>0.0</td>\n",
       "      <td>...</td>\n",
       "      <td>0.0</td>\n",
       "      <td>0.0</td>\n",
       "      <td>0.0</td>\n",
       "      <td>0.0</td>\n",
       "      <td>0.0</td>\n",
       "      <td>0.0</td>\n",
       "      <td>0.0</td>\n",
       "      <td>0.0</td>\n",
       "      <td>0.0</td>\n",
       "      <td>0.0</td>\n",
       "    </tr>\n",
       "    <tr>\n",
       "      <th>1</th>\n",
       "      <td>1.889179</td>\n",
       "      <td>0.851163</td>\n",
       "      <td>-0.355952</td>\n",
       "      <td>0.561330</td>\n",
       "      <td>1.0</td>\n",
       "      <td>6.377968</td>\n",
       "      <td>2.663100</td>\n",
       "      <td>0.0</td>\n",
       "      <td>-0.556973</td>\n",
       "      <td>1.0</td>\n",
       "      <td>...</td>\n",
       "      <td>0.0</td>\n",
       "      <td>0.0</td>\n",
       "      <td>0.0</td>\n",
       "      <td>0.0</td>\n",
       "      <td>0.0</td>\n",
       "      <td>0.0</td>\n",
       "      <td>0.0</td>\n",
       "      <td>0.0</td>\n",
       "      <td>0.0</td>\n",
       "      <td>0.0</td>\n",
       "    </tr>\n",
       "  </tbody>\n",
       "</table>\n",
       "<p>2 rows × 31 columns</p>\n",
       "</div>"
      ],
      "text/plain": [
       "        Age  Number of sexual partners  First sexual intercourse  \\\n",
       "0  0.355828                  -0.302480                 -0.001620   \n",
       "1  1.889179                   0.851163                 -0.355952   \n",
       "\n",
       "   Num of pregnancies  Smokes  Smokes (years)  Smokes (packs/year)  \\\n",
       "0           -0.836137     0.0       -0.307318            -0.208218   \n",
       "1            0.561330     1.0        6.377968             2.663100   \n",
       "\n",
       "   Hormonal Contraceptives  Hormonal Contraceptives (years)  IUD  ...  \\\n",
       "0                      1.0                        -0.267950  0.0  ...   \n",
       "1                      0.0                        -0.556973  1.0  ...   \n",
       "\n",
       "   STDs:Hepatitis B  STDs:HPV  STDs: Number of diagnosis  Dx:Cancer  Dx:CIN  \\\n",
       "0               0.0       0.0                        0.0        0.0     0.0   \n",
       "1               0.0       0.0                        0.0        0.0     0.0   \n",
       "\n",
       "   Dx:HPV   Dx  Hinselmann  Schiller  Citology  \n",
       "0     0.0  0.0         0.0       0.0       0.0  \n",
       "1     0.0  0.0         0.0       0.0       0.0  \n",
       "\n",
       "[2 rows x 31 columns]"
      ]
     },
     "execution_count": 10,
     "metadata": {},
     "output_type": "execute_result"
    }
   ],
   "source": [
    "X_validate_ready.head(2)"
   ]
  },
  {
   "cell_type": "code",
   "execution_count": 11,
   "metadata": {},
   "outputs": [],
   "source": [
    "#save them in a csv file:\n",
    "\n",
    "X_train_ready.to_csv(\"../Data/X_train_preprocessed.csv\", index =None)\n",
    "X_test_ready.to_csv(\"../Data/X_test_preprocessed.csv\", index =None)\n",
    "X_validate_ready.to_csv(\"../Data/X_validate_preprocessed.csv\", index =None)\n",
    "y_train.to_csv(\"../Data/y_train_preprocessed.csv\", index =None)\n",
    "y_test.to_csv(\"../Data/y_test_preprocessed.csv\", index =None)\n",
    "y_validate.to_csv(\"../Data/y_validate_preprocessed.csv\", index =None)"
   ]
  },
  {
   "cell_type": "markdown",
   "metadata": {},
   "source": [
    "## Part 1.2 : Predicting with Logistic Regression"
   ]
  },
  {
   "cell_type": "code",
   "execution_count": 12,
   "metadata": {},
   "outputs": [
    {
     "name": "stdout",
     "output_type": "stream",
     "text": [
      "Dataset was not very large. The train dataset has 656 rows, the test 116, and the validation 86\n"
     ]
    }
   ],
   "source": [
    "#Use LogisticRegression to be sure that the data is formated correctly\n",
    "#and that LR is not a good prediction method\n",
    "print(f\"Dataset was not very large. The train dataset has {len(y_train)} rows, the test {len(y_test)}, and the validation {len(y_validate)}\")\n"
   ]
  },
  {
   "cell_type": "code",
   "execution_count": 25,
   "metadata": {},
   "outputs": [],
   "source": [
    "from sklearn import metrics\n",
    "from sklearn.linear_model import LogisticRegression\n",
    "from sklearn.metrics import r2_score\n",
    "from sklearn.metrics import confusion_matrix\n",
    "from sklearn.metrics import ConfusionMatrixDisplay"
   ]
  },
  {
   "cell_type": "code",
   "execution_count": 18,
   "metadata": {},
   "outputs": [
    {
     "data": {
      "text/plain": [
       "0.975609756097561"
      ]
     },
     "execution_count": 18,
     "metadata": {},
     "output_type": "execute_result"
    }
   ],
   "source": [
    "reg = LogisticRegression().fit(X_train_ready, y_train)\n",
    "reg.score(X_train_ready, y_train)"
   ]
  },
  {
   "cell_type": "code",
   "execution_count": 19,
   "metadata": {},
   "outputs": [],
   "source": [
    "y_pred=reg.predict(X_test_ready)"
   ]
  },
  {
   "cell_type": "code",
   "execution_count": 21,
   "metadata": {},
   "outputs": [
    {
     "data": {
      "text/plain": [
       "0.9310344827586207"
      ]
     },
     "execution_count": 21,
     "metadata": {},
     "output_type": "execute_result"
    }
   ],
   "source": [
    "reg.score(X_test_ready, y_test)"
   ]
  },
  {
   "cell_type": "code",
   "execution_count": 22,
   "metadata": {},
   "outputs": [
    {
     "data": {
      "text/plain": [
       "0.9302325581395349"
      ]
     },
     "execution_count": 22,
     "metadata": {},
     "output_type": "execute_result"
    }
   ],
   "source": [
    "reg.score(X_validate_ready, y_validate)"
   ]
  },
  {
   "cell_type": "markdown",
   "metadata": {},
   "source": [
    "LR seems to be a great model, but since we know we have imbalanced data, we'll look at the confussion matrix:"
   ]
  },
  {
   "cell_type": "code",
   "execution_count": 27,
   "metadata": {},
   "outputs": [
    {
     "data": {
      "image/png": "[encoded data removed]",
      "text/plain": [
       "<Figure size 432x288 with 2 Axes>"
      ]
     },
     "metadata": {
      "needs_background": "light"
     },
     "output_type": "display_data"
    }
   ],
   "source": [
    "y_pred=reg.predict(X_test_ready)\n",
    "y_pred_val=reg.predict(X_validate_ready)\n",
    "cm_test = confusion_matrix(y_test, y_pred)\n",
    "cm_val = confusion_matrix(y_validate, y_pred_val)\n",
    "\n",
    "cm_display = ConfusionMatrixDisplay(cm_test).plot()\n"
   ]
  },
  {
   "cell_type": "code",
   "execution_count": 28,
   "metadata": {},
   "outputs": [
    {
     "data": {
      "image/png": "[encoded data removed]",
      "text/plain": [
       "<Figure size 432x288 with 2 Axes>"
      ]
     },
     "metadata": {
      "needs_background": "light"
     },
     "output_type": "display_data"
    }
   ],
   "source": [
    "cm_display = ConfusionMatrixDisplay(cm_val).plot()"
   ]
  },
  {
   "cell_type": "code",
   "execution_count": 31,
   "metadata": {},
   "outputs": [
    {
     "data": {
      "text/plain": [
       "0.3333333333333333"
      ]
     },
     "execution_count": 31,
     "metadata": {},
     "output_type": "execute_result"
    }
   ],
   "source": [
    "recall_score(y_test, y_pred)"
   ]
  },
  {
   "cell_type": "code",
   "execution_count": 32,
   "metadata": {},
   "outputs": [
    {
     "data": {
      "text/plain": [
       "0.4"
      ]
     },
     "execution_count": 32,
     "metadata": {},
     "output_type": "execute_result"
    }
   ],
   "source": [
    "recall_score(y_validate, y_pred_val)"
   ]
  },
  {
   "cell_type": "markdown",
   "metadata": {},
   "source": [
    "Sensitivity or Recall (Cancer diagnosis/ Toal cancer cases) is below 50% in the test and the validate subsets (Cancer dx/True cancer, Test: 3/9, Val:2/5 ).\n",
    "\n",
    "It is worse than what we could accomplish by chance (33% and 40% v 50%)\n",
    "LR is not a good predictor of positive cases in this imbalanced dataset."
   ]
  },
  {
   "cell_type": "markdown",
   "metadata": {},
   "source": [
    "Let's try some more advanced models in \"cervix_project_2_Model_design1\" notebook"
   ]
  }
 ],
 "metadata": {
  "kernelspec": {
   "display_name": "Python 3",
   "language": "python",
   "name": "python3"
  },
  "language_info": {
   "codemirror_mode": {
    "name": "ipython",
    "version": 3
   },
   "file_extension": ".py",
   "mimetype": "text/x-python",
   "name": "python",
   "nbconvert_exporter": "python",
   "pygments_lexer": "ipython3",
   "version": "3.8.5"
  }
 },
 "nbformat": 4,
 "nbformat_minor": 4
}

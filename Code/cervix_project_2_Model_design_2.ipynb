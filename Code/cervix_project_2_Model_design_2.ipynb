{
 "cells": [
  {
   "cell_type": "markdown",
   "metadata": {},
   "source": [
    "# Part2. Model design 2 "
   ]
  },
  {
   "cell_type": "code",
   "execution_count": 1,
   "metadata": {},
   "outputs": [],
   "source": [
    "import pandas as pd\n",
    "import numpy as np\n",
    "import matplotlib.pyplot as plt\n",
    "import os\n",
    "import tempfile\n",
    "\n",
    "import tensorflow as tf\n",
    "from tensorflow.keras.models import Sequential\n",
    "from tensorflow.keras.layers import Dense\n",
    "from tensorflow.keras.layers import Dropout\n",
    "from tensorflow.keras.metrics import SpecificityAtSensitivity\n",
    "from sklearn.metrics import confusion_matrix\n",
    "from sklearn.metrics import ConfusionMatrixDisplay"
   ]
  },
  {
   "cell_type": "code",
   "execution_count": 2,
   "metadata": {},
   "outputs": [],
   "source": [
    "#load the original data\n",
    "df1=pd.read_csv(\"../Data/kag_risk_factors_cervical_cancer.csv\")\n",
    "\n",
    "#load the processed datasets:\n",
    "X_train=pd.read_csv(\"../Data/X_train_preprocessed.csv\")\n",
    "X_test=pd.read_csv(\"../Data/X_test_preprocessed.csv\")\n",
    "X_validate=pd.read_csv(\"../Data/X_validate_preprocessed.csv\")\n",
    "y_train=pd.read_csv(\"../Data/y_train_preprocessed.csv\")\n",
    "y_test=pd.read_csv(\"../Data/y_test_preprocessed.csv\")\n",
    "y_validate=pd.read_csv(\"../Data/y_validate_preprocessed.csv\")"
   ]
  },
  {
   "cell_type": "code",
   "execution_count": 3,
   "metadata": {},
   "outputs": [
    {
     "data": {
      "text/html": [
       "<div>\n",
       "<style scoped>\n",
       "    .dataframe tbody tr th:only-of-type {\n",
       "        vertical-align: middle;\n",
       "    }\n",
       "\n",
       "    .dataframe tbody tr th {\n",
       "        vertical-align: top;\n",
       "    }\n",
       "\n",
       "    .dataframe thead th {\n",
       "        text-align: right;\n",
       "    }\n",
       "</style>\n",
       "<table border=\"1\" class=\"dataframe\">\n",
       "  <thead>\n",
       "    <tr style=\"text-align: right;\">\n",
       "      <th></th>\n",
       "      <th>Age</th>\n",
       "      <th>Number of sexual partners</th>\n",
       "      <th>First sexual intercourse</th>\n",
       "      <th>Num of pregnancies</th>\n",
       "      <th>Smokes</th>\n",
       "      <th>Smokes (years)</th>\n",
       "      <th>Smokes (packs/year)</th>\n",
       "      <th>Hormonal Contraceptives</th>\n",
       "      <th>Hormonal Contraceptives (years)</th>\n",
       "      <th>IUD</th>\n",
       "      <th>...</th>\n",
       "      <th>STDs:Hepatitis B</th>\n",
       "      <th>STDs:HPV</th>\n",
       "      <th>STDs: Number of diagnosis</th>\n",
       "      <th>Dx:Cancer</th>\n",
       "      <th>Dx:CIN</th>\n",
       "      <th>Dx:HPV</th>\n",
       "      <th>Dx</th>\n",
       "      <th>Hinselmann</th>\n",
       "      <th>Schiller</th>\n",
       "      <th>Citology</th>\n",
       "    </tr>\n",
       "  </thead>\n",
       "  <tbody>\n",
       "    <tr>\n",
       "      <th>0</th>\n",
       "      <td>-1.531373</td>\n",
       "      <td>-0.302480</td>\n",
       "      <td>-1.064614</td>\n",
       "      <td>-0.836137</td>\n",
       "      <td>0.0</td>\n",
       "      <td>-0.307318</td>\n",
       "      <td>-0.208218</td>\n",
       "      <td>0.0</td>\n",
       "      <td>-0.556973</td>\n",
       "      <td>0.0</td>\n",
       "      <td>...</td>\n",
       "      <td>0.0</td>\n",
       "      <td>0.0</td>\n",
       "      <td>0.0</td>\n",
       "      <td>0.0</td>\n",
       "      <td>0.0</td>\n",
       "      <td>0.0</td>\n",
       "      <td>0.0</td>\n",
       "      <td>0.0</td>\n",
       "      <td>0.0</td>\n",
       "      <td>0.0</td>\n",
       "    </tr>\n",
       "    <tr>\n",
       "      <th>1</th>\n",
       "      <td>0.237878</td>\n",
       "      <td>1.427985</td>\n",
       "      <td>-0.001620</td>\n",
       "      <td>2.657531</td>\n",
       "      <td>1.0</td>\n",
       "      <td>-0.004815</td>\n",
       "      <td>0.325027</td>\n",
       "      <td>1.0</td>\n",
       "      <td>-0.412462</td>\n",
       "      <td>0.0</td>\n",
       "      <td>...</td>\n",
       "      <td>0.0</td>\n",
       "      <td>0.0</td>\n",
       "      <td>1.0</td>\n",
       "      <td>0.0</td>\n",
       "      <td>0.0</td>\n",
       "      <td>0.0</td>\n",
       "      <td>0.0</td>\n",
       "      <td>0.0</td>\n",
       "      <td>0.0</td>\n",
       "      <td>0.0</td>\n",
       "    </tr>\n",
       "    <tr>\n",
       "      <th>2</th>\n",
       "      <td>-0.941623</td>\n",
       "      <td>-0.302480</td>\n",
       "      <td>-0.710283</td>\n",
       "      <td>-0.137403</td>\n",
       "      <td>0.0</td>\n",
       "      <td>-0.307318</td>\n",
       "      <td>-0.208218</td>\n",
       "      <td>1.0</td>\n",
       "      <td>-0.412462</td>\n",
       "      <td>0.0</td>\n",
       "      <td>...</td>\n",
       "      <td>0.0</td>\n",
       "      <td>0.0</td>\n",
       "      <td>0.0</td>\n",
       "      <td>0.0</td>\n",
       "      <td>0.0</td>\n",
       "      <td>0.0</td>\n",
       "      <td>0.0</td>\n",
       "      <td>0.0</td>\n",
       "      <td>0.0</td>\n",
       "      <td>0.0</td>\n",
       "    </tr>\n",
       "    <tr>\n",
       "      <th>3</th>\n",
       "      <td>-0.823672</td>\n",
       "      <td>-0.302480</td>\n",
       "      <td>-0.710283</td>\n",
       "      <td>-0.836137</td>\n",
       "      <td>0.0</td>\n",
       "      <td>-0.307318</td>\n",
       "      <td>-0.208218</td>\n",
       "      <td>0.0</td>\n",
       "      <td>-0.556973</td>\n",
       "      <td>0.0</td>\n",
       "      <td>...</td>\n",
       "      <td>0.0</td>\n",
       "      <td>0.0</td>\n",
       "      <td>0.0</td>\n",
       "      <td>0.0</td>\n",
       "      <td>0.0</td>\n",
       "      <td>0.0</td>\n",
       "      <td>0.0</td>\n",
       "      <td>0.0</td>\n",
       "      <td>0.0</td>\n",
       "      <td>0.0</td>\n",
       "    </tr>\n",
       "    <tr>\n",
       "      <th>4</th>\n",
       "      <td>2.007129</td>\n",
       "      <td>0.274342</td>\n",
       "      <td>0.707042</td>\n",
       "      <td>-0.836137</td>\n",
       "      <td>0.0</td>\n",
       "      <td>-0.307318</td>\n",
       "      <td>-0.208218</td>\n",
       "      <td>0.0</td>\n",
       "      <td>-0.556973</td>\n",
       "      <td>0.0</td>\n",
       "      <td>...</td>\n",
       "      <td>0.0</td>\n",
       "      <td>0.0</td>\n",
       "      <td>0.0</td>\n",
       "      <td>0.0</td>\n",
       "      <td>0.0</td>\n",
       "      <td>0.0</td>\n",
       "      <td>0.0</td>\n",
       "      <td>0.0</td>\n",
       "      <td>0.0</td>\n",
       "      <td>0.0</td>\n",
       "    </tr>\n",
       "  </tbody>\n",
       "</table>\n",
       "<p>5 rows × 31 columns</p>\n",
       "</div>"
      ],
      "text/plain": [
       "        Age  Number of sexual partners  First sexual intercourse  \\\n",
       "0 -1.531373                  -0.302480                 -1.064614   \n",
       "1  0.237878                   1.427985                 -0.001620   \n",
       "2 -0.941623                  -0.302480                 -0.710283   \n",
       "3 -0.823672                  -0.302480                 -0.710283   \n",
       "4  2.007129                   0.274342                  0.707042   \n",
       "\n",
       "   Num of pregnancies  Smokes  Smokes (years)  Smokes (packs/year)  \\\n",
       "0           -0.836137     0.0       -0.307318            -0.208218   \n",
       "1            2.657531     1.0       -0.004815             0.325027   \n",
       "2           -0.137403     0.0       -0.307318            -0.208218   \n",
       "3           -0.836137     0.0       -0.307318            -0.208218   \n",
       "4           -0.836137     0.0       -0.307318            -0.208218   \n",
       "\n",
       "   Hormonal Contraceptives  Hormonal Contraceptives (years)  IUD  ...  \\\n",
       "0                      0.0                        -0.556973  0.0  ...   \n",
       "1                      1.0                        -0.412462  0.0  ...   \n",
       "2                      1.0                        -0.412462  0.0  ...   \n",
       "3                      0.0                        -0.556973  0.0  ...   \n",
       "4                      0.0                        -0.556973  0.0  ...   \n",
       "\n",
       "   STDs:Hepatitis B  STDs:HPV  STDs: Number of diagnosis  Dx:Cancer  Dx:CIN  \\\n",
       "0               0.0       0.0                        0.0        0.0     0.0   \n",
       "1               0.0       0.0                        1.0        0.0     0.0   \n",
       "2               0.0       0.0                        0.0        0.0     0.0   \n",
       "3               0.0       0.0                        0.0        0.0     0.0   \n",
       "4               0.0       0.0                        0.0        0.0     0.0   \n",
       "\n",
       "   Dx:HPV   Dx  Hinselmann  Schiller  Citology  \n",
       "0     0.0  0.0         0.0       0.0       0.0  \n",
       "1     0.0  0.0         0.0       0.0       0.0  \n",
       "2     0.0  0.0         0.0       0.0       0.0  \n",
       "3     0.0  0.0         0.0       0.0       0.0  \n",
       "4     0.0  0.0         0.0       0.0       0.0  \n",
       "\n",
       "[5 rows x 31 columns]"
      ]
     },
     "execution_count": 3,
     "metadata": {},
     "output_type": "execute_result"
    }
   ],
   "source": [
    "X_train.head()"
   ]
  },
  {
   "cell_type": "code",
   "execution_count": 4,
   "metadata": {},
   "outputs": [
    {
     "data": {
      "text/html": [
       "<div>\n",
       "<style scoped>\n",
       "    .dataframe tbody tr th:only-of-type {\n",
       "        vertical-align: middle;\n",
       "    }\n",
       "\n",
       "    .dataframe tbody tr th {\n",
       "        vertical-align: top;\n",
       "    }\n",
       "\n",
       "    .dataframe thead th {\n",
       "        text-align: right;\n",
       "    }\n",
       "</style>\n",
       "<table border=\"1\" class=\"dataframe\">\n",
       "  <thead>\n",
       "    <tr style=\"text-align: right;\">\n",
       "      <th></th>\n",
       "      <th>Age</th>\n",
       "      <th>Number of sexual partners</th>\n",
       "      <th>First sexual intercourse</th>\n",
       "      <th>Num of pregnancies</th>\n",
       "      <th>Smokes</th>\n",
       "      <th>Smokes (years)</th>\n",
       "      <th>Smokes (packs/year)</th>\n",
       "      <th>Hormonal Contraceptives</th>\n",
       "      <th>Hormonal Contraceptives (years)</th>\n",
       "      <th>IUD</th>\n",
       "      <th>...</th>\n",
       "      <th>STDs:Hepatitis B</th>\n",
       "      <th>STDs:HPV</th>\n",
       "      <th>STDs: Number of diagnosis</th>\n",
       "      <th>Dx:Cancer</th>\n",
       "      <th>Dx:CIN</th>\n",
       "      <th>Dx:HPV</th>\n",
       "      <th>Dx</th>\n",
       "      <th>Hinselmann</th>\n",
       "      <th>Schiller</th>\n",
       "      <th>Citology</th>\n",
       "    </tr>\n",
       "  </thead>\n",
       "  <tbody>\n",
       "    <tr>\n",
       "      <th>654</th>\n",
       "      <td>-0.587772</td>\n",
       "      <td>-0.879301</td>\n",
       "      <td>-0.001620</td>\n",
       "      <td>-0.137403</td>\n",
       "      <td>0.0</td>\n",
       "      <td>-0.307318</td>\n",
       "      <td>-0.208218</td>\n",
       "      <td>1.0</td>\n",
       "      <td>-0.510729</td>\n",
       "      <td>1.0</td>\n",
       "      <td>...</td>\n",
       "      <td>0.0</td>\n",
       "      <td>0.0</td>\n",
       "      <td>0.0</td>\n",
       "      <td>0.0</td>\n",
       "      <td>0.0</td>\n",
       "      <td>0.0</td>\n",
       "      <td>0.0</td>\n",
       "      <td>0.0</td>\n",
       "      <td>0.0</td>\n",
       "      <td>0.0</td>\n",
       "    </tr>\n",
       "    <tr>\n",
       "      <th>655</th>\n",
       "      <td>0.355828</td>\n",
       "      <td>-0.302480</td>\n",
       "      <td>-1.418945</td>\n",
       "      <td>0.561330</td>\n",
       "      <td>1.0</td>\n",
       "      <td>4.945406</td>\n",
       "      <td>1.145403</td>\n",
       "      <td>0.0</td>\n",
       "      <td>-0.556973</td>\n",
       "      <td>0.0</td>\n",
       "      <td>...</td>\n",
       "      <td>0.0</td>\n",
       "      <td>0.0</td>\n",
       "      <td>1.0</td>\n",
       "      <td>0.0</td>\n",
       "      <td>0.0</td>\n",
       "      <td>0.0</td>\n",
       "      <td>0.0</td>\n",
       "      <td>1.0</td>\n",
       "      <td>1.0</td>\n",
       "      <td>0.0</td>\n",
       "    </tr>\n",
       "  </tbody>\n",
       "</table>\n",
       "<p>2 rows × 31 columns</p>\n",
       "</div>"
      ],
      "text/plain": [
       "          Age  Number of sexual partners  First sexual intercourse  \\\n",
       "654 -0.587772                  -0.879301                 -0.001620   \n",
       "655  0.355828                  -0.302480                 -1.418945   \n",
       "\n",
       "     Num of pregnancies  Smokes  Smokes (years)  Smokes (packs/year)  \\\n",
       "654           -0.137403     0.0       -0.307318            -0.208218   \n",
       "655            0.561330     1.0        4.945406             1.145403   \n",
       "\n",
       "     Hormonal Contraceptives  Hormonal Contraceptives (years)  IUD  ...  \\\n",
       "654                      1.0                        -0.510729  1.0  ...   \n",
       "655                      0.0                        -0.556973  0.0  ...   \n",
       "\n",
       "     STDs:Hepatitis B  STDs:HPV  STDs: Number of diagnosis  Dx:Cancer  Dx:CIN  \\\n",
       "654               0.0       0.0                        0.0        0.0     0.0   \n",
       "655               0.0       0.0                        1.0        0.0     0.0   \n",
       "\n",
       "     Dx:HPV   Dx  Hinselmann  Schiller  Citology  \n",
       "654     0.0  0.0         0.0       0.0       0.0  \n",
       "655     0.0  0.0         1.0       1.0       0.0  \n",
       "\n",
       "[2 rows x 31 columns]"
      ]
     },
     "execution_count": 4,
     "metadata": {},
     "output_type": "execute_result"
    }
   ],
   "source": [
    "#show the processed X_train file:\n",
    "X_train.tail(2)"
   ]
  },
  {
   "cell_type": "code",
   "execution_count": 42,
   "metadata": {},
   "outputs": [
    {
     "data": {
      "text/html": [
       "<div>\n",
       "<style scoped>\n",
       "    .dataframe tbody tr th:only-of-type {\n",
       "        vertical-align: middle;\n",
       "    }\n",
       "\n",
       "    .dataframe tbody tr th {\n",
       "        vertical-align: top;\n",
       "    }\n",
       "\n",
       "    .dataframe thead th {\n",
       "        text-align: right;\n",
       "    }\n",
       "</style>\n",
       "<table border=\"1\" class=\"dataframe\">\n",
       "  <thead>\n",
       "    <tr style=\"text-align: right;\">\n",
       "      <th></th>\n",
       "      <th>Biopsy</th>\n",
       "    </tr>\n",
       "  </thead>\n",
       "  <tbody>\n",
       "    <tr>\n",
       "      <th>654</th>\n",
       "      <td>0</td>\n",
       "    </tr>\n",
       "    <tr>\n",
       "      <th>655</th>\n",
       "      <td>1</td>\n",
       "    </tr>\n",
       "  </tbody>\n",
       "</table>\n",
       "</div>"
      ],
      "text/plain": [
       "     Biopsy\n",
       "654       0\n",
       "655       1"
      ]
     },
     "execution_count": 42,
     "metadata": {},
     "output_type": "execute_result"
    }
   ],
   "source": [
    "y_train.tail(2)"
   ]
  },
  {
   "cell_type": "markdown",
   "metadata": {},
   "source": [
    "## Model"
   ]
  },
  {
   "cell_type": "markdown",
   "metadata": {},
   "source": [
    "The data in unbalanced, let's try to correct the bias:"
   ]
  },
  {
   "cell_type": "code",
   "execution_count": 5,
   "metadata": {},
   "outputs": [
    {
     "name": "stdout",
     "output_type": "stream",
     "text": [
      "Examples:\n",
      "    Total: 858\n",
      "    Positive: 55 (6.41% of total)\n",
      "\n"
     ]
    }
   ],
   "source": [
    "neg, pos = np.bincount(df1['Biopsy'])\n",
    "total = neg + pos\n",
    "print('Examples:\\n    Total: {}\\n    Positive: {} ({:.2f}% of total)\\n'.format(\n",
    "    total, pos, 100 * pos / total))\n"
   ]
  },
  {
   "cell_type": "code",
   "execution_count": 6,
   "metadata": {},
   "outputs": [
    {
     "data": {
      "text/plain": [
       "array([-2.68102153])"
      ]
     },
     "execution_count": 6,
     "metadata": {},
     "output_type": "execute_result"
    }
   ],
   "source": [
    "#compute an initial bias parameters, to teach the model positive examples are unlikely.\n",
    "initial_bias = np.log([pos/neg])\n",
    "initial_bias"
   ]
  },
  {
   "cell_type": "code",
   "execution_count": 7,
   "metadata": {},
   "outputs": [
    {
     "name": "stdout",
     "output_type": "stream",
     "text": [
      "Model: \"sequential\"\n",
      "_________________________________________________________________\n",
      "Layer (type)                 Output Shape              Param #   \n",
      "=================================================================\n",
      "dense (Dense)                (None, 16)                512       \n",
      "_________________________________________________________________\n",
      "dropout (Dropout)            (None, 16)                0         \n",
      "_________________________________________________________________\n",
      "dense_1 (Dense)              (None, 1)                 17        \n",
      "=================================================================\n",
      "Total params: 529\n",
      "Trainable params: 529\n",
      "Non-trainable params: 0\n",
      "_________________________________________________________________\n"
     ]
    }
   ],
   "source": [
    "METRICS = [\n",
    "      tf.keras.metrics.TruePositives(name='tp'),\n",
    "      tf.keras.metrics.FalsePositives(name='fp'),\n",
    "      tf.keras.metrics.TrueNegatives(name='tn'),\n",
    "      tf.keras.metrics.FalseNegatives(name='fn'), \n",
    "      tf.keras.metrics.BinaryAccuracy(name='accuracy'),\n",
    "      tf.keras.metrics.Precision(name='precision'),\n",
    "      tf.keras.metrics.Recall(name='recall'),\n",
    "      tf.keras.metrics.AUC(name='auc'),\n",
    "]\n",
    "\n",
    "def make_model(metrics=METRICS, output_bias=None):\n",
    "    if output_bias is not None:\n",
    "        output_bias = tf.keras.initializers.Constant(output_bias)\n",
    "    model = tf.keras.Sequential([\n",
    "        tf.keras.layers.Dense(\n",
    "          16, activation='relu',\n",
    "          input_shape=(X_train.shape[-1],)),\n",
    "      tf.keras.layers.Dropout(0.5),\n",
    "      tf.keras.layers.Dense(1, activation='sigmoid',\n",
    "                         bias_initializer=output_bias),\n",
    "  ])\n",
    "\n",
    "    model.compile(\n",
    "        optimizer=tf.keras.optimizers.Adam(lr=1e-3),\n",
    "        loss=tf.keras.losses.BinaryCrossentropy(),\n",
    "        metrics=metrics)\n",
    "\n",
    "    return model\n",
    "\n",
    "EPOCHS = 100\n",
    "BATCH_SIZE = 400\n",
    "\n",
    "early_stopping = tf.keras.callbacks.EarlyStopping(\n",
    "    monitor='val_auc', \n",
    "    verbose=1,\n",
    "    patience=10,\n",
    "    mode='max',\n",
    "    restore_best_weights=True)\n",
    "\n",
    "model = make_model(output_bias=initial_bias) #initial bias parameter\n",
    "model.predict(X_test)\n",
    "\n",
    "model.summary()\n",
    "\n",
    "\n"
   ]
  },
  {
   "cell_type": "markdown",
   "metadata": {},
   "source": [
    "To make the various training runs more comparable, keep this initial model's weights in a checkpoint file, and load them into each model before training."
   ]
  },
  {
   "cell_type": "code",
   "execution_count": 8,
   "metadata": {},
   "outputs": [],
   "source": [
    "initial_weights = os.path.join(tempfile.mkdtemp(), 'initial_weights')\n",
    "model.save_weights(initial_weights)"
   ]
  },
  {
   "cell_type": "markdown",
   "metadata": {},
   "source": [
    "Train the model with and without initial bias and compare outcomes:"
   ]
  },
  {
   "cell_type": "code",
   "execution_count": 11,
   "metadata": {},
   "outputs": [],
   "source": [
    "model = make_model()\n",
    "model.load_weights(initial_weights)\n",
    "model.layers[-1].bias.assign([0.0])\n",
    "zero_bias_history = model.fit(\n",
    "    X_train,\n",
    "    y_train,\n",
    "    epochs=20,\n",
    "    validation_data=(X_validate, y_validate), \n",
    "    verbose=0)\n"
   ]
  },
  {
   "cell_type": "code",
   "execution_count": 12,
   "metadata": {},
   "outputs": [],
   "source": [
    "model = make_model()\n",
    "model.load_weights(initial_weights)\n",
    "careful_bias_history = model.fit(\n",
    "    X_train,\n",
    "    y_train,\n",
    "    epochs=20,\n",
    "    validation_data=(X_validate, y_validate), \n",
    "    verbose=0)\n"
   ]
  },
  {
   "cell_type": "code",
   "execution_count": 13,
   "metadata": {},
   "outputs": [],
   "source": [
    "def plot_loss(history, label, n):\n",
    "  # Use a log scale on y-axis to show the wide range of values.\n",
    "    colorlist = [\"blue\", \"darkorange\"]\n",
    "    plt.semilogy(history.epoch, history.history['loss'],\n",
    "               color=colorlist[n], label='Train ' + label)\n",
    "    plt.semilogy(history.epoch, history.history['val_loss'],\n",
    "               color=colorlist[n], label='Val ' + label,\n",
    "               linestyle=\"--\")\n",
    "    \n",
    "    plt.legend()\n",
    "\n",
    "    plt.xlabel('Epoch')\n",
    "    plt.ylabel('Loss')\n"
   ]
  },
  {
   "cell_type": "code",
   "execution_count": 14,
   "metadata": {},
   "outputs": [
    {
     "data": {
      "image/png": "[encoded data removed]",
      "text/plain": [
       "<Figure size 432x288 with 1 Axes>"
      ]
     },
     "metadata": {
      "needs_background": "light"
     },
     "output_type": "display_data"
    }
   ],
   "source": [
    "plot_loss(zero_bias_history, \"Zero Bias\", 0)\n",
    "plot_loss(careful_bias_history, \"Careful Bias\", 1)\n"
   ]
  },
  {
   "cell_type": "markdown",
   "metadata": {},
   "source": [
    "### Conclusion, using an initial bias reduces the loss of the model in thefirst epochs, but the validation loss after 15 epochs is not much different\n"
   ]
  },
  {
   "cell_type": "code",
   "execution_count": 123,
   "metadata": {},
   "outputs": [
    {
     "name": "stdout",
     "output_type": "stream",
     "text": [
      "Epoch 1/100\n",
      "21/21 [==============================] - 1s 35ms/step - loss: 0.2761 - tp: 0.0000e+00 - fp: 2.0000 - tn: 694.0000 - fn: 46.0000 - accuracy: 0.9353 - precision: 0.0000e+00 - recall: 0.0000e+00 - auc: 0.4753 - val_loss: 0.2231 - val_tp: 0.0000e+00 - val_fp: 0.0000e+00 - val_tn: 81.0000 - val_fn: 5.0000 - val_accuracy: 0.9419 - val_precision: 0.0000e+00 - val_recall: 0.0000e+00 - val_auc: 0.5531\n",
      "Epoch 2/100\n",
      "21/21 [==============================] - 0s 4ms/step - loss: 0.2420 - tp: 0.0000e+00 - fp: 3.0000 - tn: 612.0000 - fn: 41.0000 - accuracy: 0.9329 - precision: 0.0000e+00 - recall: 0.0000e+00 - auc: 0.6187 - val_loss: 0.2188 - val_tp: 0.0000e+00 - val_fp: 0.0000e+00 - val_tn: 81.0000 - val_fn: 5.0000 - val_accuracy: 0.9419 - val_precision: 0.0000e+00 - val_recall: 0.0000e+00 - val_auc: 0.5852\n",
      "Epoch 3/100\n",
      "21/21 [==============================] - 0s 5ms/step - loss: 0.2514 - tp: 0.0000e+00 - fp: 2.0000 - tn: 613.0000 - fn: 41.0000 - accuracy: 0.9345 - precision: 0.0000e+00 - recall: 0.0000e+00 - auc: 0.5456 - val_loss: 0.2145 - val_tp: 0.0000e+00 - val_fp: 0.0000e+00 - val_tn: 81.0000 - val_fn: 5.0000 - val_accuracy: 0.9419 - val_precision: 0.0000e+00 - val_recall: 0.0000e+00 - val_auc: 0.6346\n",
      "Epoch 4/100\n",
      "21/21 [==============================] - 0s 6ms/step - loss: 0.2545 - tp: 1.0000 - fp: 2.0000 - tn: 613.0000 - fn: 40.0000 - accuracy: 0.9360 - precision: 0.3333 - recall: 0.0244 - auc: 0.5487 - val_loss: 0.2107 - val_tp: 0.0000e+00 - val_fp: 0.0000e+00 - val_tn: 81.0000 - val_fn: 5.0000 - val_accuracy: 0.9419 - val_precision: 0.0000e+00 - val_recall: 0.0000e+00 - val_auc: 0.7160\n",
      "Epoch 5/100\n",
      "21/21 [==============================] - 0s 5ms/step - loss: 0.2363 - tp: 0.0000e+00 - fp: 1.0000 - tn: 614.0000 - fn: 41.0000 - accuracy: 0.9360 - precision: 0.0000e+00 - recall: 0.0000e+00 - auc: 0.6036 - val_loss: 0.2069 - val_tp: 0.0000e+00 - val_fp: 0.0000e+00 - val_tn: 81.0000 - val_fn: 5.0000 - val_accuracy: 0.9419 - val_precision: 0.0000e+00 - val_recall: 0.0000e+00 - val_auc: 0.7630\n",
      "Epoch 6/100\n",
      "21/21 [==============================] - 0s 4ms/step - loss: 0.2164 - tp: 0.0000e+00 - fp: 2.0000 - tn: 613.0000 - fn: 41.0000 - accuracy: 0.9345 - precision: 0.0000e+00 - recall: 0.0000e+00 - auc: 0.7451 - val_loss: 0.2035 - val_tp: 0.0000e+00 - val_fp: 0.0000e+00 - val_tn: 81.0000 - val_fn: 5.0000 - val_accuracy: 0.9419 - val_precision: 0.0000e+00 - val_recall: 0.0000e+00 - val_auc: 0.7938\n",
      "Epoch 7/100\n",
      "21/21 [==============================] - 0s 4ms/step - loss: 0.2336 - tp: 0.0000e+00 - fp: 3.0000 - tn: 612.0000 - fn: 41.0000 - accuracy: 0.9329 - precision: 0.0000e+00 - recall: 0.0000e+00 - auc: 0.6630 - val_loss: 0.2013 - val_tp: 0.0000e+00 - val_fp: 0.0000e+00 - val_tn: 81.0000 - val_fn: 5.0000 - val_accuracy: 0.9419 - val_precision: 0.0000e+00 - val_recall: 0.0000e+00 - val_auc: 0.8173\n",
      "Epoch 8/100\n",
      "21/21 [==============================] - 0s 4ms/step - loss: 0.2300 - tp: 0.0000e+00 - fp: 3.0000 - tn: 612.0000 - fn: 41.0000 - accuracy: 0.9329 - precision: 0.0000e+00 - recall: 0.0000e+00 - auc: 0.7069 - val_loss: 0.1986 - val_tp: 0.0000e+00 - val_fp: 0.0000e+00 - val_tn: 81.0000 - val_fn: 5.0000 - val_accuracy: 0.9419 - val_precision: 0.0000e+00 - val_recall: 0.0000e+00 - val_auc: 0.8086\n",
      "Epoch 9/100\n",
      "21/21 [==============================] - 0s 4ms/step - loss: 0.2123 - tp: 1.0000 - fp: 2.0000 - tn: 613.0000 - fn: 40.0000 - accuracy: 0.9360 - precision: 0.3333 - recall: 0.0244 - auc: 0.7158 - val_loss: 0.1970 - val_tp: 0.0000e+00 - val_fp: 0.0000e+00 - val_tn: 81.0000 - val_fn: 5.0000 - val_accuracy: 0.9419 - val_precision: 0.0000e+00 - val_recall: 0.0000e+00 - val_auc: 0.8198\n",
      "Epoch 10/100\n",
      "21/21 [==============================] - 0s 4ms/step - loss: 0.2074 - tp: 1.0000 - fp: 2.0000 - tn: 613.0000 - fn: 40.0000 - accuracy: 0.9360 - precision: 0.3333 - recall: 0.0244 - auc: 0.7809 - val_loss: 0.1949 - val_tp: 0.0000e+00 - val_fp: 0.0000e+00 - val_tn: 81.0000 - val_fn: 5.0000 - val_accuracy: 0.9419 - val_precision: 0.0000e+00 - val_recall: 0.0000e+00 - val_auc: 0.8210\n",
      "Epoch 11/100\n",
      "21/21 [==============================] - 0s 4ms/step - loss: 0.2001 - tp: 0.0000e+00 - fp: 0.0000e+00 - tn: 615.0000 - fn: 41.0000 - accuracy: 0.9375 - precision: 0.0000e+00 - recall: 0.0000e+00 - auc: 0.7925 - val_loss: 0.1924 - val_tp: 0.0000e+00 - val_fp: 0.0000e+00 - val_tn: 81.0000 - val_fn: 5.0000 - val_accuracy: 0.9419 - val_precision: 0.0000e+00 - val_recall: 0.0000e+00 - val_auc: 0.8235\n",
      "Epoch 12/100\n",
      "21/21 [==============================] - 0s 5ms/step - loss: 0.2192 - tp: 1.0000 - fp: 0.0000e+00 - tn: 615.0000 - fn: 40.0000 - accuracy: 0.9390 - precision: 1.0000 - recall: 0.0244 - auc: 0.7062 - val_loss: 0.1901 - val_tp: 0.0000e+00 - val_fp: 0.0000e+00 - val_tn: 81.0000 - val_fn: 5.0000 - val_accuracy: 0.9419 - val_precision: 0.0000e+00 - val_recall: 0.0000e+00 - val_auc: 0.8173\n",
      "Epoch 13/100\n",
      "21/21 [==============================] - 0s 4ms/step - loss: 0.1946 - tp: 1.0000 - fp: 3.0000 - tn: 612.0000 - fn: 40.0000 - accuracy: 0.9345 - precision: 0.2500 - recall: 0.0244 - auc: 0.8284 - val_loss: 0.1888 - val_tp: 0.0000e+00 - val_fp: 0.0000e+00 - val_tn: 81.0000 - val_fn: 5.0000 - val_accuracy: 0.9419 - val_precision: 0.0000e+00 - val_recall: 0.0000e+00 - val_auc: 0.8198\n",
      "Epoch 14/100\n",
      "21/21 [==============================] - 0s 3ms/step - loss: 0.1838 - tp: 3.0000 - fp: 3.0000 - tn: 612.0000 - fn: 38.0000 - accuracy: 0.9375 - precision: 0.5000 - recall: 0.0732 - auc: 0.8463 - val_loss: 0.1872 - val_tp: 0.0000e+00 - val_fp: 0.0000e+00 - val_tn: 81.0000 - val_fn: 5.0000 - val_accuracy: 0.9419 - val_precision: 0.0000e+00 - val_recall: 0.0000e+00 - val_auc: 0.8247\n",
      "Epoch 15/100\n",
      "21/21 [==============================] - 0s 4ms/step - loss: 0.1896 - tp: 2.0000 - fp: 2.0000 - tn: 613.0000 - fn: 39.0000 - accuracy: 0.9375 - precision: 0.5000 - recall: 0.0488 - auc: 0.8242 - val_loss: 0.1851 - val_tp: 0.0000e+00 - val_fp: 0.0000e+00 - val_tn: 81.0000 - val_fn: 5.0000 - val_accuracy: 0.9419 - val_precision: 0.0000e+00 - val_recall: 0.0000e+00 - val_auc: 0.8247\n",
      "Epoch 16/100\n",
      "21/21 [==============================] - 0s 4ms/step - loss: 0.1844 - tp: 4.0000 - fp: 1.0000 - tn: 614.0000 - fn: 37.0000 - accuracy: 0.9421 - precision: 0.8000 - recall: 0.0976 - auc: 0.8227 - val_loss: 0.1826 - val_tp: 0.0000e+00 - val_fp: 0.0000e+00 - val_tn: 81.0000 - val_fn: 5.0000 - val_accuracy: 0.9419 - val_precision: 0.0000e+00 - val_recall: 0.0000e+00 - val_auc: 0.8370\n",
      "Epoch 17/100\n",
      "21/21 [==============================] - 0s 5ms/step - loss: 0.1834 - tp: 1.0000 - fp: 3.0000 - tn: 612.0000 - fn: 40.0000 - accuracy: 0.9345 - precision: 0.2500 - recall: 0.0244 - auc: 0.8744 - val_loss: 0.1805 - val_tp: 0.0000e+00 - val_fp: 0.0000e+00 - val_tn: 81.0000 - val_fn: 5.0000 - val_accuracy: 0.9419 - val_precision: 0.0000e+00 - val_recall: 0.0000e+00 - val_auc: 0.8469\n",
      "Epoch 18/100\n",
      "21/21 [==============================] - 0s 6ms/step - loss: 0.1780 - tp: 2.0000 - fp: 1.0000 - tn: 614.0000 - fn: 39.0000 - accuracy: 0.9390 - precision: 0.6667 - recall: 0.0488 - auc: 0.8747 - val_loss: 0.1784 - val_tp: 0.0000e+00 - val_fp: 0.0000e+00 - val_tn: 81.0000 - val_fn: 5.0000 - val_accuracy: 0.9419 - val_precision: 0.0000e+00 - val_recall: 0.0000e+00 - val_auc: 0.8494\n",
      "Epoch 19/100\n",
      "21/21 [==============================] - 0s 6ms/step - loss: 0.1873 - tp: 3.0000 - fp: 7.0000 - tn: 608.0000 - fn: 38.0000 - accuracy: 0.9314 - precision: 0.3000 - recall: 0.0732 - auc: 0.8521 - val_loss: 0.1785 - val_tp: 0.0000e+00 - val_fp: 0.0000e+00 - val_tn: 81.0000 - val_fn: 5.0000 - val_accuracy: 0.9419 - val_precision: 0.0000e+00 - val_recall: 0.0000e+00 - val_auc: 0.8531\n",
      "Epoch 20/100\n",
      "21/21 [==============================] - 0s 6ms/step - loss: 0.1699 - tp: 7.0000 - fp: 0.0000e+00 - tn: 615.0000 - fn: 34.0000 - accuracy: 0.9482 - precision: 1.0000 - recall: 0.1707 - auc: 0.8844 - val_loss: 0.1775 - val_tp: 0.0000e+00 - val_fp: 0.0000e+00 - val_tn: 81.0000 - val_fn: 5.0000 - val_accuracy: 0.9419 - val_precision: 0.0000e+00 - val_recall: 0.0000e+00 - val_auc: 0.8395\n",
      "Epoch 21/100\n",
      "21/21 [==============================] - 0s 7ms/step - loss: 0.1845 - tp: 4.0000 - fp: 2.0000 - tn: 613.0000 - fn: 37.0000 - accuracy: 0.9405 - precision: 0.6667 - recall: 0.0976 - auc: 0.8432 - val_loss: 0.1749 - val_tp: 0.0000e+00 - val_fp: 0.0000e+00 - val_tn: 81.0000 - val_fn: 5.0000 - val_accuracy: 0.9419 - val_precision: 0.0000e+00 - val_recall: 0.0000e+00 - val_auc: 0.8469\n",
      "Epoch 22/100\n",
      "21/21 [==============================] - 0s 6ms/step - loss: 0.1688 - tp: 5.0000 - fp: 2.0000 - tn: 613.0000 - fn: 36.0000 - accuracy: 0.9421 - precision: 0.7143 - recall: 0.1220 - auc: 0.8911 - val_loss: 0.1730 - val_tp: 0.0000e+00 - val_fp: 0.0000e+00 - val_tn: 81.0000 - val_fn: 5.0000 - val_accuracy: 0.9419 - val_precision: 0.0000e+00 - val_recall: 0.0000e+00 - val_auc: 0.8506\n",
      "Epoch 23/100\n",
      "21/21 [==============================] - 0s 6ms/step - loss: 0.1657 - tp: 5.0000 - fp: 0.0000e+00 - tn: 615.0000 - fn: 36.0000 - accuracy: 0.9451 - precision: 1.0000 - recall: 0.1220 - auc: 0.8764 - val_loss: 0.1712 - val_tp: 0.0000e+00 - val_fp: 0.0000e+00 - val_tn: 81.0000 - val_fn: 5.0000 - val_accuracy: 0.9419 - val_precision: 0.0000e+00 - val_recall: 0.0000e+00 - val_auc: 0.8543\n",
      "Epoch 24/100\n",
      "21/21 [==============================] - 0s 6ms/step - loss: 0.1717 - tp: 4.0000 - fp: 0.0000e+00 - tn: 615.0000 - fn: 37.0000 - accuracy: 0.9436 - precision: 1.0000 - recall: 0.0976 - auc: 0.8687 - val_loss: 0.1690 - val_tp: 0.0000e+00 - val_fp: 0.0000e+00 - val_tn: 81.0000 - val_fn: 5.0000 - val_accuracy: 0.9419 - val_precision: 0.0000e+00 - val_recall: 0.0000e+00 - val_auc: 0.8667\n",
      "Epoch 25/100\n",
      "21/21 [==============================] - 0s 6ms/step - loss: 0.1594 - tp: 4.0000 - fp: 0.0000e+00 - tn: 615.0000 - fn: 37.0000 - accuracy: 0.9436 - precision: 1.0000 - recall: 0.0976 - auc: 0.9013 - val_loss: 0.1677 - val_tp: 0.0000e+00 - val_fp: 0.0000e+00 - val_tn: 81.0000 - val_fn: 5.0000 - val_accuracy: 0.9419 - val_precision: 0.0000e+00 - val_recall: 0.0000e+00 - val_auc: 0.8716\n",
      "Epoch 26/100\n",
      "21/21 [==============================] - 0s 6ms/step - loss: 0.1560 - tp: 6.0000 - fp: 2.0000 - tn: 613.0000 - fn: 35.0000 - accuracy: 0.9436 - precision: 0.7500 - recall: 0.1463 - auc: 0.9064 - val_loss: 0.1669 - val_tp: 0.0000e+00 - val_fp: 0.0000e+00 - val_tn: 81.0000 - val_fn: 5.0000 - val_accuracy: 0.9419 - val_precision: 0.0000e+00 - val_recall: 0.0000e+00 - val_auc: 0.8802\n",
      "Epoch 27/100\n",
      "21/21 [==============================] - 0s 4ms/step - loss: 0.1532 - tp: 7.0000 - fp: 4.0000 - tn: 611.0000 - fn: 34.0000 - accuracy: 0.9421 - precision: 0.6364 - recall: 0.1707 - auc: 0.9401 - val_loss: 0.1666 - val_tp: 0.0000e+00 - val_fp: 0.0000e+00 - val_tn: 81.0000 - val_fn: 5.0000 - val_accuracy: 0.9419 - val_precision: 0.0000e+00 - val_recall: 0.0000e+00 - val_auc: 0.8840\n",
      "Epoch 28/100\n",
      "21/21 [==============================] - 0s 7ms/step - loss: 0.1560 - tp: 8.0000 - fp: 1.0000 - tn: 614.0000 - fn: 33.0000 - accuracy: 0.9482 - precision: 0.8889 - recall: 0.1951 - auc: 0.9123 - val_loss: 0.1656 - val_tp: 0.0000e+00 - val_fp: 0.0000e+00 - val_tn: 81.0000 - val_fn: 5.0000 - val_accuracy: 0.9419 - val_precision: 0.0000e+00 - val_recall: 0.0000e+00 - val_auc: 0.8840\n",
      "Epoch 29/100\n",
      "21/21 [==============================] - 0s 6ms/step - loss: 0.1507 - tp: 7.0000 - fp: 0.0000e+00 - tn: 615.0000 - fn: 34.0000 - accuracy: 0.9482 - precision: 1.0000 - recall: 0.1707 - auc: 0.9053 - val_loss: 0.1649 - val_tp: 0.0000e+00 - val_fp: 0.0000e+00 - val_tn: 81.0000 - val_fn: 5.0000 - val_accuracy: 0.9419 - val_precision: 0.0000e+00 - val_recall: 0.0000e+00 - val_auc: 0.8877\n",
      "Epoch 30/100\n",
      "21/21 [==============================] - 0s 5ms/step - loss: 0.1423 - tp: 12.0000 - fp: 1.0000 - tn: 614.0000 - fn: 29.0000 - accuracy: 0.9543 - precision: 0.9231 - recall: 0.2927 - auc: 0.9185 - val_loss: 0.1636 - val_tp: 0.0000e+00 - val_fp: 0.0000e+00 - val_tn: 81.0000 - val_fn: 5.0000 - val_accuracy: 0.9419 - val_precision: 0.0000e+00 - val_recall: 0.0000e+00 - val_auc: 0.8914\n",
      "Epoch 31/100\n",
      "21/21 [==============================] - 0s 8ms/step - loss: 0.1416 - tp: 8.0000 - fp: 5.0000 - tn: 610.0000 - fn: 33.0000 - accuracy: 0.9421 - precision: 0.6154 - recall: 0.1951 - auc: 0.9527 - val_loss: 0.1633 - val_tp: 0.0000e+00 - val_fp: 0.0000e+00 - val_tn: 81.0000 - val_fn: 5.0000 - val_accuracy: 0.9419 - val_precision: 0.0000e+00 - val_recall: 0.0000e+00 - val_auc: 0.8778\n",
      "Epoch 32/100\n",
      "21/21 [==============================] - 0s 6ms/step - loss: 0.1373 - tp: 8.0000 - fp: 2.0000 - tn: 613.0000 - fn: 33.0000 - accuracy: 0.9466 - precision: 0.8000 - recall: 0.1951 - auc: 0.9495 - val_loss: 0.1627 - val_tp: 0.0000e+00 - val_fp: 0.0000e+00 - val_tn: 81.0000 - val_fn: 5.0000 - val_accuracy: 0.9419 - val_precision: 0.0000e+00 - val_recall: 0.0000e+00 - val_auc: 0.8765\n",
      "Epoch 33/100\n",
      "21/21 [==============================] - 0s 8ms/step - loss: 0.1309 - tp: 12.0000 - fp: 3.0000 - tn: 612.0000 - fn: 29.0000 - accuracy: 0.9512 - precision: 0.8000 - recall: 0.2927 - auc: 0.9510 - val_loss: 0.1623 - val_tp: 0.0000e+00 - val_fp: 0.0000e+00 - val_tn: 81.0000 - val_fn: 5.0000 - val_accuracy: 0.9419 - val_precision: 0.0000e+00 - val_recall: 0.0000e+00 - val_auc: 0.8802\n",
      "Epoch 34/100\n",
      "21/21 [==============================] - 0s 7ms/step - loss: 0.1403 - tp: 10.0000 - fp: 7.0000 - tn: 608.0000 - fn: 31.0000 - accuracy: 0.9421 - precision: 0.5882 - recall: 0.2439 - auc: 0.9377 - val_loss: 0.1618 - val_tp: 0.0000e+00 - val_fp: 0.0000e+00 - val_tn: 81.0000 - val_fn: 5.0000 - val_accuracy: 0.9419 - val_precision: 0.0000e+00 - val_recall: 0.0000e+00 - val_auc: 0.8840\n",
      "Epoch 35/100\n",
      "21/21 [==============================] - 0s 6ms/step - loss: 0.1273 - tp: 15.0000 - fp: 3.0000 - tn: 612.0000 - fn: 26.0000 - accuracy: 0.9558 - precision: 0.8333 - recall: 0.3659 - auc: 0.9529 - val_loss: 0.1612 - val_tp: 0.0000e+00 - val_fp: 0.0000e+00 - val_tn: 81.0000 - val_fn: 5.0000 - val_accuracy: 0.9419 - val_precision: 0.0000e+00 - val_recall: 0.0000e+00 - val_auc: 0.8864\n",
      "Epoch 36/100\n",
      "21/21 [==============================] - 0s 7ms/step - loss: 0.1355 - tp: 12.0000 - fp: 0.0000e+00 - tn: 615.0000 - fn: 29.0000 - accuracy: 0.9558 - precision: 1.0000 - recall: 0.2927 - auc: 0.9253 - val_loss: 0.1594 - val_tp: 0.0000e+00 - val_fp: 0.0000e+00 - val_tn: 81.0000 - val_fn: 5.0000 - val_accuracy: 0.9419 - val_precision: 0.0000e+00 - val_recall: 0.0000e+00 - val_auc: 0.8914\n",
      "Epoch 37/100\n",
      "21/21 [==============================] - 0s 7ms/step - loss: 0.1361 - tp: 12.0000 - fp: 8.0000 - tn: 607.0000 - fn: 29.0000 - accuracy: 0.9436 - precision: 0.6000 - recall: 0.2927 - auc: 0.9261 - val_loss: 0.1575 - val_tp: 0.0000e+00 - val_fp: 0.0000e+00 - val_tn: 81.0000 - val_fn: 5.0000 - val_accuracy: 0.9419 - val_precision: 0.0000e+00 - val_recall: 0.0000e+00 - val_auc: 0.8901\n",
      "Epoch 38/100\n",
      "21/21 [==============================] - 0s 7ms/step - loss: 0.1325 - tp: 12.0000 - fp: 6.0000 - tn: 609.0000 - fn: 29.0000 - accuracy: 0.9466 - precision: 0.6667 - recall: 0.2927 - auc: 0.9518 - val_loss: 0.1580 - val_tp: 0.0000e+00 - val_fp: 0.0000e+00 - val_tn: 81.0000 - val_fn: 5.0000 - val_accuracy: 0.9419 - val_precision: 0.0000e+00 - val_recall: 0.0000e+00 - val_auc: 0.8901\n",
      "Epoch 39/100\n",
      "21/21 [==============================] - 0s 6ms/step - loss: 0.1253 - tp: 17.0000 - fp: 7.0000 - tn: 608.0000 - fn: 24.0000 - accuracy: 0.9527 - precision: 0.7083 - recall: 0.4146 - auc: 0.9315 - val_loss: 0.1590 - val_tp: 0.0000e+00 - val_fp: 0.0000e+00 - val_tn: 81.0000 - val_fn: 5.0000 - val_accuracy: 0.9419 - val_precision: 0.0000e+00 - val_recall: 0.0000e+00 - val_auc: 0.8815\n",
      "Epoch 40/100\n",
      " 1/21 [>.............................] - ETA: 0s - loss: 0.2527 - tp: 0.0000e+00 - fp: 1.0000 - tn: 29.0000 - fn: 2.0000 - accuracy: 0.9062 - precision: 0.0000e+00 - recall: 0.0000e+00 - auc: 0.5917Restoring model weights from the end of the best epoch.\n",
      "21/21 [==============================] - 0s 4ms/step - loss: 0.1375 - tp: 13.0000 - fp: 3.0000 - tn: 612.0000 - fn: 28.0000 - accuracy: 0.9527 - precision: 0.8125 - recall: 0.3171 - auc: 0.9077 - val_loss: 0.1582 - val_tp: 0.0000e+00 - val_fp: 0.0000e+00 - val_tn: 81.0000 - val_fn: 5.0000 - val_accuracy: 0.9419 - val_precision: 0.0000e+00 - val_recall: 0.0000e+00 - val_auc: 0.8827\n",
      "Epoch 00040: early stopping\n"
     ]
    }
   ],
   "source": [
    "model = make_model()\n",
    "model.load_weights(initial_weights)\n",
    "baseline_history = model.fit(\n",
    "    X_train,\n",
    "    y_train,\n",
    "    epochs=EPOCHS,\n",
    "    callbacks=[early_stopping],\n",
    "    validation_data=(X_validate, y_validate))\n",
    "\n"
   ]
  },
  {
   "cell_type": "code",
   "execution_count": 23,
   "metadata": {},
   "outputs": [],
   "source": [
    "def show_train_history(train_history,train,validation):\n",
    "    plt.plot(train_history.history[train])\n",
    "    plt.plot(train_history.history[validation])\n",
    "    plt.title('Train History')\n",
    "    plt.ylabel(train)\n",
    "    plt.xlabel('Epoch')\n",
    "    plt.legend(['train', 'validation'], loc='best')\n",
    "    plt.show()"
   ]
  },
  {
   "cell_type": "code",
   "execution_count": 27,
   "metadata": {},
   "outputs": [
    {
     "data": {
      "image/png": "[encoded data removed]",
      "text/plain": [
       "<Figure size 432x288 with 1 Axes>"
      ]
     },
     "metadata": {
      "needs_background": "light"
     },
     "output_type": "display_data"
    },
    {
     "data": {
      "image/png": "[encoded data removed]",
      "text/plain": [
       "<Figure size 432x288 with 1 Axes>"
      ]
     },
     "metadata": {
      "needs_background": "light"
     },
     "output_type": "display_data"
    }
   ],
   "source": [
    "#visualize the loss and accuracy after each epoch\n",
    "show_train_history(careful_bias_history,'accuracy','val_accuracy')\n",
    "show_train_history(careful_bias_history,'loss','val_loss')\n"
   ]
  },
  {
   "cell_type": "code",
   "execution_count": 26,
   "metadata": {},
   "outputs": [
    {
     "data": {
      "image/png": "[encoded data removed]",
      "text/plain": [
       "<Figure size 432x288 with 1 Axes>"
      ]
     },
     "metadata": {
      "needs_background": "light"
     },
     "output_type": "display_data"
    }
   ],
   "source": [
    "show_train_history(careful_bias_history,'recall','val_recall')"
   ]
  },
  {
   "cell_type": "markdown",
   "metadata": {},
   "source": [
    "### The recall in this model is 0. It doesn't predict any cancer cases (of the 9 present)"
   ]
  },
  {
   "cell_type": "code",
   "execution_count": 33,
   "metadata": {},
   "outputs": [],
   "source": [
    "train_predictions_baseline = model.predict(X_train)\n",
    "test_predictions_baseline = model.predict(X_test)\n"
   ]
  },
  {
   "cell_type": "code",
   "execution_count": 34,
   "metadata": {},
   "outputs": [],
   "source": [
    "p=0.5\n",
    "cm = confusion_matrix(y_test, test_predictions_baseline > p)\n"
   ]
  },
  {
   "cell_type": "code",
   "execution_count": 35,
   "metadata": {},
   "outputs": [
    {
     "data": {
      "image/png": "[encoded data removed]",
      "text/plain": [
       "<Figure size 432x288 with 2 Axes>"
      ]
     },
     "metadata": {
      "needs_background": "light"
     },
     "output_type": "display_data"
    }
   ],
   "source": [
    "cm_display = ConfusionMatrixDisplay(cm).plot()"
   ]
  },
  {
   "cell_type": "code",
   "execution_count": 31,
   "metadata": {},
   "outputs": [
    {
     "name": "stdout",
     "output_type": "stream",
     "text": [
      "4/4 [==============================] - 0s 5ms/step - loss: 0.2340 - tp: 0.0000e+00 - fp: 0.0000e+00 - tn: 107.0000 - fn: 9.0000 - accuracy: 0.9224 - precision: 0.0000e+00 - recall: 0.0000e+00 - auc: 0.7819\n",
      "\n",
      "\n",
      "recall= 0.0\n"
     ]
    }
   ],
   "source": [
    "scores = model.evaluate(X_test, y_test)\n",
    "print('\\n')\n",
    "print('recall=',scores[2])"
   ]
  },
  {
   "cell_type": "code",
   "execution_count": null,
   "metadata": {},
   "outputs": [],
   "source": []
  },
  {
   "cell_type": "code",
   "execution_count": null,
   "metadata": {},
   "outputs": [],
   "source": []
  }
 ],
 "metadata": {
  "kernelspec": {
   "display_name": "Python 3",
   "language": "python",
   "name": "python3"
  },
  "language_info": {
   "codemirror_mode": {
    "name": "ipython",
    "version": 3
   },
   "file_extension": ".py",
   "mimetype": "text/x-python",
   "name": "python",
   "nbconvert_exporter": "python",
   "pygments_lexer": "ipython3",
   "version": "3.8.5"
  }
 },
 "nbformat": 4,
 "nbformat_minor": 4
}

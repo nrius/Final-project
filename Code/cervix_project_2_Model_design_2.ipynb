{
 "cells": [
  {
   "cell_type": "markdown",
   "metadata": {},
   "source": [
    "# Part2. Model design 2 "
   ]
  },
  {
   "cell_type": "code",
   "execution_count": 1,
   "metadata": {},
   "outputs": [],
   "source": [
    "import pandas as pd\n",
    "import numpy as np\n",
    "import matplotlib.pyplot as plt\n",
    "import os\n",
    "import tempfile\n",
    "\n",
    "import tensorflow as tf\n",
    "from tensorflow.keras.models import Sequential\n",
    "from tensorflow.keras.layers import Dense\n",
    "from tensorflow.keras.layers import Dropout\n",
    "from tensorflow.keras.metrics import SpecificityAtSensitivity\n",
    "from sklearn.metrics import confusion_matrix\n",
    "from sklearn.metrics import ConfusionMatrixDisplay\n"
   ]
  },
  {
   "cell_type": "code",
   "execution_count": 2,
   "metadata": {},
   "outputs": [],
   "source": [
    "#load the original data\n",
    "df1=pd.read_csv(\"../Data/kag_risk_factors_cervical_cancer.csv\")\n",
    "\n",
    "#load the processed datasets:\n",
    "X_train=pd.read_csv(\"../Data/X_train_preprocessed.csv\")\n",
    "X_test=pd.read_csv(\"../Data/X_test_preprocessed.csv\")\n",
    "X_validate=pd.read_csv(\"../Data/X_validate_preprocessed.csv\")\n",
    "y_train=pd.read_csv(\"../Data/y_train_preprocessed.csv\")\n",
    "y_test=pd.read_csv(\"../Data/y_test_preprocessed.csv\")\n",
    "y_validate=pd.read_csv(\"../Data/y_validate_preprocessed.csv\")"
   ]
  },
  {
   "cell_type": "code",
   "execution_count": 3,
   "metadata": {},
   "outputs": [
    {
     "data": {
      "text/html": [
       "<div>\n",
       "<style scoped>\n",
       "    .dataframe tbody tr th:only-of-type {\n",
       "        vertical-align: middle;\n",
       "    }\n",
       "\n",
       "    .dataframe tbody tr th {\n",
       "        vertical-align: top;\n",
       "    }\n",
       "\n",
       "    .dataframe thead th {\n",
       "        text-align: right;\n",
       "    }\n",
       "</style>\n",
       "<table border=\"1\" class=\"dataframe\">\n",
       "  <thead>\n",
       "    <tr style=\"text-align: right;\">\n",
       "      <th></th>\n",
       "      <th>Age</th>\n",
       "      <th>Number of sexual partners</th>\n",
       "      <th>First sexual intercourse</th>\n",
       "      <th>Num of pregnancies</th>\n",
       "      <th>Smokes</th>\n",
       "      <th>Smokes (years)</th>\n",
       "      <th>Smokes (packs/year)</th>\n",
       "      <th>Hormonal Contraceptives</th>\n",
       "      <th>Hormonal Contraceptives (years)</th>\n",
       "      <th>IUD</th>\n",
       "      <th>...</th>\n",
       "      <th>STDs:Hepatitis B</th>\n",
       "      <th>STDs:HPV</th>\n",
       "      <th>STDs: Number of diagnosis</th>\n",
       "      <th>Dx:Cancer</th>\n",
       "      <th>Dx:CIN</th>\n",
       "      <th>Dx:HPV</th>\n",
       "      <th>Dx</th>\n",
       "      <th>Hinselmann</th>\n",
       "      <th>Schiller</th>\n",
       "      <th>Citology</th>\n",
       "    </tr>\n",
       "  </thead>\n",
       "  <tbody>\n",
       "    <tr>\n",
       "      <th>654</th>\n",
       "      <td>-0.587772</td>\n",
       "      <td>-0.879301</td>\n",
       "      <td>-0.001620</td>\n",
       "      <td>-0.137403</td>\n",
       "      <td>0.0</td>\n",
       "      <td>-0.307318</td>\n",
       "      <td>-0.208218</td>\n",
       "      <td>1.0</td>\n",
       "      <td>-0.510729</td>\n",
       "      <td>1.0</td>\n",
       "      <td>...</td>\n",
       "      <td>0.0</td>\n",
       "      <td>0.0</td>\n",
       "      <td>0.0</td>\n",
       "      <td>0.0</td>\n",
       "      <td>0.0</td>\n",
       "      <td>0.0</td>\n",
       "      <td>0.0</td>\n",
       "      <td>0.0</td>\n",
       "      <td>0.0</td>\n",
       "      <td>0.0</td>\n",
       "    </tr>\n",
       "    <tr>\n",
       "      <th>655</th>\n",
       "      <td>0.355828</td>\n",
       "      <td>-0.302480</td>\n",
       "      <td>-1.418945</td>\n",
       "      <td>0.561330</td>\n",
       "      <td>1.0</td>\n",
       "      <td>4.945406</td>\n",
       "      <td>1.145403</td>\n",
       "      <td>0.0</td>\n",
       "      <td>-0.556973</td>\n",
       "      <td>0.0</td>\n",
       "      <td>...</td>\n",
       "      <td>0.0</td>\n",
       "      <td>0.0</td>\n",
       "      <td>1.0</td>\n",
       "      <td>0.0</td>\n",
       "      <td>0.0</td>\n",
       "      <td>0.0</td>\n",
       "      <td>0.0</td>\n",
       "      <td>1.0</td>\n",
       "      <td>1.0</td>\n",
       "      <td>0.0</td>\n",
       "    </tr>\n",
       "  </tbody>\n",
       "</table>\n",
       "<p>2 rows × 31 columns</p>\n",
       "</div>"
      ],
      "text/plain": [
       "          Age  Number of sexual partners  First sexual intercourse  \\\n",
       "654 -0.587772                  -0.879301                 -0.001620   \n",
       "655  0.355828                  -0.302480                 -1.418945   \n",
       "\n",
       "     Num of pregnancies  Smokes  Smokes (years)  Smokes (packs/year)  \\\n",
       "654           -0.137403     0.0       -0.307318            -0.208218   \n",
       "655            0.561330     1.0        4.945406             1.145403   \n",
       "\n",
       "     Hormonal Contraceptives  Hormonal Contraceptives (years)  IUD  ...  \\\n",
       "654                      1.0                        -0.510729  1.0  ...   \n",
       "655                      0.0                        -0.556973  0.0  ...   \n",
       "\n",
       "     STDs:Hepatitis B  STDs:HPV  STDs: Number of diagnosis  Dx:Cancer  Dx:CIN  \\\n",
       "654               0.0       0.0                        0.0        0.0     0.0   \n",
       "655               0.0       0.0                        1.0        0.0     0.0   \n",
       "\n",
       "     Dx:HPV   Dx  Hinselmann  Schiller  Citology  \n",
       "654     0.0  0.0         0.0       0.0       0.0  \n",
       "655     0.0  0.0         1.0       1.0       0.0  \n",
       "\n",
       "[2 rows x 31 columns]"
      ]
     },
     "execution_count": 3,
     "metadata": {},
     "output_type": "execute_result"
    }
   ],
   "source": [
    "#show the processed X_train file:\n",
    "X_train.tail(2)"
   ]
  },
  {
   "cell_type": "code",
   "execution_count": 4,
   "metadata": {},
   "outputs": [
    {
     "data": {
      "text/html": [
       "<div>\n",
       "<style scoped>\n",
       "    .dataframe tbody tr th:only-of-type {\n",
       "        vertical-align: middle;\n",
       "    }\n",
       "\n",
       "    .dataframe tbody tr th {\n",
       "        vertical-align: top;\n",
       "    }\n",
       "\n",
       "    .dataframe thead th {\n",
       "        text-align: right;\n",
       "    }\n",
       "</style>\n",
       "<table border=\"1\" class=\"dataframe\">\n",
       "  <thead>\n",
       "    <tr style=\"text-align: right;\">\n",
       "      <th></th>\n",
       "      <th>Biopsy</th>\n",
       "    </tr>\n",
       "  </thead>\n",
       "  <tbody>\n",
       "    <tr>\n",
       "      <th>654</th>\n",
       "      <td>0</td>\n",
       "    </tr>\n",
       "    <tr>\n",
       "      <th>655</th>\n",
       "      <td>1</td>\n",
       "    </tr>\n",
       "  </tbody>\n",
       "</table>\n",
       "</div>"
      ],
      "text/plain": [
       "     Biopsy\n",
       "654       0\n",
       "655       1"
      ]
     },
     "execution_count": 4,
     "metadata": {},
     "output_type": "execute_result"
    }
   ],
   "source": [
    "y_train.tail(2)"
   ]
  },
  {
   "cell_type": "markdown",
   "metadata": {},
   "source": [
    "## Model"
   ]
  },
  {
   "cell_type": "markdown",
   "metadata": {},
   "source": [
    "The data in unbalanced, let's try to correct the bias:"
   ]
  },
  {
   "cell_type": "code",
   "execution_count": 5,
   "metadata": {},
   "outputs": [
    {
     "name": "stdout",
     "output_type": "stream",
     "text": [
      "Examples:\n",
      "    Total: 858\n",
      "    Positive: 55 (6.41% of total)\n",
      "\n"
     ]
    }
   ],
   "source": [
    "neg, pos = np.bincount(df1['Biopsy'])\n",
    "total = neg + pos\n",
    "print('Examples:\\n    Total: {}\\n    Positive: {} ({:.2f}% of total)\\n'.format(\n",
    "    total, pos, 100 * pos / total))\n"
   ]
  },
  {
   "cell_type": "code",
   "execution_count": 6,
   "metadata": {},
   "outputs": [],
   "source": [
    "### Try initializing the model with a bias parameter:"
   ]
  },
  {
   "cell_type": "markdown",
   "metadata": {},
   "source": [
    "Train the model with and without initial bias and compare outcomes:"
   ]
  },
  {
   "cell_type": "code",
   "execution_count": 7,
   "metadata": {},
   "outputs": [],
   "source": [
    "METRICS = [\n",
    "      tf.keras.metrics.TruePositives(name='tp'),\n",
    "      tf.keras.metrics.FalsePositives(name='fp'),\n",
    "      tf.keras.metrics.TrueNegatives(name='tn'),\n",
    "      tf.keras.metrics.FalseNegatives(name='fn'), \n",
    "      tf.keras.metrics.BinaryAccuracy(name='accuracy'),\n",
    "      tf.keras.metrics.Precision(name='precision'),\n",
    "      tf.keras.metrics.Recall(name='recall'),\n",
    "      tf.keras.metrics.AUC(name='auc')]"
   ]
  },
  {
   "cell_type": "markdown",
   "metadata": {},
   "source": [
    "To make the various training runs more comparable, keep this initial model's weights in a checkpoint file, and load them into each model before training."
   ]
  },
  {
   "cell_type": "code",
   "execution_count": 8,
   "metadata": {},
   "outputs": [],
   "source": [
    "#initial_weights = os.path.join(tempfile.mkdtemp(), 'initial_weights')\n",
    "#model.save_weights(initial_weights)"
   ]
  },
  {
   "cell_type": "code",
   "execution_count": 9,
   "metadata": {},
   "outputs": [
    {
     "data": {
      "text/plain": [
       "array([-2.68102153])"
      ]
     },
     "execution_count": 9,
     "metadata": {},
     "output_type": "execute_result"
    }
   ],
   "source": [
    "#compute an initial bias parameters, to teach the model positive examples are unlikely.\n",
    "initial_bias = np.log([pos/neg])\n",
    "initial_bias"
   ]
  },
  {
   "cell_type": "code",
   "execution_count": 10,
   "metadata": {
    "scrolled": true
   },
   "outputs": [
    {
     "name": "stdout",
     "output_type": "stream",
     "text": [
      "Model: \"sequential\"\n",
      "_________________________________________________________________\n",
      "Layer (type)                 Output Shape              Param #   \n",
      "=================================================================\n",
      "dense (Dense)                (None, 10)                320       \n",
      "_________________________________________________________________\n",
      "dropout (Dropout)            (None, 10)                0         \n",
      "_________________________________________________________________\n",
      "dense_1 (Dense)              (None, 10)                110       \n",
      "_________________________________________________________________\n",
      "dropout_1 (Dropout)          (None, 10)                0         \n",
      "_________________________________________________________________\n",
      "dense_2 (Dense)              (None, 1)                 11        \n",
      "=================================================================\n",
      "Total params: 441\n",
      "Trainable params: 441\n",
      "Non-trainable params: 0\n",
      "_________________________________________________________________\n",
      "None\n",
      "Epoch 1/20\n",
      "17/17 - 0s - loss: 0.6893 - precision: 0.0455 - recall: 0.0278 - accuracy: 0.8931 - val_loss: 0.6840 - val_precision: 0.0000e+00 - val_recall: 0.0000e+00 - val_accuracy: 0.9621\n",
      "Epoch 2/20\n",
      "17/17 - 0s - loss: 0.6801 - precision: 0.0000e+00 - recall: 0.0000e+00 - accuracy: 0.9313 - val_loss: 0.6725 - val_precision: 0.0000e+00 - val_recall: 0.0000e+00 - val_accuracy: 0.9621\n",
      "Epoch 3/20\n",
      "17/17 - 0s - loss: 0.6672 - precision: 0.0000e+00 - recall: 0.0000e+00 - accuracy: 0.9313 - val_loss: 0.6556 - val_precision: 0.0000e+00 - val_recall: 0.0000e+00 - val_accuracy: 0.9621\n",
      "Epoch 4/20\n",
      "17/17 - 0s - loss: 0.6478 - precision: 0.0000e+00 - recall: 0.0000e+00 - accuracy: 0.9313 - val_loss: 0.6287 - val_precision: 0.0000e+00 - val_recall: 0.0000e+00 - val_accuracy: 0.9621\n",
      "Epoch 5/20\n",
      "17/17 - 0s - loss: 0.6161 - precision: 0.0000e+00 - recall: 0.0000e+00 - accuracy: 0.9313 - val_loss: 0.5863 - val_precision: 0.0000e+00 - val_recall: 0.0000e+00 - val_accuracy: 0.9621\n",
      "Epoch 6/20\n",
      "17/17 - 0s - loss: 0.5647 - precision: 0.0000e+00 - recall: 0.0000e+00 - accuracy: 0.9313 - val_loss: 0.5239 - val_precision: 0.0000e+00 - val_recall: 0.0000e+00 - val_accuracy: 0.9621\n",
      "Epoch 7/20\n",
      "17/17 - 0s - loss: 0.5027 - precision: 0.0000e+00 - recall: 0.0000e+00 - accuracy: 0.9313 - val_loss: 0.4456 - val_precision: 0.0000e+00 - val_recall: 0.0000e+00 - val_accuracy: 0.9621\n",
      "Epoch 8/20\n",
      "17/17 - 0s - loss: 0.4333 - precision: 0.0000e+00 - recall: 0.0000e+00 - accuracy: 0.9313 - val_loss: 0.3601 - val_precision: 0.0000e+00 - val_recall: 0.0000e+00 - val_accuracy: 0.9621\n",
      "Epoch 9/20\n",
      "17/17 - 0s - loss: 0.3637 - precision: 0.0000e+00 - recall: 0.0000e+00 - accuracy: 0.9313 - val_loss: 0.2793 - val_precision: 0.0000e+00 - val_recall: 0.0000e+00 - val_accuracy: 0.9621\n",
      "Epoch 10/20\n",
      "17/17 - 0s - loss: 0.3098 - precision: 0.0000e+00 - recall: 0.0000e+00 - accuracy: 0.9313 - val_loss: 0.2218 - val_precision: 0.0000e+00 - val_recall: 0.0000e+00 - val_accuracy: 0.9621\n",
      "Epoch 11/20\n",
      "17/17 - 0s - loss: 0.2763 - precision: 0.0000e+00 - recall: 0.0000e+00 - accuracy: 0.9313 - val_loss: 0.1850 - val_precision: 0.0000e+00 - val_recall: 0.0000e+00 - val_accuracy: 0.9621\n",
      "Epoch 12/20\n",
      "17/17 - 0s - loss: 0.2506 - precision: 0.0000e+00 - recall: 0.0000e+00 - accuracy: 0.9313 - val_loss: 0.1630 - val_precision: 0.0000e+00 - val_recall: 0.0000e+00 - val_accuracy: 0.9621\n",
      "Epoch 13/20\n",
      "17/17 - 0s - loss: 0.2326 - precision: 0.0000e+00 - recall: 0.0000e+00 - accuracy: 0.9313 - val_loss: 0.1456 - val_precision: 0.0000e+00 - val_recall: 0.0000e+00 - val_accuracy: 0.9621\n",
      "Epoch 14/20\n",
      "17/17 - 0s - loss: 0.2339 - precision: 0.0000e+00 - recall: 0.0000e+00 - accuracy: 0.9313 - val_loss: 0.1358 - val_precision: 0.0000e+00 - val_recall: 0.0000e+00 - val_accuracy: 0.9621\n",
      "Epoch 15/20\n",
      "17/17 - 0s - loss: 0.2105 - precision: 0.0000e+00 - recall: 0.0000e+00 - accuracy: 0.9313 - val_loss: 0.1283 - val_precision: 0.0000e+00 - val_recall: 0.0000e+00 - val_accuracy: 0.9621\n",
      "Epoch 16/20\n",
      "17/17 - 0s - loss: 0.2102 - precision: 0.0000e+00 - recall: 0.0000e+00 - accuracy: 0.9313 - val_loss: 0.1202 - val_precision: 0.0000e+00 - val_recall: 0.0000e+00 - val_accuracy: 0.9621\n",
      "Epoch 17/20\n",
      "17/17 - 0s - loss: 0.1946 - precision: 0.0000e+00 - recall: 0.0000e+00 - accuracy: 0.9313 - val_loss: 0.1142 - val_precision: 0.0000e+00 - val_recall: 0.0000e+00 - val_accuracy: 0.9621\n",
      "Epoch 18/20\n",
      "17/17 - 0s - loss: 0.1941 - precision: 0.0000e+00 - recall: 0.0000e+00 - accuracy: 0.9313 - val_loss: 0.1108 - val_precision: 0.0000e+00 - val_recall: 0.0000e+00 - val_accuracy: 0.9621\n",
      "Epoch 19/20\n",
      "17/17 - 0s - loss: 0.1915 - precision: 0.0000e+00 - recall: 0.0000e+00 - accuracy: 0.9313 - val_loss: 0.1059 - val_precision: 0.0000e+00 - val_recall: 0.0000e+00 - val_accuracy: 0.9621\n",
      "Epoch 20/20\n",
      "17/17 - 0s - loss: 0.1856 - precision: 0.0000e+00 - recall: 0.0000e+00 - accuracy: 0.9313 - val_loss: 0.1025 - val_precision: 0.0000e+00 - val_recall: 0.0000e+00 - val_accuracy: 0.9621\n"
     ]
    }
   ],
   "source": [
    "#Uninformed mdoel\n",
    "\n",
    "model = Sequential() \n",
    "\n",
    "#Input layer\n",
    "model.add(Dense(units=10, \n",
    "            input_dim=31, # i have 31 features\n",
    "            kernel_initializer='uniform', # all features have the same weight\n",
    "            activation='relu'   \n",
    "               ))\n",
    "model.add(Dropout(0.5))  #randomly sets 0.5 units to 0. To prevent overfitting\n",
    "#Hidden layer 1\n",
    "model.add(Dense(units=10,  \n",
    "                kernel_initializer='uniform', \n",
    "                activation='relu'))\n",
    "model.add(Dropout(0.5))\n",
    "\n",
    "\n",
    "#Output layer\n",
    "model.add(Dense(units=1,\n",
    "                kernel_initializer='uniform', \n",
    "                activation='sigmoid'))\n",
    "\n",
    "#model(output_bias=initial_bias)\n",
    "\n",
    "print(model.summary()) #for showing the structure and parameters\n",
    "\n",
    "# Defining how to measure performance\n",
    "model.compile(loss='binary_crossentropy',   \n",
    "              optimizer='adam',\n",
    "               metrics=[tf.keras.metrics.Precision(), tf.keras.metrics.Recall(),'accuracy'])\n",
    "\n",
    "\n",
    "# Train the model\n",
    "# Verbose=2, showing loss and accuracy change timely\n",
    "#remove batch_size, the dataset is small. -> it increases recall.\n",
    "no_bias_history = model.fit(x=X_train, y=y_train,  \n",
    "                          validation_split=0.2, epochs=20, verbose=2) "
   ]
  },
  {
   "cell_type": "code",
   "execution_count": 11,
   "metadata": {},
   "outputs": [
    {
     "data": {
      "text/plain": [
       "<tensorflow.python.ops.init_ops_v2.Constant at 0x7fdaf82ba880>"
      ]
     },
     "execution_count": 11,
     "metadata": {},
     "output_type": "execute_result"
    }
   ],
   "source": [
    "#define the output bias\n",
    "output_bias = tf.keras.initializers.Constant(initial_bias)\n",
    "output_bias"
   ]
  },
  {
   "cell_type": "code",
   "execution_count": 12,
   "metadata": {
    "scrolled": true
   },
   "outputs": [
    {
     "name": "stdout",
     "output_type": "stream",
     "text": [
      "Model: \"sequential_1\"\n",
      "_________________________________________________________________\n",
      "Layer (type)                 Output Shape              Param #   \n",
      "=================================================================\n",
      "dense_3 (Dense)              (None, 10)                320       \n",
      "_________________________________________________________________\n",
      "dropout_2 (Dropout)          (None, 10)                0         \n",
      "_________________________________________________________________\n",
      "dense_4 (Dense)              (None, 10)                110       \n",
      "_________________________________________________________________\n",
      "dropout_3 (Dropout)          (None, 10)                0         \n",
      "_________________________________________________________________\n",
      "dense_5 (Dense)              (None, 1)                 11        \n",
      "=================================================================\n",
      "Total params: 441\n",
      "Trainable params: 441\n",
      "Non-trainable params: 0\n",
      "_________________________________________________________________\n",
      "None\n",
      "Epoch 1/20\n",
      "17/17 - 1s - loss: 0.2505 - precision_1: 0.0000e+00 - recall_1: 0.0000e+00 - accuracy: 0.9313 - val_loss: 0.1679 - val_precision_1: 0.0000e+00 - val_recall_1: 0.0000e+00 - val_accuracy: 0.9621\n",
      "Epoch 2/20\n",
      "17/17 - 0s - loss: 0.2504 - precision_1: 0.0000e+00 - recall_1: 0.0000e+00 - accuracy: 0.9313 - val_loss: 0.1679 - val_precision_1: 0.0000e+00 - val_recall_1: 0.0000e+00 - val_accuracy: 0.9621\n",
      "Epoch 3/20\n",
      "17/17 - 0s - loss: 0.2504 - precision_1: 0.0000e+00 - recall_1: 0.0000e+00 - accuracy: 0.9313 - val_loss: 0.1679 - val_precision_1: 0.0000e+00 - val_recall_1: 0.0000e+00 - val_accuracy: 0.9621\n",
      "Epoch 4/20\n",
      "17/17 - 0s - loss: 0.2504 - precision_1: 0.0000e+00 - recall_1: 0.0000e+00 - accuracy: 0.9313 - val_loss: 0.1679 - val_precision_1: 0.0000e+00 - val_recall_1: 0.0000e+00 - val_accuracy: 0.9621\n",
      "Epoch 5/20\n",
      "17/17 - 0s - loss: 0.2503 - precision_1: 0.0000e+00 - recall_1: 0.0000e+00 - accuracy: 0.9313 - val_loss: 0.1678 - val_precision_1: 0.0000e+00 - val_recall_1: 0.0000e+00 - val_accuracy: 0.9621\n",
      "Epoch 6/20\n",
      "17/17 - 0s - loss: 0.2502 - precision_1: 0.0000e+00 - recall_1: 0.0000e+00 - accuracy: 0.9313 - val_loss: 0.1677 - val_precision_1: 0.0000e+00 - val_recall_1: 0.0000e+00 - val_accuracy: 0.9621\n",
      "Epoch 7/20\n",
      "17/17 - 0s - loss: 0.2499 - precision_1: 0.0000e+00 - recall_1: 0.0000e+00 - accuracy: 0.9313 - val_loss: 0.1674 - val_precision_1: 0.0000e+00 - val_recall_1: 0.0000e+00 - val_accuracy: 0.9621\n",
      "Epoch 8/20\n",
      "17/17 - 0s - loss: 0.2492 - precision_1: 0.0000e+00 - recall_1: 0.0000e+00 - accuracy: 0.9313 - val_loss: 0.1664 - val_precision_1: 0.0000e+00 - val_recall_1: 0.0000e+00 - val_accuracy: 0.9621\n",
      "Epoch 9/20\n",
      "17/17 - 0s - loss: 0.2475 - precision_1: 0.0000e+00 - recall_1: 0.0000e+00 - accuracy: 0.9313 - val_loss: 0.1649 - val_precision_1: 0.0000e+00 - val_recall_1: 0.0000e+00 - val_accuracy: 0.9621\n",
      "Epoch 10/20\n",
      "17/17 - 0s - loss: 0.2463 - precision_1: 0.0000e+00 - recall_1: 0.0000e+00 - accuracy: 0.9313 - val_loss: 0.1626 - val_precision_1: 0.0000e+00 - val_recall_1: 0.0000e+00 - val_accuracy: 0.9621\n",
      "Epoch 11/20\n",
      "17/17 - 0s - loss: 0.2437 - precision_1: 0.0000e+00 - recall_1: 0.0000e+00 - accuracy: 0.9313 - val_loss: 0.1596 - val_precision_1: 0.0000e+00 - val_recall_1: 0.0000e+00 - val_accuracy: 0.9621\n",
      "Epoch 12/20\n",
      "17/17 - 0s - loss: 0.2376 - precision_1: 0.0000e+00 - recall_1: 0.0000e+00 - accuracy: 0.9313 - val_loss: 0.1556 - val_precision_1: 0.0000e+00 - val_recall_1: 0.0000e+00 - val_accuracy: 0.9621\n",
      "Epoch 13/20\n",
      "17/17 - 0s - loss: 0.2317 - precision_1: 0.0000e+00 - recall_1: 0.0000e+00 - accuracy: 0.9313 - val_loss: 0.1506 - val_precision_1: 0.0000e+00 - val_recall_1: 0.0000e+00 - val_accuracy: 0.9621\n",
      "Epoch 14/20\n",
      "17/17 - 0s - loss: 0.2211 - precision_1: 0.0000e+00 - recall_1: 0.0000e+00 - accuracy: 0.9313 - val_loss: 0.1444 - val_precision_1: 0.0000e+00 - val_recall_1: 0.0000e+00 - val_accuracy: 0.9621\n",
      "Epoch 15/20\n",
      "17/17 - 0s - loss: 0.2172 - precision_1: 0.0000e+00 - recall_1: 0.0000e+00 - accuracy: 0.9313 - val_loss: 0.1369 - val_precision_1: 0.0000e+00 - val_recall_1: 0.0000e+00 - val_accuracy: 0.9621\n",
      "Epoch 16/20\n",
      "17/17 - 0s - loss: 0.2198 - precision_1: 0.0000e+00 - recall_1: 0.0000e+00 - accuracy: 0.9313 - val_loss: 0.1310 - val_precision_1: 0.0000e+00 - val_recall_1: 0.0000e+00 - val_accuracy: 0.9621\n",
      "Epoch 17/20\n",
      "17/17 - 0s - loss: 0.2005 - precision_1: 0.0000e+00 - recall_1: 0.0000e+00 - accuracy: 0.9313 - val_loss: 0.1246 - val_precision_1: 0.0000e+00 - val_recall_1: 0.0000e+00 - val_accuracy: 0.9621\n",
      "Epoch 18/20\n",
      "17/17 - 0s - loss: 0.1892 - precision_1: 1.0000 - recall_1: 0.0278 - accuracy: 0.9332 - val_loss: 0.1172 - val_precision_1: 0.0000e+00 - val_recall_1: 0.0000e+00 - val_accuracy: 0.9621\n",
      "Epoch 19/20\n",
      "17/17 - 0s - loss: 0.1896 - precision_1: 0.5000 - recall_1: 0.0278 - accuracy: 0.9313 - val_loss: 0.1108 - val_precision_1: 0.0000e+00 - val_recall_1: 0.0000e+00 - val_accuracy: 0.9621\n",
      "Epoch 20/20\n",
      "17/17 - 0s - loss: 0.1766 - precision_1: 1.0000 - recall_1: 0.1111 - accuracy: 0.9389 - val_loss: 0.1039 - val_precision_1: 0.0000e+00 - val_recall_1: 0.0000e+00 - val_accuracy: 0.9621\n"
     ]
    }
   ],
   "source": [
    "#informed model\n",
    "\n",
    "model = Sequential() \n",
    "\n",
    "#Input layer\n",
    "model.add(Dense(units=10, \n",
    "            input_dim=31, # i have 31 features\n",
    "            kernel_initializer='uniform', # all features have the same weight\n",
    "            activation='relu'   \n",
    "               ))\n",
    "model.add(Dropout(0.5))  #randomly sets 0.5 units to 0. To prevent overfitting\n",
    "#Hidden layer 1\n",
    "model.add(Dense(units=10,  \n",
    "                kernel_initializer='uniform', \n",
    "                activation='relu'))\n",
    "model.add(Dropout(0.5))\n",
    "\n",
    "\n",
    "\n",
    "#Output layer\n",
    "model.add(Dense(units=1,\n",
    "                kernel_initializer='uniform', \n",
    "                activation='sigmoid',\n",
    "                bias_initializer=output_bias))\n",
    "\n",
    "#model(output_bias=initial_bias)\n",
    "\n",
    "print(model.summary()) #for showing the structure and parameters\n",
    "\n",
    "# Defining how to measure performance\n",
    "model.compile(loss='binary_crossentropy',   \n",
    "              optimizer='adam',\n",
    "               metrics=[tf.keras.metrics.Precision(), tf.keras.metrics.Recall(),'accuracy'])\n",
    "\n",
    "\n",
    "# Train the model\n",
    "# Verbose=2, showing loss and accuracy change timely\n",
    "#remove batch_size, the dataset is small. -> it increases recall.\n",
    "careful_bias_history = model.fit(x=X_train, y=y_train,  \n",
    "                          validation_split=0.2, epochs=20, verbose=2) \n"
   ]
  },
  {
   "cell_type": "code",
   "execution_count": 13,
   "metadata": {},
   "outputs": [],
   "source": [
    "def plot_loss(history, label, n):\n",
    "  # Use a log scale on y-axis to show the wide range of values.\n",
    "    colorlist = [\"blue\", \"darkorange\"]\n",
    "    plt.semilogy(history.epoch, history.history['loss'],\n",
    "               color=colorlist[n], label='Train ' + label)\n",
    "    plt.semilogy(history.epoch, history.history['val_loss'],\n",
    "               color=colorlist[n], label='Val ' + label,\n",
    "               linestyle=\"--\")\n",
    "    \n",
    "    plt.legend()\n",
    "\n",
    "    plt.xlabel('Epoch')\n",
    "    plt.ylabel('Loss')\n"
   ]
  },
  {
   "cell_type": "code",
   "execution_count": 14,
   "metadata": {},
   "outputs": [
    {
     "data": {
      "image/png": "[encoded data removed]",
      "text/plain": [
       "<Figure size 432x288 with 1 Axes>"
      ]
     },
     "metadata": {
      "needs_background": "light"
     },
     "output_type": "display_data"
    }
   ],
   "source": [
    "plot_loss(no_bias_history, \"Zero Bias\", 0)\n",
    "plot_loss(careful_bias_history, \"Initial Bias\", 1)"
   ]
  },
  {
   "cell_type": "markdown",
   "metadata": {},
   "source": [
    "### Conclusion, using an initial bias reduces the loss of the model in the first epochs, but the validation loss after 15 epochs is not much different\n"
   ]
  },
  {
   "cell_type": "code",
   "execution_count": 15,
   "metadata": {},
   "outputs": [],
   "source": [
    "def show_train_history(train_history,train,validation):\n",
    "    plt.plot(train_history.history[train])\n",
    "    plt.plot(train_history.history[validation])\n",
    "    plt.title('Train History')\n",
    "    plt.ylabel(train)\n",
    "    plt.xlabel('Epoch')\n",
    "    plt.legend(['train', 'validation'], loc='best')\n",
    "    plt.show()"
   ]
  },
  {
   "cell_type": "code",
   "execution_count": 16,
   "metadata": {},
   "outputs": [
    {
     "data": {
      "image/png": "[encoded data removed]",
      "text/plain": [
       "<Figure size 432x288 with 1 Axes>"
      ]
     },
     "metadata": {
      "needs_background": "light"
     },
     "output_type": "display_data"
    },
    {
     "data": {
      "image/png": "[encoded data removed]",
      "text/plain": [
       "<Figure size 432x288 with 1 Axes>"
      ]
     },
     "metadata": {
      "needs_background": "light"
     },
     "output_type": "display_data"
    }
   ],
   "source": [
    "#visualize the loss and accuracy after each epoch\n",
    "show_train_history(careful_bias_history,'accuracy','val_accuracy')\n",
    "show_train_history(careful_bias_history,'loss','val_loss')\n"
   ]
  },
  {
   "cell_type": "code",
   "execution_count": 17,
   "metadata": {},
   "outputs": [
    {
     "data": {
      "image/png": "[encoded data removed]",
      "text/plain": [
       "<Figure size 432x288 with 1 Axes>"
      ]
     },
     "metadata": {
      "needs_background": "light"
     },
     "output_type": "display_data"
    }
   ],
   "source": [
    "show_train_history(careful_bias_history,'recall_1','val_recall_1')"
   ]
  },
  {
   "cell_type": "markdown",
   "metadata": {},
   "source": [
    "### The recall in this model is 0. It doesn't predict any cancer cases (of the 9 present)"
   ]
  },
  {
   "cell_type": "code",
   "execution_count": 18,
   "metadata": {},
   "outputs": [],
   "source": [
    "train_predictions_baseline = model.predict(X_train)\n",
    "test_predictions_baseline = model.predict(X_test)\n"
   ]
  },
  {
   "cell_type": "code",
   "execution_count": 19,
   "metadata": {},
   "outputs": [],
   "source": [
    "p=0.5\n",
    "cm = confusion_matrix(y_test, test_predictions_baseline > p)\n"
   ]
  },
  {
   "cell_type": "code",
   "execution_count": 20,
   "metadata": {},
   "outputs": [
    {
     "data": {
      "image/png": "[encoded data removed]",
      "text/plain": [
       "<Figure size 432x288 with 2 Axes>"
      ]
     },
     "metadata": {
      "needs_background": "light"
     },
     "output_type": "display_data"
    }
   ],
   "source": [
    "cm_display = ConfusionMatrixDisplay(cm).plot()"
   ]
  },
  {
   "cell_type": "code",
   "execution_count": 21,
   "metadata": {},
   "outputs": [
    {
     "name": "stdout",
     "output_type": "stream",
     "text": [
      "4/4 [==============================] - 0s 3ms/step - loss: 0.2289 - precision_1: 0.0000e+00 - recall_1: 0.0000e+00 - accuracy: 0.9224\n",
      "\n",
      "\n",
      "recall= 0.0\n"
     ]
    }
   ],
   "source": [
    "scores = model.evaluate(X_test, y_test)\n",
    "print('\\n')\n",
    "print('recall=',scores[2])"
   ]
  },
  {
   "cell_type": "markdown",
   "metadata": {},
   "source": [
    "#### if I run the exact same model (500 units per layer and 3 hidden layers) the \"learning\" of the model with bias information is not better than the uninformed model. Not a really good trick here."
   ]
  },
  {
   "cell_type": "code",
   "execution_count": 22,
   "metadata": {},
   "outputs": [
    {
     "name": "stdout",
     "output_type": "stream",
     "text": [
      "Model: \"sequential_2\"\n",
      "_________________________________________________________________\n",
      "Layer (type)                 Output Shape              Param #   \n",
      "=================================================================\n",
      "dense_6 (Dense)              (None, 500)               16000     \n",
      "_________________________________________________________________\n",
      "dropout_4 (Dropout)          (None, 500)               0         \n",
      "_________________________________________________________________\n",
      "dense_7 (Dense)              (None, 500)               250500    \n",
      "_________________________________________________________________\n",
      "dropout_5 (Dropout)          (None, 500)               0         \n",
      "_________________________________________________________________\n",
      "dense_8 (Dense)              (None, 500)               250500    \n",
      "_________________________________________________________________\n",
      "dropout_6 (Dropout)          (None, 500)               0         \n",
      "_________________________________________________________________\n",
      "dense_9 (Dense)              (None, 500)               250500    \n",
      "_________________________________________________________________\n",
      "dropout_7 (Dropout)          (None, 500)               0         \n",
      "_________________________________________________________________\n",
      "dense_10 (Dense)             (None, 1)                 501       \n",
      "=================================================================\n",
      "Total params: 768,001\n",
      "Trainable params: 768,001\n",
      "Non-trainable params: 0\n",
      "_________________________________________________________________\n",
      "None\n",
      "Epoch 1/20\n",
      "17/17 - 1s - loss: 0.5283 - precision_2: 0.0714 - recall_2: 0.0556 - accuracy: 0.8855 - val_loss: 0.2042 - val_precision_2: 0.0000e+00 - val_recall_2: 0.0000e+00 - val_accuracy: 0.9621\n",
      "Epoch 2/20\n",
      "17/17 - 0s - loss: 0.2360 - precision_2: 0.0000e+00 - recall_2: 0.0000e+00 - accuracy: 0.9313 - val_loss: 0.1461 - val_precision_2: 0.0000e+00 - val_recall_2: 0.0000e+00 - val_accuracy: 0.9621\n",
      "Epoch 3/20\n",
      "17/17 - 0s - loss: 0.1890 - precision_2: 0.0000e+00 - recall_2: 0.0000e+00 - accuracy: 0.9313 - val_loss: 0.1172 - val_precision_2: 0.0000e+00 - val_recall_2: 0.0000e+00 - val_accuracy: 0.9621\n",
      "Epoch 4/20\n",
      "17/17 - 0s - loss: 0.1405 - precision_2: 0.0000e+00 - recall_2: 0.0000e+00 - accuracy: 0.9313 - val_loss: 0.0877 - val_precision_2: 0.0000e+00 - val_recall_2: 0.0000e+00 - val_accuracy: 0.9621\n",
      "Epoch 5/20\n",
      "17/17 - 0s - loss: 0.1179 - precision_2: 0.0000e+00 - recall_2: 0.0000e+00 - accuracy: 0.9313 - val_loss: 0.0674 - val_precision_2: 0.0000e+00 - val_recall_2: 0.0000e+00 - val_accuracy: 0.9621\n",
      "Epoch 6/20\n",
      "17/17 - 0s - loss: 0.0999 - precision_2: 0.0000e+00 - recall_2: 0.0000e+00 - accuracy: 0.9313 - val_loss: 0.0675 - val_precision_2: 0.0000e+00 - val_recall_2: 0.0000e+00 - val_accuracy: 0.9621\n",
      "Epoch 7/20\n",
      "17/17 - 0s - loss: 0.0842 - precision_2: 0.0000e+00 - recall_2: 0.0000e+00 - accuracy: 0.9313 - val_loss: 0.0544 - val_precision_2: 0.0000e+00 - val_recall_2: 0.0000e+00 - val_accuracy: 0.9621\n",
      "Epoch 8/20\n",
      "17/17 - 0s - loss: 0.0796 - precision_2: 1.0000 - recall_2: 0.1389 - accuracy: 0.9408 - val_loss: 0.0712 - val_precision_2: 0.5000 - val_recall_2: 0.2000 - val_accuracy: 0.9621\n",
      "Epoch 9/20\n",
      "17/17 - 0s - loss: 0.0806 - precision_2: 0.8095 - recall_2: 0.4722 - accuracy: 0.9561 - val_loss: 0.0748 - val_precision_2: 0.5000 - val_recall_2: 0.4000 - val_accuracy: 0.9621\n",
      "Epoch 10/20\n",
      "17/17 - 0s - loss: 0.0751 - precision_2: 0.8235 - recall_2: 0.7778 - accuracy: 0.9733 - val_loss: 0.0575 - val_precision_2: 0.6667 - val_recall_2: 0.4000 - val_accuracy: 0.9697\n",
      "Epoch 11/20\n",
      "17/17 - 0s - loss: 0.0646 - precision_2: 0.8205 - recall_2: 0.8889 - accuracy: 0.9790 - val_loss: 0.0619 - val_precision_2: 0.6667 - val_recall_2: 0.8000 - val_accuracy: 0.9773\n",
      "Epoch 12/20\n",
      "17/17 - 0s - loss: 0.0578 - precision_2: 0.8421 - recall_2: 0.8889 - accuracy: 0.9809 - val_loss: 0.1194 - val_precision_2: 0.6000 - val_recall_2: 0.6000 - val_accuracy: 0.9697\n",
      "Epoch 13/20\n",
      "17/17 - 0s - loss: 0.0513 - precision_2: 0.8333 - recall_2: 0.9722 - accuracy: 0.9847 - val_loss: 0.0795 - val_precision_2: 0.6667 - val_recall_2: 0.8000 - val_accuracy: 0.9773\n",
      "Epoch 14/20\n",
      "17/17 - 0s - loss: 0.0457 - precision_2: 0.8684 - recall_2: 0.9167 - accuracy: 0.9847 - val_loss: 0.0602 - val_precision_2: 0.7500 - val_recall_2: 0.6000 - val_accuracy: 0.9773\n",
      "Epoch 15/20\n",
      "17/17 - 0s - loss: 0.0427 - precision_2: 0.7907 - recall_2: 0.9444 - accuracy: 0.9790 - val_loss: 0.1868 - val_precision_2: 0.5000 - val_recall_2: 0.2000 - val_accuracy: 0.9621\n",
      "Epoch 16/20\n",
      "17/17 - 0s - loss: 0.0425 - precision_2: 0.8611 - recall_2: 0.8611 - accuracy: 0.9809 - val_loss: 0.0581 - val_precision_2: 0.7500 - val_recall_2: 0.6000 - val_accuracy: 0.9773\n",
      "Epoch 17/20\n",
      "17/17 - 0s - loss: 0.0554 - precision_2: 0.8611 - recall_2: 0.8611 - accuracy: 0.9809 - val_loss: 0.0388 - val_precision_2: 0.6667 - val_recall_2: 0.8000 - val_accuracy: 0.9773\n",
      "Epoch 18/20\n",
      "17/17 - 0s - loss: 0.0532 - precision_2: 0.8095 - recall_2: 0.9444 - accuracy: 0.9809 - val_loss: 0.1692 - val_precision_2: 0.5000 - val_recall_2: 0.2000 - val_accuracy: 0.9621\n",
      "Epoch 19/20\n",
      "17/17 - 0s - loss: 0.0555 - precision_2: 0.8824 - recall_2: 0.8333 - accuracy: 0.9809 - val_loss: 0.0516 - val_precision_2: 0.6000 - val_recall_2: 0.6000 - val_accuracy: 0.9697\n",
      "Epoch 20/20\n",
      "17/17 - 0s - loss: 0.0386 - precision_2: 0.8293 - recall_2: 0.9444 - accuracy: 0.9828 - val_loss: 0.1678 - val_precision_2: 0.0000e+00 - val_recall_2: 0.0000e+00 - val_accuracy: 0.9545\n"
     ]
    }
   ],
   "source": [
    "# Uninformed complete model:\n",
    "\n",
    "\n",
    "model = Sequential() \n",
    "\n",
    "#Input layer\n",
    "model.add(Dense(units=500, \n",
    "            input_dim=31, # I have 31 features\n",
    "            kernel_initializer='uniform', # all features have the same weight\n",
    "            activation='relu'\n",
    "               ))\n",
    "model.add(Dropout(0.5))  #randomly sets 0.5 units to 0. To prevent overfitting\n",
    "#Hidden layer 1\n",
    "model.add(Dense(units=500,  \n",
    "                kernel_initializer='uniform', \n",
    "                activation='relu'))\n",
    "model.add(Dropout(0.5))\n",
    "\n",
    "#Hidden layer 2\n",
    "model.add(Dense(units=500,  \n",
    "                kernel_initializer='uniform', \n",
    "                activation='relu'))\n",
    "model.add(Dropout(0.5))\n",
    "\n",
    "#Hidden layer 3\n",
    "model.add(Dense(units=500,  \n",
    "                kernel_initializer='uniform', \n",
    "                activation='relu'))\n",
    "model.add(Dropout(0.5))\n",
    "\n",
    "#Output layer\n",
    "model.add(Dense(units=1,\n",
    "                kernel_initializer='uniform', \n",
    "                activation='sigmoid'))\n",
    "\n",
    "\n",
    "print(model.summary()) #for showing the structure and parameters\n",
    "\n",
    "# Defining how to measure performance\n",
    "model.compile(loss='binary_crossentropy',   \n",
    "              optimizer='adam',\n",
    "               metrics=[tf.keras.metrics.Precision(), tf.keras.metrics.Recall(),'accuracy'])\n",
    "\n",
    "\n",
    "# Train the model\n",
    "# Verbose=2, showing loss and accuracy change timely\n",
    "#remove batch_size, the dataset is small. ->  training the network with the whole ds increases recall.\n",
    "train_history_unbiased = model.fit(x=X_train, y=y_train,  \n",
    "                          validation_split=0.2, epochs=20, verbose=2) \n"
   ]
  },
  {
   "cell_type": "code",
   "execution_count": 23,
   "metadata": {},
   "outputs": [
    {
     "name": "stdout",
     "output_type": "stream",
     "text": [
      "Model: \"sequential_3\"\n",
      "_________________________________________________________________\n",
      "Layer (type)                 Output Shape              Param #   \n",
      "=================================================================\n",
      "dense_11 (Dense)             (None, 500)               16000     \n",
      "_________________________________________________________________\n",
      "dropout_8 (Dropout)          (None, 500)               0         \n",
      "_________________________________________________________________\n",
      "dense_12 (Dense)             (None, 500)               250500    \n",
      "_________________________________________________________________\n",
      "dropout_9 (Dropout)          (None, 500)               0         \n",
      "_________________________________________________________________\n",
      "dense_13 (Dense)             (None, 500)               250500    \n",
      "_________________________________________________________________\n",
      "dropout_10 (Dropout)         (None, 500)               0         \n",
      "_________________________________________________________________\n",
      "dense_14 (Dense)             (None, 500)               250500    \n",
      "_________________________________________________________________\n",
      "dropout_11 (Dropout)         (None, 500)               0         \n",
      "_________________________________________________________________\n",
      "dense_15 (Dense)             (None, 1)                 501       \n",
      "=================================================================\n",
      "Total params: 768,001\n",
      "Trainable params: 768,001\n",
      "Non-trainable params: 0\n",
      "_________________________________________________________________\n",
      "None\n",
      "Epoch 1/20\n",
      "17/17 - 1s - loss: 0.2529 - precision_3: 0.0000e+00 - recall_3: 0.0000e+00 - accuracy: 0.9313 - val_loss: 0.1643 - val_precision_3: 0.0000e+00 - val_recall_3: 0.0000e+00 - val_accuracy: 0.9621\n",
      "Epoch 2/20\n",
      "17/17 - 0s - loss: 0.2459 - precision_3: 0.0000e+00 - recall_3: 0.0000e+00 - accuracy: 0.9313 - val_loss: 0.1411 - val_precision_3: 0.0000e+00 - val_recall_3: 0.0000e+00 - val_accuracy: 0.9621\n",
      "Epoch 3/20\n",
      "17/17 - 0s - loss: 0.2020 - precision_3: 0.0000e+00 - recall_3: 0.0000e+00 - accuracy: 0.9313 - val_loss: 0.1042 - val_precision_3: 0.0000e+00 - val_recall_3: 0.0000e+00 - val_accuracy: 0.9621\n",
      "Epoch 4/20\n",
      "17/17 - 0s - loss: 0.1311 - precision_3: 0.6667 - recall_3: 0.4444 - accuracy: 0.9466 - val_loss: 0.0959 - val_precision_3: 0.6667 - val_recall_3: 0.8000 - val_accuracy: 0.9773\n",
      "Epoch 5/20\n",
      "17/17 - 0s - loss: 0.1136 - precision_3: 0.7143 - recall_3: 0.6944 - accuracy: 0.9599 - val_loss: 0.1085 - val_precision_3: 0.5000 - val_recall_3: 0.2000 - val_accuracy: 0.9621\n",
      "Epoch 6/20\n",
      "17/17 - 0s - loss: 0.0958 - precision_3: 0.7273 - recall_3: 0.6667 - accuracy: 0.9599 - val_loss: 0.0693 - val_precision_3: 0.6667 - val_recall_3: 0.4000 - val_accuracy: 0.9697\n",
      "Epoch 7/20\n",
      "17/17 - 0s - loss: 0.0508 - precision_3: 0.8649 - recall_3: 0.8889 - accuracy: 0.9828 - val_loss: 0.1134 - val_precision_3: 0.5000 - val_recall_3: 0.2000 - val_accuracy: 0.9621\n",
      "Epoch 8/20\n",
      "17/17 - 0s - loss: 0.0928 - precision_3: 0.7838 - recall_3: 0.8056 - accuracy: 0.9714 - val_loss: 0.0621 - val_precision_3: 0.6000 - val_recall_3: 0.6000 - val_accuracy: 0.9697\n",
      "Epoch 9/20\n",
      "17/17 - 0s - loss: 0.0869 - precision_3: 0.8148 - recall_3: 0.6111 - accuracy: 0.9637 - val_loss: 0.0779 - val_precision_3: 0.7500 - val_recall_3: 0.6000 - val_accuracy: 0.9773\n",
      "Epoch 10/20\n",
      "17/17 - 0s - loss: 0.0564 - precision_3: 0.8421 - recall_3: 0.8889 - accuracy: 0.9809 - val_loss: 0.0869 - val_precision_3: 0.7500 - val_recall_3: 0.6000 - val_accuracy: 0.9773\n",
      "Epoch 11/20\n",
      "17/17 - 0s - loss: 0.0558 - precision_3: 0.8462 - recall_3: 0.9167 - accuracy: 0.9828 - val_loss: 0.1481 - val_precision_3: 0.6667 - val_recall_3: 0.4000 - val_accuracy: 0.9697\n",
      "Epoch 12/20\n",
      "17/17 - 0s - loss: 0.0487 - precision_3: 0.8378 - recall_3: 0.8611 - accuracy: 0.9790 - val_loss: 0.1223 - val_precision_3: 0.6000 - val_recall_3: 0.6000 - val_accuracy: 0.9697\n",
      "Epoch 13/20\n",
      "17/17 - 0s - loss: 0.0489 - precision_3: 0.9062 - recall_3: 0.8056 - accuracy: 0.9809 - val_loss: 0.1609 - val_precision_3: 0.5000 - val_recall_3: 0.2000 - val_accuracy: 0.9621\n",
      "Epoch 14/20\n",
      "17/17 - 0s - loss: 0.0300 - precision_3: 0.8718 - recall_3: 0.9444 - accuracy: 0.9866 - val_loss: 0.1276 - val_precision_3: 0.5000 - val_recall_3: 0.4000 - val_accuracy: 0.9621\n",
      "Epoch 15/20\n",
      "17/17 - 0s - loss: 0.0564 - precision_3: 0.8788 - recall_3: 0.8056 - accuracy: 0.9790 - val_loss: 0.1039 - val_precision_3: 0.5000 - val_recall_3: 0.4000 - val_accuracy: 0.9621\n",
      "Epoch 16/20\n",
      "17/17 - 0s - loss: 0.0444 - precision_3: 0.8333 - recall_3: 0.9722 - accuracy: 0.9847 - val_loss: 0.1607 - val_precision_3: 0.5000 - val_recall_3: 0.2000 - val_accuracy: 0.9621\n",
      "Epoch 17/20\n",
      "17/17 - 0s - loss: 0.0476 - precision_3: 0.9000 - recall_3: 0.7500 - accuracy: 0.9771 - val_loss: 0.1019 - val_precision_3: 0.6000 - val_recall_3: 0.6000 - val_accuracy: 0.9697\n",
      "Epoch 18/20\n",
      "17/17 - 0s - loss: 0.0326 - precision_3: 0.9429 - recall_3: 0.9167 - accuracy: 0.9905 - val_loss: 0.1022 - val_precision_3: 0.6000 - val_recall_3: 0.6000 - val_accuracy: 0.9697\n",
      "Epoch 19/20\n",
      "17/17 - 0s - loss: 0.0416 - precision_3: 0.9118 - recall_3: 0.8611 - accuracy: 0.9847 - val_loss: 0.2102 - val_precision_3: 0.3333 - val_recall_3: 0.2000 - val_accuracy: 0.9545\n",
      "Epoch 20/20\n",
      "17/17 - 0s - loss: 0.0288 - precision_3: 0.8718 - recall_3: 0.9444 - accuracy: 0.9866 - val_loss: 0.1920 - val_precision_3: 0.3333 - val_recall_3: 0.2000 - val_accuracy: 0.9545\n"
     ]
    }
   ],
   "source": [
    "#Complete model with bias information:\n",
    "\n",
    "model = Sequential() \n",
    "\n",
    "#Input layer\n",
    "model.add(Dense(units=500, \n",
    "            input_dim=31, # I have 31 features\n",
    "            kernel_initializer='uniform', # all features have the same weight\n",
    "            activation='relu'\n",
    "               ))\n",
    "model.add(Dropout(0.5))  #randomly sets 0.5 units to 0. To prevent overfitting\n",
    "#Hidden layer 1\n",
    "model.add(Dense(units=500,  \n",
    "                kernel_initializer='uniform', \n",
    "                activation='relu'))\n",
    "model.add(Dropout(0.5))\n",
    "\n",
    "#Hidden layer 2\n",
    "model.add(Dense(units=500,  \n",
    "                kernel_initializer='uniform', \n",
    "                activation='relu'))\n",
    "model.add(Dropout(0.5))\n",
    "\n",
    "#Hidden layer 3\n",
    "model.add(Dense(units=500,  \n",
    "                kernel_initializer='uniform', \n",
    "                activation='relu'))\n",
    "model.add(Dropout(0.5))\n",
    "\n",
    "#Output layer\n",
    "model.add(Dense(units=1,\n",
    "                kernel_initializer='uniform', \n",
    "                activation='sigmoid',\n",
    "                bias_initializer=output_bias))\n",
    "\n",
    "\n",
    "print(model.summary()) #for showing the structure and parameters\n",
    "\n",
    "# Defining how to measure performance\n",
    "model.compile(loss='binary_crossentropy',   \n",
    "              optimizer='adam',\n",
    "               metrics=[tf.keras.metrics.Precision(), tf.keras.metrics.Recall(),'accuracy'])\n",
    "\n",
    "\n",
    "# Train the model\n",
    "# Verbose=2, showing loss and accuracy change timely\n",
    "#remove batch_size, the dataset is small. ->  training the network with the whole ds increases recall.\n",
    "train_history_biased = model.fit(x=X_train, y=y_train,  \n",
    "                          validation_split=0.2, epochs=20, verbose=2) \n"
   ]
  },
  {
   "cell_type": "code",
   "execution_count": 24,
   "metadata": {},
   "outputs": [
    {
     "data": {
      "image/png": "[encoded data removed]",
      "text/plain": [
       "<Figure size 432x288 with 1 Axes>"
      ]
     },
     "metadata": {
      "needs_background": "light"
     },
     "output_type": "display_data"
    }
   ],
   "source": [
    "plot_loss(train_history_unbiased, \"Zero Bias\", 0)\n",
    "plot_loss(train_history_biased, \"Initial Bias\", 1)"
   ]
  },
  {
   "cell_type": "markdown",
   "metadata": {},
   "source": [
    "### When a more complex model is used, the bias advantatge is lost, even with less epochs"
   ]
  },
  {
   "cell_type": "markdown",
   "metadata": {},
   "source": [
    "### Let's try something different in \"cervix_project_2_Model_design_3\""
   ]
  }
 ],
 "metadata": {
  "kernelspec": {
   "display_name": "Python 3",
   "language": "python",
   "name": "python3"
  },
  "language_info": {
   "codemirror_mode": {
    "name": "ipython",
    "version": 3
   },
   "file_extension": ".py",
   "mimetype": "text/x-python",
   "name": "python",
   "nbconvert_exporter": "python",
   "pygments_lexer": "ipython3",
   "version": "3.8.5"
  }
 },
 "nbformat": 4,
 "nbformat_minor": 4
}
